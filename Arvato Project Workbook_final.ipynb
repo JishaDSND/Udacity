{
 "cells": [
  {
   "cell_type": "markdown",
   "metadata": {},
   "source": [
    "# Capstone Project: Create a Customer Segmentation Report for Arvato Financial Services\n",
    "\n",
    "In this project, you will analyze demographics data for customers of a mail-order sales company in Germany, comparing it against demographics information for the general population. You'll use unsupervised learning techniques to perform customer segmentation, identifying the parts of the population that best describe the core customer base of the company. Then, you'll apply what you've learned on a third dataset with demographics information for targets of a marketing campaign for the company, and use a model to predict which individuals are most likely to convert into becoming customers for the company. The data that you will use has been provided by our partners at Bertelsmann Arvato Analytics, and represents a real-life data science task.\n",
    "\n",
    "If you completed the first term of this program, you will be familiar with the first part of this project, from the unsupervised learning project. The versions of those two datasets used in this project will include many more features and has not been pre-cleaned. You are also free to choose whatever approach you'd like to analyzing the data rather than follow pre-determined steps. In your work on this project, make sure that you carefully document your steps and decisions, since your main deliverable for this project will be a blog post reporting your findings."
   ]
  },
  {
   "cell_type": "code",
   "execution_count": 2,
   "metadata": {},
   "outputs": [],
   "source": [
    "# import libraries here; add more as necessary\n",
    "import numpy as np\n",
    "import pandas as pd\n",
    "from pandas.api.types import is_numeric_dtype\n",
    "import matplotlib.pyplot as plt\n",
    "import seaborn as sns\n",
    "\n",
    "from sklearn.preprocessing import Imputer\n",
    "from sklearn.preprocessing import StandardScaler\n",
    "from sklearn.decomposition import PCA\n",
    "from sklearn.cluster import KMeans, MiniBatchKMeans\n",
    "from sklearn.neighbors import KNeighborsRegressor\n",
    "from xgboost import XGBRegressor\n",
    "from lightgbm import LGBMRegressor\n",
    "from sklearn.ensemble import RandomForestRegressor\n",
    "from sklearn.svm import SVR\n",
    "from sklearn.model_selection import train_test_split, StratifiedShuffleSplit, cross_val_score, GridSearchCV\n",
    "from sklearn.preprocessing import StandardScaler\n",
    "from sklearn.metrics import accuracy_score, fbeta_score, precision_score, recall_score, f1_score, roc_auc_score\n",
    "from sklearn.externals import joblib\n",
    "\n",
    "from helper import *\n",
    "from datetime import datetime\n",
    "import time\n",
    "import imblearn\n",
    "\n",
    "import re\n",
    "import pickle\n",
    "\n",
    "# magic word for producing visualizations in notebook\n",
    "%matplotlib inline"
   ]
  },
  {
   "cell_type": "markdown",
   "metadata": {},
   "source": [
    "## Part 0: Get to Know the Data\n",
    "\n",
    "There are four data files associated with this project:\n",
    "\n",
    "- `Udacity_AZDIAS_052018.csv`: Demographics data for the general population of Germany; 891 211 persons (rows) x 366 features (columns).\n",
    "- `Udacity_CUSTOMERS_052018.csv`: Demographics data for customers of a mail-order company; 191 652 persons (rows) x 369 features (columns).\n",
    "- `Udacity_MAILOUT_052018_TRAIN.csv`: Demographics data for individuals who were targets of a marketing campaign; 42 982 persons (rows) x 367 (columns).\n",
    "- `Udacity_MAILOUT_052018_TEST.csv`: Demographics data for individuals who were targets of a marketing campaign; 42 833 persons (rows) x 366 (columns).\n",
    "\n",
    "Each row of the demographics files represents a single person, but also includes information outside of individuals, including information about their household, building, and neighborhood. Use the information from the first two files to figure out how customers (\"CUSTOMERS\") are similar to or differ from the general population at large (\"AZDIAS\"), then use your analysis to make predictions on the other two files (\"MAILOUT\"), predicting which recipients are most likely to become a customer for the mail-order company.\n",
    "\n",
    "The \"CUSTOMERS\" file contains three extra columns ('CUSTOMER_GROUP', 'ONLINE_PURCHASE', and 'PRODUCT_GROUP'), which provide broad information about the customers depicted in the file. The original \"MAILOUT\" file included one additional column, \"RESPONSE\", which indicated whether or not each recipient became a customer of the company. For the \"TRAIN\" subset, this column has been retained, but in the \"TEST\" subset it has been removed; it is against that withheld column that your final predictions will be assessed in the Kaggle competition.\n",
    "\n",
    "Otherwise, all of the remaining columns are the same between the three data files. For more information about the columns depicted in the files, you can refer to two Excel spreadsheets provided in the workspace. [One of them](./DIAS Information Levels - Attributes 2017.xlsx) is a top-level list of attributes and descriptions, organized by informational category. [The other](./DIAS Attributes - Values 2017.xlsx) is a detailed mapping of data values for each feature in alphabetical order.\n",
    "\n",
    "In the below cell, we've provided some initial code to load in the first two datasets. Note for all of the `.csv` data files in this project that they're semicolon (`;`) delimited, so an additional argument in the [`read_csv()`](https://pandas.pydata.org/pandas-docs/stable/generated/pandas.read_csv.html) call has been included to read in the data properly. Also, considering the size of the datasets, it may take some time for them to load completely.\n",
    "\n",
    "You'll notice when the data is loaded in that a warning message will immediately pop up. Before you really start digging into the modeling and analysis, you're going to need to perform some cleaning. Take some time to browse the structure of the data and look over the informational spreadsheets to understand the data values. Make some decisions on which features to keep, which features to drop, and if any revisions need to be made on data formats. It'll be a good idea to create a function with pre-processing steps, since you'll need to clean all of the datasets before you work with them."
   ]
  },
  {
   "cell_type": "markdown",
   "metadata": {},
   "source": [
    "### Part 0.1: Load the data set"
   ]
  },
  {
   "cell_type": "markdown",
   "metadata": {},
   "source": [
    "#### Load Datasets for Customer Segmentation Analysis"
   ]
  },
  {
   "cell_type": "code",
   "execution_count": 2,
   "metadata": {},
   "outputs": [
    {
     "name": "stderr",
     "output_type": "stream",
     "text": [
      "C:\\Users\\hp\\Anaconda3\\lib\\site-packages\\IPython\\core\\interactiveshell.py:2785: DtypeWarning: Columns (19,20) have mixed types. Specify dtype option on import or set low_memory=False.\n",
      "  interactivity=interactivity, compiler=compiler, result=result)\n"
     ]
    }
   ],
   "source": [
    "azdias = pd.read_csv('data/Udacity_AZDIAS_052018.csv')"
   ]
  },
  {
   "cell_type": "markdown",
   "metadata": {},
   "source": [
    "**Column 19 (CAMEO_INTL_2015)** and **Column 20 (CJT_GESAMTTYP)** contain mixed types. We can avoid this warning message by converting these two columns as string-type data."
   ]
  },
  {
   "cell_type": "code",
   "execution_count": 3,
   "metadata": {},
   "outputs": [],
   "source": [
    "# Be sure to add in a lot more cells (both markdown and code) to document your\n",
    "# approach and findings!\n",
    "azdias = pd.read_csv('data/Udacity_AZDIAS_052018.csv',dtype={19:'str',20:'str'})"
   ]
  },
  {
   "cell_type": "code",
   "execution_count": 4,
   "metadata": {},
   "outputs": [],
   "source": [
    "azdias.drop(['Unnamed: 0'],inplace = True, axis = 1)"
   ]
  },
  {
   "cell_type": "code",
   "execution_count": 5,
   "metadata": {},
   "outputs": [],
   "source": [
    "# Load customers data in the similar way\n",
    "customers = pd.read_csv('data/Udacity_CUSTOMERS_052018.csv',dtype={19:'str',20:'str'})"
   ]
  },
  {
   "cell_type": "code",
   "execution_count": 6,
   "metadata": {},
   "outputs": [],
   "source": [
    "customers.drop(['Unnamed: 0'],inplace = True, axis = 1)"
   ]
  },
  {
   "cell_type": "code",
   "execution_count": 7,
   "metadata": {},
   "outputs": [
    {
     "data": {
      "text/html": [
       "<div>\n",
       "<style scoped>\n",
       "    .dataframe tbody tr th:only-of-type {\n",
       "        vertical-align: middle;\n",
       "    }\n",
       "\n",
       "    .dataframe tbody tr th {\n",
       "        vertical-align: top;\n",
       "    }\n",
       "\n",
       "    .dataframe thead th {\n",
       "        text-align: right;\n",
       "    }\n",
       "</style>\n",
       "<table border=\"1\" class=\"dataframe\">\n",
       "  <thead>\n",
       "    <tr style=\"text-align: right;\">\n",
       "      <th></th>\n",
       "      <th>LNR</th>\n",
       "      <th>AGER_TYP</th>\n",
       "      <th>AKT_DAT_KL</th>\n",
       "      <th>ALTER_HH</th>\n",
       "      <th>ALTER_KIND1</th>\n",
       "      <th>ALTER_KIND2</th>\n",
       "      <th>ALTER_KIND3</th>\n",
       "      <th>ALTER_KIND4</th>\n",
       "      <th>ALTERSKATEGORIE_FEIN</th>\n",
       "      <th>ANZ_HAUSHALTE_AKTIV</th>\n",
       "      <th>...</th>\n",
       "      <th>VHN</th>\n",
       "      <th>VK_DHT4A</th>\n",
       "      <th>VK_DISTANZ</th>\n",
       "      <th>VK_ZG11</th>\n",
       "      <th>W_KEIT_KIND_HH</th>\n",
       "      <th>WOHNDAUER_2008</th>\n",
       "      <th>WOHNLAGE</th>\n",
       "      <th>ZABEOTYP</th>\n",
       "      <th>ANREDE_KZ</th>\n",
       "      <th>ALTERSKATEGORIE_GROB</th>\n",
       "    </tr>\n",
       "  </thead>\n",
       "  <tbody>\n",
       "    <tr>\n",
       "      <th>0</th>\n",
       "      <td>910215</td>\n",
       "      <td>-1</td>\n",
       "      <td>NaN</td>\n",
       "      <td>NaN</td>\n",
       "      <td>NaN</td>\n",
       "      <td>NaN</td>\n",
       "      <td>NaN</td>\n",
       "      <td>NaN</td>\n",
       "      <td>NaN</td>\n",
       "      <td>NaN</td>\n",
       "      <td>...</td>\n",
       "      <td>NaN</td>\n",
       "      <td>NaN</td>\n",
       "      <td>NaN</td>\n",
       "      <td>NaN</td>\n",
       "      <td>NaN</td>\n",
       "      <td>NaN</td>\n",
       "      <td>NaN</td>\n",
       "      <td>3</td>\n",
       "      <td>1</td>\n",
       "      <td>2</td>\n",
       "    </tr>\n",
       "    <tr>\n",
       "      <th>1</th>\n",
       "      <td>910220</td>\n",
       "      <td>-1</td>\n",
       "      <td>9.0</td>\n",
       "      <td>0.0</td>\n",
       "      <td>NaN</td>\n",
       "      <td>NaN</td>\n",
       "      <td>NaN</td>\n",
       "      <td>NaN</td>\n",
       "      <td>21.0</td>\n",
       "      <td>11.0</td>\n",
       "      <td>...</td>\n",
       "      <td>4.0</td>\n",
       "      <td>8.0</td>\n",
       "      <td>11.0</td>\n",
       "      <td>10.0</td>\n",
       "      <td>3.0</td>\n",
       "      <td>9.0</td>\n",
       "      <td>4.0</td>\n",
       "      <td>5</td>\n",
       "      <td>2</td>\n",
       "      <td>1</td>\n",
       "    </tr>\n",
       "    <tr>\n",
       "      <th>2</th>\n",
       "      <td>910225</td>\n",
       "      <td>-1</td>\n",
       "      <td>9.0</td>\n",
       "      <td>17.0</td>\n",
       "      <td>NaN</td>\n",
       "      <td>NaN</td>\n",
       "      <td>NaN</td>\n",
       "      <td>NaN</td>\n",
       "      <td>17.0</td>\n",
       "      <td>10.0</td>\n",
       "      <td>...</td>\n",
       "      <td>2.0</td>\n",
       "      <td>9.0</td>\n",
       "      <td>9.0</td>\n",
       "      <td>6.0</td>\n",
       "      <td>3.0</td>\n",
       "      <td>9.0</td>\n",
       "      <td>2.0</td>\n",
       "      <td>5</td>\n",
       "      <td>2</td>\n",
       "      <td>3</td>\n",
       "    </tr>\n",
       "    <tr>\n",
       "      <th>3</th>\n",
       "      <td>910226</td>\n",
       "      <td>2</td>\n",
       "      <td>1.0</td>\n",
       "      <td>13.0</td>\n",
       "      <td>NaN</td>\n",
       "      <td>NaN</td>\n",
       "      <td>NaN</td>\n",
       "      <td>NaN</td>\n",
       "      <td>13.0</td>\n",
       "      <td>1.0</td>\n",
       "      <td>...</td>\n",
       "      <td>0.0</td>\n",
       "      <td>7.0</td>\n",
       "      <td>10.0</td>\n",
       "      <td>11.0</td>\n",
       "      <td>NaN</td>\n",
       "      <td>9.0</td>\n",
       "      <td>7.0</td>\n",
       "      <td>3</td>\n",
       "      <td>2</td>\n",
       "      <td>4</td>\n",
       "    </tr>\n",
       "    <tr>\n",
       "      <th>4</th>\n",
       "      <td>910241</td>\n",
       "      <td>-1</td>\n",
       "      <td>1.0</td>\n",
       "      <td>20.0</td>\n",
       "      <td>NaN</td>\n",
       "      <td>NaN</td>\n",
       "      <td>NaN</td>\n",
       "      <td>NaN</td>\n",
       "      <td>14.0</td>\n",
       "      <td>3.0</td>\n",
       "      <td>...</td>\n",
       "      <td>2.0</td>\n",
       "      <td>3.0</td>\n",
       "      <td>5.0</td>\n",
       "      <td>4.0</td>\n",
       "      <td>2.0</td>\n",
       "      <td>9.0</td>\n",
       "      <td>3.0</td>\n",
       "      <td>4</td>\n",
       "      <td>1</td>\n",
       "      <td>3</td>\n",
       "    </tr>\n",
       "  </tbody>\n",
       "</table>\n",
       "<p>5 rows × 366 columns</p>\n",
       "</div>"
      ],
      "text/plain": [
       "      LNR  AGER_TYP  AKT_DAT_KL  ALTER_HH  ALTER_KIND1  ALTER_KIND2  \\\n",
       "0  910215        -1         NaN       NaN          NaN          NaN   \n",
       "1  910220        -1         9.0       0.0          NaN          NaN   \n",
       "2  910225        -1         9.0      17.0          NaN          NaN   \n",
       "3  910226         2         1.0      13.0          NaN          NaN   \n",
       "4  910241        -1         1.0      20.0          NaN          NaN   \n",
       "\n",
       "   ALTER_KIND3  ALTER_KIND4  ALTERSKATEGORIE_FEIN  ANZ_HAUSHALTE_AKTIV  \\\n",
       "0          NaN          NaN                   NaN                  NaN   \n",
       "1          NaN          NaN                  21.0                 11.0   \n",
       "2          NaN          NaN                  17.0                 10.0   \n",
       "3          NaN          NaN                  13.0                  1.0   \n",
       "4          NaN          NaN                  14.0                  3.0   \n",
       "\n",
       "          ...           VHN  VK_DHT4A  VK_DISTANZ  VK_ZG11  W_KEIT_KIND_HH  \\\n",
       "0         ...           NaN       NaN         NaN      NaN             NaN   \n",
       "1         ...           4.0       8.0        11.0     10.0             3.0   \n",
       "2         ...           2.0       9.0         9.0      6.0             3.0   \n",
       "3         ...           0.0       7.0        10.0     11.0             NaN   \n",
       "4         ...           2.0       3.0         5.0      4.0             2.0   \n",
       "\n",
       "   WOHNDAUER_2008  WOHNLAGE ZABEOTYP ANREDE_KZ ALTERSKATEGORIE_GROB  \n",
       "0             NaN       NaN        3         1                    2  \n",
       "1             9.0       4.0        5         2                    1  \n",
       "2             9.0       2.0        5         2                    3  \n",
       "3             9.0       7.0        3         2                    4  \n",
       "4             9.0       3.0        4         1                    3  \n",
       "\n",
       "[5 rows x 366 columns]"
      ]
     },
     "execution_count": 7,
     "metadata": {},
     "output_type": "execute_result"
    }
   ],
   "source": [
    "azdias.head()"
   ]
  },
  {
   "cell_type": "code",
   "execution_count": 8,
   "metadata": {},
   "outputs": [],
   "source": [
    "# Drop the extra column of customers dataset.\n",
    "customers.drop(columns=['CUSTOMER_GROUP', 'ONLINE_PURCHASE', 'PRODUCT_GROUP'], inplace=True)"
   ]
  },
  {
   "cell_type": "code",
   "execution_count": 9,
   "metadata": {},
   "outputs": [
    {
     "name": "stdout",
     "output_type": "stream",
     "text": [
      "Dimension of the demographics data: (891221, 366)\n",
      "Dimension of the customer data: (191652, 366)\n"
     ]
    }
   ],
   "source": [
    "print(\"Dimension of the demographics data:\", azdias.shape)\n",
    "print(\"Dimension of the customer data:\", customers.shape)"
   ]
  },
  {
   "cell_type": "markdown",
   "metadata": {},
   "source": [
    "('X', 'XX') in columns **CAMEO_DEU_2015**, **CAMEO_DEUG_2015**, **CAMEO_INTL_2015** represents missing values, which will be converted into np.nan. "
   ]
  },
  {
   "cell_type": "code",
   "execution_count": 10,
   "metadata": {},
   "outputs": [
    {
     "name": "stdout",
     "output_type": "stream",
     "text": [
      "CAMEO_DEU_2015\n",
      "CAMEO_DEUG_2015\n",
      "CAMEO_INTL_2015\n"
     ]
    }
   ],
   "source": [
    "# check which columns contain 'X' or 'XX' in the population dataset\n",
    "for col in azdias.columns:\n",
    "    if ('X' in set(azdias[col].unique())) or ('XX' in set(azdias[col].unique())):\n",
    "        print(col)"
   ]
  },
  {
   "cell_type": "markdown",
   "metadata": {},
   "source": [
    "### Part 0.2: Preprocess the data dictionaries"
   ]
  },
  {
   "cell_type": "markdown",
   "metadata": {},
   "source": [
    "Let's find the difference between the two data dictionaries provided by the unsupervised learning project and the capstone project. Both dictionaries contains some overlapping features, while some features are not documented anywhere. The first step is to convert the missing codes into NaN values in the dataset, according to the data dictionaries."
   ]
  },
  {
   "cell_type": "code",
   "execution_count": 11,
   "metadata": {},
   "outputs": [
    {
     "data": {
      "text/html": [
       "<div>\n",
       "<style scoped>\n",
       "    .dataframe tbody tr th:only-of-type {\n",
       "        vertical-align: middle;\n",
       "    }\n",
       "\n",
       "    .dataframe tbody tr th {\n",
       "        vertical-align: top;\n",
       "    }\n",
       "\n",
       "    .dataframe thead th {\n",
       "        text-align: right;\n",
       "    }\n",
       "</style>\n",
       "<table border=\"1\" class=\"dataframe\">\n",
       "  <thead>\n",
       "    <tr style=\"text-align: right;\">\n",
       "      <th></th>\n",
       "      <th>attribute</th>\n",
       "      <th>information_level</th>\n",
       "      <th>type</th>\n",
       "      <th>missing_or_unknown</th>\n",
       "    </tr>\n",
       "  </thead>\n",
       "  <tbody>\n",
       "    <tr>\n",
       "      <th>0</th>\n",
       "      <td>AGER_TYP</td>\n",
       "      <td>person</td>\n",
       "      <td>categorical</td>\n",
       "      <td>[-1, 0]</td>\n",
       "    </tr>\n",
       "    <tr>\n",
       "      <th>1</th>\n",
       "      <td>ALTERSKATEGORIE_GROB</td>\n",
       "      <td>person</td>\n",
       "      <td>ordinal</td>\n",
       "      <td>[-1, 0, 9]</td>\n",
       "    </tr>\n",
       "    <tr>\n",
       "      <th>2</th>\n",
       "      <td>ANREDE_KZ</td>\n",
       "      <td>person</td>\n",
       "      <td>categorical</td>\n",
       "      <td>[-1, 0]</td>\n",
       "    </tr>\n",
       "    <tr>\n",
       "      <th>3</th>\n",
       "      <td>CJT_GESAMTTYP</td>\n",
       "      <td>person</td>\n",
       "      <td>categorical</td>\n",
       "      <td>[0]</td>\n",
       "    </tr>\n",
       "    <tr>\n",
       "      <th>4</th>\n",
       "      <td>FINANZ_MINIMALIST</td>\n",
       "      <td>person</td>\n",
       "      <td>ordinal</td>\n",
       "      <td>[-1]</td>\n",
       "    </tr>\n",
       "  </tbody>\n",
       "</table>\n",
       "</div>"
      ],
      "text/plain": [
       "              attribute information_level         type missing_or_unknown\n",
       "0              AGER_TYP            person  categorical            [-1, 0]\n",
       "1  ALTERSKATEGORIE_GROB            person      ordinal         [-1, 0, 9]\n",
       "2             ANREDE_KZ            person  categorical            [-1, 0]\n",
       "3         CJT_GESAMTTYP            person  categorical                [0]\n",
       "4     FINANZ_MINIMALIST            person      ordinal               [-1]"
      ]
     },
     "execution_count": 11,
     "metadata": {},
     "output_type": "execute_result"
    }
   ],
   "source": [
    "# load in the feature summary file provided by previous customer-segmentation project\n",
    "feat_info_csv = pd.read_csv('data/AZDIAS_Feature_Summary.csv', delimiter = ';')\n",
    "# convert missing_or_unknown into lists of NaN: '[-1,0]' -> [-1, 0] and '[-1,XX]' -> [-1, 'XX']\n",
    "X = 'X'\n",
    "XX = 'XX'\n",
    "feat_info_csv['missing_or_unknown'] = feat_info_csv['missing_or_unknown'].apply(lambda x: eval(x))\n",
    "feat_info_csv.head()"
   ]
  },
  {
   "cell_type": "code",
   "execution_count": 21,
   "metadata": {},
   "outputs": [],
   "source": [
    "# load in feature-value information provided by this capstone project \n",
    "feat_info_xls = pd.read_excel('data/DIAS Attributes - Values 2017.xlsx')\n"
   ]
  },
  {
   "cell_type": "code",
   "execution_count": 22,
   "metadata": {},
   "outputs": [
    {
     "data": {
      "text/plain": [
       "Index(['Unnamed: 0', 'Attribute', 'Description', 'Value', 'Meaning'], dtype='object')"
      ]
     },
     "execution_count": 22,
     "metadata": {},
     "output_type": "execute_result"
    }
   ],
   "source": [
    "feat_info_xls.columns"
   ]
  },
  {
   "cell_type": "markdown",
   "metadata": {},
   "source": [
    "#### Lets add data type on this attribute by checking the description and meaning of the attribute manually and use the file for further processing"
   ]
  },
  {
   "cell_type": "code",
   "execution_count": 23,
   "metadata": {},
   "outputs": [],
   "source": [
    "# load in feature-value information provided by this capstone project\n",
    "feat_info_xls = pd.read_excel('data/DIAS Attributes - Values 2017.xlsx')"
   ]
  },
  {
   "cell_type": "code",
   "execution_count": 25,
   "metadata": {},
   "outputs": [
    {
     "data": {
      "text/plain": [
       "Index(['Type', 'Attribute', 'Description', 'Value', 'Meaning'], dtype='object')"
      ]
     },
     "execution_count": 25,
     "metadata": {},
     "output_type": "execute_result"
    }
   ],
   "source": [
    "feat_info_xls.columns"
   ]
  },
  {
   "cell_type": "code",
   "execution_count": 26,
   "metadata": {},
   "outputs": [
    {
     "data": {
      "text/plain": [
       "(2258, 5)"
      ]
     },
     "execution_count": 26,
     "metadata": {},
     "output_type": "execute_result"
    }
   ],
   "source": [
    "feat_info_xls.shape"
   ]
  },
  {
   "cell_type": "code",
   "execution_count": 27,
   "metadata": {},
   "outputs": [],
   "source": [
    "# forward fill the row-wise missing values\n",
    "feat_info_xls[[ 'Attribute','Description', 'Type','Meaning']] = \\\n",
    "            feat_info_xls[[ 'Attribute','Description', 'Type','Meaning']].ffill()\n"
   ]
  },
  {
   "cell_type": "code",
   "execution_count": 28,
   "metadata": {},
   "outputs": [
    {
     "name": "stdout",
     "output_type": "stream",
     "text": [
      "Unique values for represeting the missing values are:  {0, (-1, 0), 10, (-1, 9), -1}\n"
     ]
    },
    {
     "data": {
      "text/html": [
       "<div>\n",
       "<style scoped>\n",
       "    .dataframe tbody tr th:only-of-type {\n",
       "        vertical-align: middle;\n",
       "    }\n",
       "\n",
       "    .dataframe tbody tr th {\n",
       "        vertical-align: top;\n",
       "    }\n",
       "\n",
       "    .dataframe thead th {\n",
       "        text-align: right;\n",
       "    }\n",
       "</style>\n",
       "<table border=\"1\" class=\"dataframe\">\n",
       "  <thead>\n",
       "    <tr style=\"text-align: right;\">\n",
       "      <th></th>\n",
       "      <th>Type</th>\n",
       "      <th>Attribute</th>\n",
       "      <th>Description</th>\n",
       "      <th>Value</th>\n",
       "      <th>Meaning</th>\n",
       "    </tr>\n",
       "  </thead>\n",
       "  <tbody>\n",
       "    <tr>\n",
       "      <th>0</th>\n",
       "      <td>categorical</td>\n",
       "      <td>AGER_TYP</td>\n",
       "      <td>best-ager typology</td>\n",
       "      <td>-1</td>\n",
       "      <td>unknown</td>\n",
       "    </tr>\n",
       "    <tr>\n",
       "      <th>5</th>\n",
       "      <td>ordinal</td>\n",
       "      <td>ALTERSKATEGORIE_GROB</td>\n",
       "      <td>age classification through prename analysis</td>\n",
       "      <td>(-1, 0)</td>\n",
       "      <td>unknown</td>\n",
       "    </tr>\n",
       "    <tr>\n",
       "      <th>11</th>\n",
       "      <td>interval</td>\n",
       "      <td>ALTER_HH</td>\n",
       "      <td>main age within the household</td>\n",
       "      <td>0</td>\n",
       "      <td>unknown / no main age detectable</td>\n",
       "    </tr>\n",
       "    <tr>\n",
       "      <th>33</th>\n",
       "      <td>categorical</td>\n",
       "      <td>ANREDE_KZ</td>\n",
       "      <td>gender</td>\n",
       "      <td>(-1, 0)</td>\n",
       "      <td>unknown</td>\n",
       "    </tr>\n",
       "    <tr>\n",
       "      <th>40</th>\n",
       "      <td>ordinal</td>\n",
       "      <td>BALLRAUM</td>\n",
       "      <td>distance to next urban centre</td>\n",
       "      <td>-1</td>\n",
       "      <td>unknown</td>\n",
       "    </tr>\n",
       "  </tbody>\n",
       "</table>\n",
       "</div>"
      ],
      "text/plain": [
       "           Type             Attribute  \\\n",
       "0   categorical              AGER_TYP   \n",
       "5       ordinal  ALTERSKATEGORIE_GROB   \n",
       "11     interval              ALTER_HH   \n",
       "33  categorical             ANREDE_KZ   \n",
       "40      ordinal              BALLRAUM   \n",
       "\n",
       "                                     Description    Value  \\\n",
       "0                             best-ager typology       -1   \n",
       "5   age classification through prename analysis   (-1, 0)   \n",
       "11                 main age within the household        0   \n",
       "33                                        gender  (-1, 0)   \n",
       "40                distance to next urban centre        -1   \n",
       "\n",
       "                             Meaning  \n",
       "0                            unknown  \n",
       "5                            unknown  \n",
       "11  unknown / no main age detectable  \n",
       "33                           unknown  \n",
       "40                           unknown  "
      ]
     },
     "execution_count": 28,
     "metadata": {},
     "output_type": "execute_result"
    }
   ],
   "source": [
    "# find attributes containing the keywords, such as \"unknown\", whose row will be flagged as missing \n",
    "feat_info_xls['flag'] = feat_info_xls['Meaning'].apply(flag_unknown)\n",
    "# save features with missing-value, and their corresponding values\n",
    "feat_nan_xls = feat_info_xls[feat_info_xls['flag'] == True].drop('flag', axis = 1)\n",
    "feat_nan_xls['Value'] = feat_nan_xls['Value'].astype(str)\n",
    "feat_nan_xls['Value'] = feat_nan_xls['Value'].apply(lambda x: eval(x))\n",
    "nan_set = set(feat_nan_xls.Value)\n",
    "print('Unique values for represeting the missing values are: ', nan_set)\n",
    "feat_nan_xls.head()"
   ]
  },
  {
   "cell_type": "code",
   "execution_count": 29,
   "metadata": {},
   "outputs": [
    {
     "name": "stdout",
     "output_type": "stream",
     "text": [
      "Number of unique features in the data dictionary \"AZDIAS_Feature_Summary.csv\": 85\n",
      "Number of unique features in the data dictionary \"DIAS Attributes - Values 2017.xlsx\": 314\n",
      "in which 289 unique features are encoded as missing values\n"
     ]
    }
   ],
   "source": [
    "print('Number of unique features in the data dictionary \"AZDIAS_Feature_Summary.csv\":',\\\n",
    "      feat_info_csv['attribute'].nunique())\n",
    "print('Number of unique features in the data dictionary \"DIAS Attributes - Values 2017.xlsx\":',\\\n",
    "      feat_info_xls['Attribute'].nunique())\n",
    "print('in which {} unique features are encoded as missing values'.format(feat_nan_xls['Attribute'].nunique()))"
   ]
  },
  {
   "cell_type": "code",
   "execution_count": 30,
   "metadata": {},
   "outputs": [
    {
     "name": "stdout",
     "output_type": "stream",
     "text": [
      "There are 90 features in the dataset not documented anywhere.\n",
      "{'CJT_TYP_6', 'D19_DROGERIEARTIKEL', 'D19_GARTEN', 'ANZ_KINDER', 'ALTER_KIND4', 'KBA13_KMH_210', 'CJT_TYP_2', 'RT_SCHNAEPPCHEN', 'D19_TELKO_MOBILE', 'ANZ_STATISTISCHE_HAUSHALTE', 'CJT_TYP_3', 'D19_FREIZEIT', 'EINGEZOGENAM_HH_JAHR', 'D19_KOSMETIK', 'D19_BILDUNG', 'D19_BANKEN_GROSS', 'KBA13_ANTG1', 'D19_HANDWERK', 'D19_LOTTO', 'AKT_DAT_KL', 'GEMEINDETYP', 'D19_LETZTER_KAUF_BRANCHE', 'MOBI_RASTER', 'KBA13_GBZ', 'D19_SOZIALES', 'D19_VERSI_ONLINE_QUOTE_12', 'D19_TIERARTIKEL', 'KONSUMZELLE', 'D19_VERSI_OFFLINE_DATUM', 'KBA13_ANTG4', 'D19_VERSI_ONLINE_DATUM', 'LNR', 'D19_REISEN', 'D19_SONSTIGE', 'VERDICHTUNGSRAUM', 'VHN', 'HH_DELTA_FLAG', 'D19_TECHNIK', 'STRUKTURTYP', 'D19_BANKEN_LOKAL', 'D19_RATGEBER', 'VK_ZG11', 'D19_BANKEN_REST', 'D19_DIGIT_SERV', 'D19_HAUS_DEKO', 'CJT_TYP_4', 'KBA13_ANTG2', 'D19_SAMMELARTIKEL', 'KBA13_BAUMAX', 'KBA13_HHZ', 'D19_BUCH_CD', 'EINGEFUEGT_AM', 'KOMBIALTER', 'ALTERSKATEGORIE_FEIN', 'CJT_TYP_1', 'D19_NAHRUNGSERGAENZUNG', 'CJT_KATALOGNUTZER', 'D19_BIO_OEKO', 'D19_LEBENSMITTEL', 'D19_KINDERARTIKEL', 'FIRMENDICHTE', 'CJT_TYP_5', 'ALTER_KIND2', 'UMFELD_JUNG', 'UMFELD_ALT', 'D19_KONSUMTYP_MAX', 'EXTSEL992', 'VHA', 'DSL_FLAG', 'D19_TELKO_REST', 'UNGLEICHENN_FLAG', 'D19_VERSICHERUNGEN', 'D19_VOLLSORTIMENT', 'D19_BEKLEIDUNG_GEH', 'ALTER_KIND1', 'D19_ENERGIE', 'KBA13_CCM_1401_2500', 'D19_BEKLEIDUNG_REST', 'ALTER_KIND3', 'D19_BANKEN_DIREKT', 'KBA13_ANTG3', 'D19_VERSAND_REST', 'RT_KEIN_ANREIZ', 'D19_VERSI_DATUM', 'D19_WEIN_FEINKOST', 'VK_DHT4A', 'D19_TELKO_ONLINE_QUOTE_12', 'VK_DISTANZ', 'D19_SCHUHE', 'RT_UEBERGROESSE'}\n"
     ]
    }
   ],
   "source": [
    "# check the number of features from the dataset not found in the dictionary\n",
    "undocumented_features = set(azdias.columns) - set(feat_info_csv['attribute']) - set(feat_info_xls['Attribute'])\n",
    "print(\"There are {} features in the dataset not documented anywhere.\".format(len(undocumented_features)))\n",
    "print(undocumented_features)"
   ]
  },
  {
   "cell_type": "markdown",
   "metadata": {},
   "source": [
    "#### Note: some features in the data dictionary are not found in the dataset."
   ]
  },
  {
   "cell_type": "code",
   "execution_count": 31,
   "metadata": {},
   "outputs": [
    {
     "name": "stdout",
     "output_type": "stream",
     "text": [
      "There are 42 features in the dictionary not found in the dataset\n",
      "{'SOHO_FLAG', 'D19_VERSAND_REST_RZ', 'D19_SCHUHE_RZ', 'D19_HAUS_DEKO_RZ', 'D19_RATGEBER_RZ', 'HAUSHALTSSTRUKTUR', 'D19_BEKLEIDUNG_GEH_RZ', 'D19_DROGERIEARTIKEL_RZ', 'D19_LOTTO_RZ', 'D19_BUCH_RZ', 'D19_BANKEN_DIREKT_RZ', 'D19_BILDUNG_RZ', 'D19_BANKEN_REST_RZ', 'CAMEO_DEUINTL_2015', 'D19_ENERGIE_RZ', 'KBA13_CCM_1400_2500', 'D19_BIO_OEKO_RZ', 'D19_REISEN_RZ', 'D19_TECHNIK_RZ', 'D19_SAMMELARTIKEL_RZ', 'D19_BANKEN_LOKAL_RZ', 'D19_KINDERARTIKEL_RZ', 'WACHSTUMSGEBIET_NB', 'D19_HANDWERK_RZ', 'D19_FREIZEIT_RZ', 'D19_BANKEN_GROSS_RZ', 'D19_TELKO_MOBILE_RZ', 'D19_DIGIT_SERV_RZ', 'D19_WEIN_FEINKOST_RZ', 'D19_KOSMETIK_RZ', 'D19_NAHRUNGSERGAENZUNG_RZ', 'BIP_FLAG', 'GEOSCORE_KLS7', 'D19_BEKLEIDUNG_REST_RZ', 'D19_KK_KUNDENTYP', 'D19_TIERARTIKEL_RZ', 'D19_GARTEN_RZ', 'D19_VOLLSORTIMENT_RZ', 'D19_VERSICHERUNGEN_RZ', 'D19_LEBENSMITTEL_RZ', 'D19_SONSTIGE_RZ', 'D19_TELKO_REST_RZ'}\n"
     ]
    }
   ],
   "source": [
    "# check the number of features from the dictionary not found in the dataset\n",
    "not_found_features =  set(feat_info_xls['Attribute']) - set(azdias.columns)\n",
    "print(\"There are {} features in the dictionary not found in the dataset\".format(len(not_found_features)))\n",
    "print(not_found_features)"
   ]
  },
  {
   "cell_type": "markdown",
   "metadata": {},
   "source": [
    "#### Discussion:"
   ]
  },
  {
   "cell_type": "markdown",
   "metadata": {},
   "source": [
    "These non-overlaping features are mostly belonged to transaction-related features, with prefix \"D19\", and postfix \"_RZ\". Let's remove the postfix of the feature name in the dictionary, and check how many unmatched features remains."
   ]
  },
  {
   "cell_type": "code",
   "execution_count": 32,
   "metadata": {},
   "outputs": [],
   "source": [
    "# rename D19_*_RZ to D19_* in the dictionary\n",
    "feat_info_xls['Attribute'] = feat_info_xls['Attribute'].apply(lambda x: re.sub('_RZ', '', x) if 'D19' in x else x)\n",
    "feat_nan_xls['Attribute'] = feat_nan_xls['Attribute'].apply(lambda x: re.sub('_RZ', '', x) if 'D19' in x else x)"
   ]
  },
  {
   "cell_type": "code",
   "execution_count": 33,
   "metadata": {},
   "outputs": [
    {
     "name": "stdout",
     "output_type": "stream",
     "text": [
      "After remapping, there are 57 features in the dataset not documented anywhere.\n",
      "{'UNGLEICHENN_FLAG', 'VK_ZG11', 'CJT_TYP_6', 'GEMEINDETYP', 'CJT_TYP_4', 'ANZ_KINDER', 'ALTER_KIND4', 'KBA13_KMH_210', 'CJT_TYP_2', 'RT_SCHNAEPPCHEN', 'D19_LETZTER_KAUF_BRANCHE', 'KBA13_ANTG2', 'ANZ_STATISTISCHE_HAUSHALTE', 'KBA13_BAUMAX', 'MOBI_RASTER', 'ALTER_KIND1', 'KBA13_HHZ', 'KBA13_CCM_1401_2500', 'D19_BUCH_CD', 'EINGEFUEGT_AM', 'KBA13_GBZ', 'ALTERSKATEGORIE_FEIN', 'D19_SOZIALES', 'KOMBIALTER', 'CJT_TYP_3', 'CJT_TYP_1', 'CJT_KATALOGNUTZER', 'ALTER_KIND3', 'D19_VERSI_ONLINE_QUOTE_12', 'EINGEZOGENAM_HH_JAHR', 'KONSUMZELLE', 'D19_VERSI_OFFLINE_DATUM', 'KBA13_ANTG3', 'KBA13_ANTG4', 'D19_VERSI_ONLINE_DATUM', 'FIRMENDICHTE', 'LNR', 'RT_KEIN_ANREIZ', 'CJT_TYP_5', 'AKT_DAT_KL', 'D19_VERSI_DATUM', 'ALTER_KIND2', 'UMFELD_JUNG', 'UMFELD_ALT', 'KBA13_ANTG1', 'VK_DHT4A', 'D19_TELKO_ONLINE_QUOTE_12', 'D19_KONSUMTYP_MAX', 'VERDICHTUNGSRAUM', 'VK_DISTANZ', 'VHN', 'EXTSEL992', 'VHA', 'DSL_FLAG', 'HH_DELTA_FLAG', 'RT_UEBERGROESSE', 'STRUKTURTYP'}\n"
     ]
    }
   ],
   "source": [
    "# check again for the number of features from the dataset not found in the dictionary\n",
    "undocumented_features = set(azdias.columns) - set(feat_info_csv['attribute']) - set(feat_info_xls['Attribute'])\n",
    "print(\"After remapping, there are {} features in the dataset not documented anywhere.\".format(len(undocumented_features)))\n",
    "print(undocumented_features)"
   ]
  },
  {
   "cell_type": "code",
   "execution_count": 34,
   "metadata": {
    "scrolled": true
   },
   "outputs": [
    {
     "name": "stdout",
     "output_type": "stream",
     "text": [
      "After remapping, there are still 9 features in the dictionary not found in the dataset\n",
      "{'GEOSCORE_KLS7', 'SOHO_FLAG', 'D19_KK_KUNDENTYP', 'CAMEO_DEUINTL_2015', 'KBA13_CCM_1400_2500', 'D19_BUCH', 'HAUSHALTSSTRUKTUR', 'BIP_FLAG', 'WACHSTUMSGEBIET_NB'}\n"
     ]
    }
   ],
   "source": [
    "# check again for the number of features from the dictionary not found in the dataset\n",
    "not_found_features =  set(feat_info_xls['Attribute']) - set(azdias.columns)\n",
    "print(\"After remapping, there are still {} features in the dictionary not found in the dataset\".format(len(not_found_features)))\n",
    "print(not_found_features)"
   ]
  },
  {
   "cell_type": "code",
   "execution_count": 35,
   "metadata": {},
   "outputs": [],
   "source": [
    "# merge feature missing codes from two dictionaries\n",
    "feat_nan_code = feat_info_csv[['attribute', 'missing_or_unknown']].rename(columns={'attribute': 'Attribute', 'missing_or_unknown': 'Value'})\n",
    "feat_nan_code = pd.concat([feat_nan_code, feat_nan_xls[['Attribute', 'Value']]]).drop_duplicates('Attribute').reset_index(drop=True)"
   ]
  },
  {
   "cell_type": "code",
   "execution_count": 36,
   "metadata": {},
   "outputs": [],
   "source": [
    "# merge feature type from two dictionaries\n",
    "feat_cat = feat_info_csv[['attribute', 'type']].rename(columns={'attribute': 'Attribute', 'type': 'Type'})\n",
    "feat_cat = pd.concat([feat_cat, feat_info_xls[['Attribute', 'Type']]]).drop_duplicates('Attribute').reset_index(drop=True)"
   ]
  },
  {
   "cell_type": "code",
   "execution_count": 38,
   "metadata": {},
   "outputs": [],
   "source": [
    "# export to csv file\n",
    "feat_nan_code.to_csv('data/feature_missing_code.csv', sep = '\\t')\n",
    "feat_cat.to_csv('data/feature_type.csv', sep = '\\t')"
   ]
  },
  {
   "cell_type": "markdown",
   "metadata": {},
   "source": [
    "### Part 0.3: Assess Missing Data"
   ]
  },
  {
   "cell_type": "code",
   "execution_count": 40,
   "metadata": {},
   "outputs": [],
   "source": [
    "feat_nan_code = pd.read_csv('data/feature_missing_code.csv', sep = '\\t').drop('Unnamed: 0', axis = 1)\n",
    "feat_cat = pd.read_csv('data/feature_type.csv', sep = '\\t').drop('Unnamed: 0', axis = 1)"
   ]
  },
  {
   "cell_type": "code",
   "execution_count": 41,
   "metadata": {},
   "outputs": [],
   "source": [
    "# convert missing_or_unknown into lists of NaN: '[-1,0]' -> [-1, 0] and '[-1,XX]' -> [-1, 'XX']\n",
    "X = 'X'\n",
    "XX = 'XX'\n",
    "feat_nan_code['Value'] = feat_nan_code['Value'].apply(lambda x: eval(x))"
   ]
  },
  {
   "cell_type": "code",
   "execution_count": 42,
   "metadata": {},
   "outputs": [],
   "source": [
    "# convert NaN codes to np.nan\n",
    "convert_nan(azdias, feat_nan_code)"
   ]
  },
  {
   "cell_type": "code",
   "execution_count": 43,
   "metadata": {},
   "outputs": [],
   "source": [
    "# Convert row input strings to float\n",
    "azdias[['CAMEO_DEUG_2015','CAMEO_INTL_2015']] = azdias[['CAMEO_DEUG_2015','CAMEO_INTL_2015']].astype(float)"
   ]
  },
  {
   "cell_type": "code",
   "execution_count": 44,
   "metadata": {},
   "outputs": [],
   "source": [
    "# sanity check if there still are 'X' or 'XX' in the population dataset\n",
    "for col in azdias.columns:\n",
    "    if ('X' in set(azdias[col].unique())) or ('XX' in set(azdias[col].unique())):\n",
    "        print(col)"
   ]
  },
  {
   "cell_type": "markdown",
   "metadata": {},
   "source": [
    "The following step of analysis will be similar to the unsupervised learning project."
   ]
  },
  {
   "cell_type": "markdown",
   "metadata": {},
   "source": [
    "#### Step 0.3.1: Assess Missing Data in Each Column"
   ]
  },
  {
   "cell_type": "code",
   "execution_count": 45,
   "metadata": {},
   "outputs": [],
   "source": [
    "# Perform an assessment of how much missing data there is in each column of the\n",
    "# dataset.\n",
    "\n",
    "ls = []\n",
    "# calculate percentage of NaN in each data column\n",
    "for i, column in enumerate(azdias.columns):\n",
    "    count = azdias[column].isnull().sum(axis=0)\n",
    "    percent = count/azdias.shape[0]\n",
    "    ls.append([column, count, percent*100])\n",
    "# store into summary table, sorted by percentage\n",
    "azdias_summary = pd.DataFrame.from_records(ls, columns = ['Feature', 'NaN Count', 'NaN Occupancy Rate'])\n",
    "azdias_summary = azdias_summary.sort_values('NaN Occupancy Rate',axis=0,ascending = False)"
   ]
  },
  {
   "cell_type": "code",
   "execution_count": 46,
   "metadata": {},
   "outputs": [
    {
     "data": {
      "text/html": [
       "<div>\n",
       "<style scoped>\n",
       "    .dataframe tbody tr th:only-of-type {\n",
       "        vertical-align: middle;\n",
       "    }\n",
       "\n",
       "    .dataframe tbody tr th {\n",
       "        vertical-align: top;\n",
       "    }\n",
       "\n",
       "    .dataframe thead th {\n",
       "        text-align: right;\n",
       "    }\n",
       "</style>\n",
       "<table border=\"1\" class=\"dataframe\">\n",
       "  <thead>\n",
       "    <tr style=\"text-align: right;\">\n",
       "      <th></th>\n",
       "      <th>Feature</th>\n",
       "      <th>NaN Count</th>\n",
       "      <th>NaN Occupancy Rate</th>\n",
       "    </tr>\n",
       "  </thead>\n",
       "  <tbody>\n",
       "    <tr>\n",
       "      <th>7</th>\n",
       "      <td>ALTER_KIND4</td>\n",
       "      <td>890016</td>\n",
       "      <td>99.864792</td>\n",
       "    </tr>\n",
       "    <tr>\n",
       "      <th>349</th>\n",
       "      <td>TITEL_KZ</td>\n",
       "      <td>889061</td>\n",
       "      <td>99.757636</td>\n",
       "    </tr>\n",
       "    <tr>\n",
       "      <th>6</th>\n",
       "      <td>ALTER_KIND3</td>\n",
       "      <td>885051</td>\n",
       "      <td>99.307691</td>\n",
       "    </tr>\n",
       "    <tr>\n",
       "      <th>76</th>\n",
       "      <td>D19_TELKO_ONLINE_DATUM</td>\n",
       "      <td>883018</td>\n",
       "      <td>99.079577</td>\n",
       "    </tr>\n",
       "    <tr>\n",
       "      <th>33</th>\n",
       "      <td>D19_BANKEN_LOKAL</td>\n",
       "      <td>874745</td>\n",
       "      <td>98.151300</td>\n",
       "    </tr>\n",
       "    <tr>\n",
       "      <th>34</th>\n",
       "      <td>D19_BANKEN_OFFLINE_DATUM</td>\n",
       "      <td>871535</td>\n",
       "      <td>97.791120</td>\n",
       "    </tr>\n",
       "    <tr>\n",
       "      <th>5</th>\n",
       "      <td>ALTER_KIND2</td>\n",
       "      <td>861722</td>\n",
       "      <td>96.690047</td>\n",
       "    </tr>\n",
       "    <tr>\n",
       "      <th>71</th>\n",
       "      <td>D19_TELKO_ANZ_12</td>\n",
       "      <td>857990</td>\n",
       "      <td>96.271295</td>\n",
       "    </tr>\n",
       "    <tr>\n",
       "      <th>43</th>\n",
       "      <td>D19_DIGIT_SERV</td>\n",
       "      <td>857661</td>\n",
       "      <td>96.234380</td>\n",
       "    </tr>\n",
       "    <tr>\n",
       "      <th>41</th>\n",
       "      <td>D19_BIO_OEKO</td>\n",
       "      <td>854074</td>\n",
       "      <td>95.831898</td>\n",
       "    </tr>\n",
       "  </tbody>\n",
       "</table>\n",
       "</div>"
      ],
      "text/plain": [
       "                      Feature  NaN Count  NaN Occupancy Rate\n",
       "7                 ALTER_KIND4     890016           99.864792\n",
       "349                  TITEL_KZ     889061           99.757636\n",
       "6                 ALTER_KIND3     885051           99.307691\n",
       "76     D19_TELKO_ONLINE_DATUM     883018           99.079577\n",
       "33           D19_BANKEN_LOKAL     874745           98.151300\n",
       "34   D19_BANKEN_OFFLINE_DATUM     871535           97.791120\n",
       "5                 ALTER_KIND2     861722           96.690047\n",
       "71           D19_TELKO_ANZ_12     857990           96.271295\n",
       "43             D19_DIGIT_SERV     857661           96.234380\n",
       "41               D19_BIO_OEKO     854074           95.831898"
      ]
     },
     "execution_count": 46,
     "metadata": {},
     "output_type": "execute_result"
    }
   ],
   "source": [
    "# explore top 10 features \n",
    "azdias_summary.head(10)"
   ]
  },
  {
   "cell_type": "markdown",
   "metadata": {},
   "source": [
    "#### We may decide to drop columns with higest NaN occupancy rate"
   ]
  },
  {
   "cell_type": "code",
   "execution_count": 47,
   "metadata": {},
   "outputs": [
    {
     "data": {
      "text/plain": [
       "array([[<matplotlib.axes._subplots.AxesSubplot object at 0x000001C2F6E8FB38>]],\n",
       "      dtype=object)"
      ]
     },
     "execution_count": 47,
     "metadata": {},
     "output_type": "execute_result"
    },
    {
     "data": {
      "image/png": "[encoded data removed]",
      "text/plain": [
       "<Figure size 432x288 with 1 Axes>"
      ]
     },
     "metadata": {},
     "output_type": "display_data"
    }
   ],
   "source": [
    "# visualize the distribution of missing value counts to find these columns\n",
    "azdias_summary.hist(column='NaN Occupancy Rate', bins = 20)"
   ]
  },
  {
   "cell_type": "code",
   "execution_count": 49,
   "metadata": {},
   "outputs": [
    {
     "name": "stdout",
     "output_type": "stream",
     "text": [
      "Number of feature to be dropped out:  66\n"
     ]
    },
    {
     "data": {
      "text/html": [
       "<div>\n",
       "<style scoped>\n",
       "    .dataframe tbody tr th:only-of-type {\n",
       "        vertical-align: middle;\n",
       "    }\n",
       "\n",
       "    .dataframe tbody tr th {\n",
       "        vertical-align: top;\n",
       "    }\n",
       "\n",
       "    .dataframe thead th {\n",
       "        text-align: right;\n",
       "    }\n",
       "</style>\n",
       "<table border=\"1\" class=\"dataframe\">\n",
       "  <thead>\n",
       "    <tr style=\"text-align: right;\">\n",
       "      <th></th>\n",
       "      <th>Feature</th>\n",
       "      <th>NaN Count</th>\n",
       "      <th>NaN Occupancy Rate</th>\n",
       "    </tr>\n",
       "  </thead>\n",
       "  <tbody>\n",
       "    <tr>\n",
       "      <th>7</th>\n",
       "      <td>ALTER_KIND4</td>\n",
       "      <td>890016</td>\n",
       "      <td>99.864792</td>\n",
       "    </tr>\n",
       "    <tr>\n",
       "      <th>349</th>\n",
       "      <td>TITEL_KZ</td>\n",
       "      <td>889061</td>\n",
       "      <td>99.757636</td>\n",
       "    </tr>\n",
       "    <tr>\n",
       "      <th>6</th>\n",
       "      <td>ALTER_KIND3</td>\n",
       "      <td>885051</td>\n",
       "      <td>99.307691</td>\n",
       "    </tr>\n",
       "    <tr>\n",
       "      <th>76</th>\n",
       "      <td>D19_TELKO_ONLINE_DATUM</td>\n",
       "      <td>883018</td>\n",
       "      <td>99.079577</td>\n",
       "    </tr>\n",
       "    <tr>\n",
       "      <th>33</th>\n",
       "      <td>D19_BANKEN_LOKAL</td>\n",
       "      <td>874745</td>\n",
       "      <td>98.151300</td>\n",
       "    </tr>\n",
       "    <tr>\n",
       "      <th>34</th>\n",
       "      <td>D19_BANKEN_OFFLINE_DATUM</td>\n",
       "      <td>871535</td>\n",
       "      <td>97.791120</td>\n",
       "    </tr>\n",
       "    <tr>\n",
       "      <th>5</th>\n",
       "      <td>ALTER_KIND2</td>\n",
       "      <td>861722</td>\n",
       "      <td>96.690047</td>\n",
       "    </tr>\n",
       "    <tr>\n",
       "      <th>71</th>\n",
       "      <td>D19_TELKO_ANZ_12</td>\n",
       "      <td>857990</td>\n",
       "      <td>96.271295</td>\n",
       "    </tr>\n",
       "    <tr>\n",
       "      <th>43</th>\n",
       "      <td>D19_DIGIT_SERV</td>\n",
       "      <td>857661</td>\n",
       "      <td>96.234380</td>\n",
       "    </tr>\n",
       "    <tr>\n",
       "      <th>41</th>\n",
       "      <td>D19_BIO_OEKO</td>\n",
       "      <td>854074</td>\n",
       "      <td>95.831898</td>\n",
       "    </tr>\n",
       "    <tr>\n",
       "      <th>79</th>\n",
       "      <td>D19_TIERARTIKEL</td>\n",
       "      <td>852220</td>\n",
       "      <td>95.623869</td>\n",
       "    </tr>\n",
       "    <tr>\n",
       "      <th>63</th>\n",
       "      <td>D19_NAHRUNGSERGAENZUNG</td>\n",
       "      <td>852176</td>\n",
       "      <td>95.618932</td>\n",
       "    </tr>\n",
       "    <tr>\n",
       "      <th>47</th>\n",
       "      <td>D19_GARTEN</td>\n",
       "      <td>851626</td>\n",
       "      <td>95.557219</td>\n",
       "    </tr>\n",
       "    <tr>\n",
       "      <th>60</th>\n",
       "      <td>D19_LEBENSMITTEL</td>\n",
       "      <td>837914</td>\n",
       "      <td>94.018655</td>\n",
       "    </tr>\n",
       "    <tr>\n",
       "      <th>95</th>\n",
       "      <td>D19_WEIN_FEINKOST</td>\n",
       "      <td>836142</td>\n",
       "      <td>93.819827</td>\n",
       "    </tr>\n",
       "    <tr>\n",
       "      <th>28</th>\n",
       "      <td>D19_BANKEN_ANZ_12</td>\n",
       "      <td>831734</td>\n",
       "      <td>93.325225</td>\n",
       "    </tr>\n",
       "    <tr>\n",
       "      <th>45</th>\n",
       "      <td>D19_ENERGIE</td>\n",
       "      <td>829857</td>\n",
       "      <td>93.114615</td>\n",
       "    </tr>\n",
       "    <tr>\n",
       "      <th>72</th>\n",
       "      <td>D19_TELKO_ANZ_24</td>\n",
       "      <td>826208</td>\n",
       "      <td>92.705176</td>\n",
       "    </tr>\n",
       "    <tr>\n",
       "      <th>37</th>\n",
       "      <td>D19_BANKEN_REST</td>\n",
       "      <td>821760</td>\n",
       "      <td>92.206086</td>\n",
       "    </tr>\n",
       "    <tr>\n",
       "      <th>87</th>\n",
       "      <td>D19_VERSI_ANZ_12</td>\n",
       "      <td>821289</td>\n",
       "      <td>92.153237</td>\n",
       "    </tr>\n",
       "    <tr>\n",
       "      <th>75</th>\n",
       "      <td>D19_TELKO_OFFLINE_DATUM</td>\n",
       "      <td>819114</td>\n",
       "      <td>91.909190</td>\n",
       "    </tr>\n",
       "    <tr>\n",
       "      <th>40</th>\n",
       "      <td>D19_BILDUNG</td>\n",
       "      <td>813156</td>\n",
       "      <td>91.240669</td>\n",
       "    </tr>\n",
       "    <tr>\n",
       "      <th>4</th>\n",
       "      <td>ALTER_KIND1</td>\n",
       "      <td>810163</td>\n",
       "      <td>90.904837</td>\n",
       "    </tr>\n",
       "    <tr>\n",
       "      <th>38</th>\n",
       "      <td>D19_BEKLEIDUNG_GEH</td>\n",
       "      <td>809304</td>\n",
       "      <td>90.808453</td>\n",
       "    </tr>\n",
       "    <tr>\n",
       "      <th>64</th>\n",
       "      <td>D19_RATGEBER</td>\n",
       "      <td>805071</td>\n",
       "      <td>90.333486</td>\n",
       "    </tr>\n",
       "    <tr>\n",
       "      <th>66</th>\n",
       "      <td>D19_SAMMELARTIKEL</td>\n",
       "      <td>802085</td>\n",
       "      <td>89.998440</td>\n",
       "    </tr>\n",
       "    <tr>\n",
       "      <th>29</th>\n",
       "      <td>D19_BANKEN_ANZ_24</td>\n",
       "      <td>794100</td>\n",
       "      <td>89.102479</td>\n",
       "    </tr>\n",
       "    <tr>\n",
       "      <th>46</th>\n",
       "      <td>D19_FREIZEIT</td>\n",
       "      <td>790748</td>\n",
       "      <td>88.726365</td>\n",
       "    </tr>\n",
       "    <tr>\n",
       "      <th>32</th>\n",
       "      <td>D19_BANKEN_GROSS</td>\n",
       "      <td>785351</td>\n",
       "      <td>88.120792</td>\n",
       "    </tr>\n",
       "    <tr>\n",
       "      <th>88</th>\n",
       "      <td>D19_VERSI_ANZ_24</td>\n",
       "      <td>777037</td>\n",
       "      <td>87.187914</td>\n",
       "    </tr>\n",
       "    <tr>\n",
       "      <th>...</th>\n",
       "      <td>...</td>\n",
       "      <td>...</td>\n",
       "      <td>...</td>\n",
       "    </tr>\n",
       "    <tr>\n",
       "      <th>59</th>\n",
       "      <td>D19_KOSMETIK</td>\n",
       "      <td>745836</td>\n",
       "      <td>83.686987</td>\n",
       "    </tr>\n",
       "    <tr>\n",
       "      <th>65</th>\n",
       "      <td>D19_REISEN</td>\n",
       "      <td>736924</td>\n",
       "      <td>82.687010</td>\n",
       "    </tr>\n",
       "    <tr>\n",
       "      <th>86</th>\n",
       "      <td>D19_VERSAND_REST</td>\n",
       "      <td>734442</td>\n",
       "      <td>82.408516</td>\n",
       "    </tr>\n",
       "    <tr>\n",
       "      <th>31</th>\n",
       "      <td>D19_BANKEN_DIREKT</td>\n",
       "      <td>728811</td>\n",
       "      <td>81.776686</td>\n",
       "    </tr>\n",
       "    <tr>\n",
       "      <th>35</th>\n",
       "      <td>D19_BANKEN_ONLINE_DATUM</td>\n",
       "      <td>726982</td>\n",
       "      <td>81.571462</td>\n",
       "    </tr>\n",
       "    <tr>\n",
       "      <th>74</th>\n",
       "      <td>D19_TELKO_MOBILE</td>\n",
       "      <td>726804</td>\n",
       "      <td>81.551489</td>\n",
       "    </tr>\n",
       "    <tr>\n",
       "      <th>55</th>\n",
       "      <td>D19_HAUS_DEKO</td>\n",
       "      <td>713100</td>\n",
       "      <td>80.013824</td>\n",
       "    </tr>\n",
       "    <tr>\n",
       "      <th>39</th>\n",
       "      <td>D19_BEKLEIDUNG_REST</td>\n",
       "      <td>692502</td>\n",
       "      <td>77.702612</td>\n",
       "    </tr>\n",
       "    <tr>\n",
       "      <th>1</th>\n",
       "      <td>AGER_TYP</td>\n",
       "      <td>685843</td>\n",
       "      <td>76.955435</td>\n",
       "    </tr>\n",
       "    <tr>\n",
       "      <th>30</th>\n",
       "      <td>D19_BANKEN_DATUM</td>\n",
       "      <td>678331</td>\n",
       "      <td>76.112547</td>\n",
       "    </tr>\n",
       "    <tr>\n",
       "      <th>73</th>\n",
       "      <td>D19_TELKO_DATUM</td>\n",
       "      <td>665798</td>\n",
       "      <td>74.706274</td>\n",
       "    </tr>\n",
       "    <tr>\n",
       "      <th>93</th>\n",
       "      <td>D19_VERSICHERUNGEN</td>\n",
       "      <td>654664</td>\n",
       "      <td>73.456976</td>\n",
       "    </tr>\n",
       "    <tr>\n",
       "      <th>100</th>\n",
       "      <td>EXTSEL992</td>\n",
       "      <td>654153</td>\n",
       "      <td>73.399639</td>\n",
       "    </tr>\n",
       "    <tr>\n",
       "      <th>80</th>\n",
       "      <td>D19_VERSAND_ANZ_12</td>\n",
       "      <td>637972</td>\n",
       "      <td>71.584040</td>\n",
       "    </tr>\n",
       "    <tr>\n",
       "      <th>83</th>\n",
       "      <td>D19_VERSAND_OFFLINE_DATUM</td>\n",
       "      <td>634233</td>\n",
       "      <td>71.164504</td>\n",
       "    </tr>\n",
       "    <tr>\n",
       "      <th>70</th>\n",
       "      <td>D19_TECHNIK</td>\n",
       "      <td>630101</td>\n",
       "      <td>70.700870</td>\n",
       "    </tr>\n",
       "    <tr>\n",
       "      <th>94</th>\n",
       "      <td>D19_VOLLSORTIMENT</td>\n",
       "      <td>600002</td>\n",
       "      <td>67.323593</td>\n",
       "    </tr>\n",
       "    <tr>\n",
       "      <th>48</th>\n",
       "      <td>D19_GESAMT_ANZ_12</td>\n",
       "      <td>584797</td>\n",
       "      <td>65.617507</td>\n",
       "    </tr>\n",
       "    <tr>\n",
       "      <th>300</th>\n",
       "      <td>KK_KUNDENTYP</td>\n",
       "      <td>584612</td>\n",
       "      <td>65.596749</td>\n",
       "    </tr>\n",
       "    <tr>\n",
       "      <th>81</th>\n",
       "      <td>D19_VERSAND_ANZ_24</td>\n",
       "      <td>563818</td>\n",
       "      <td>63.263545</td>\n",
       "    </tr>\n",
       "    <tr>\n",
       "      <th>51</th>\n",
       "      <td>D19_GESAMT_OFFLINE_DATUM</td>\n",
       "      <td>558558</td>\n",
       "      <td>62.673344</td>\n",
       "    </tr>\n",
       "    <tr>\n",
       "      <th>68</th>\n",
       "      <td>D19_SONSTIGE</td>\n",
       "      <td>505953</td>\n",
       "      <td>56.770767</td>\n",
       "    </tr>\n",
       "    <tr>\n",
       "      <th>49</th>\n",
       "      <td>D19_GESAMT_ANZ_24</td>\n",
       "      <td>505303</td>\n",
       "      <td>56.697834</td>\n",
       "    </tr>\n",
       "    <tr>\n",
       "      <th>84</th>\n",
       "      <td>D19_VERSAND_ONLINE_DATUM</td>\n",
       "      <td>494464</td>\n",
       "      <td>55.481637</td>\n",
       "    </tr>\n",
       "    <tr>\n",
       "      <th>129</th>\n",
       "      <td>KBA05_BAUMAX</td>\n",
       "      <td>476524</td>\n",
       "      <td>53.468668</td>\n",
       "    </tr>\n",
       "    <tr>\n",
       "      <th>52</th>\n",
       "      <td>D19_GESAMT_ONLINE_DATUM</td>\n",
       "      <td>450995</td>\n",
       "      <td>50.604171</td>\n",
       "    </tr>\n",
       "    <tr>\n",
       "      <th>82</th>\n",
       "      <td>D19_VERSAND_DATUM</td>\n",
       "      <td>437886</td>\n",
       "      <td>49.133268</td>\n",
       "    </tr>\n",
       "    <tr>\n",
       "      <th>111</th>\n",
       "      <td>GEBURTSJAHR</td>\n",
       "      <td>392318</td>\n",
       "      <td>44.020282</td>\n",
       "    </tr>\n",
       "    <tr>\n",
       "      <th>50</th>\n",
       "      <td>D19_GESAMT_DATUM</td>\n",
       "      <td>354170</td>\n",
       "      <td>39.739863</td>\n",
       "    </tr>\n",
       "    <tr>\n",
       "      <th>3</th>\n",
       "      <td>ALTER_HH</td>\n",
       "      <td>310267</td>\n",
       "      <td>34.813699</td>\n",
       "    </tr>\n",
       "  </tbody>\n",
       "</table>\n",
       "<p>66 rows × 3 columns</p>\n",
       "</div>"
      ],
      "text/plain": [
       "                       Feature  NaN Count  NaN Occupancy Rate\n",
       "7                  ALTER_KIND4     890016           99.864792\n",
       "349                   TITEL_KZ     889061           99.757636\n",
       "6                  ALTER_KIND3     885051           99.307691\n",
       "76      D19_TELKO_ONLINE_DATUM     883018           99.079577\n",
       "33            D19_BANKEN_LOKAL     874745           98.151300\n",
       "34    D19_BANKEN_OFFLINE_DATUM     871535           97.791120\n",
       "5                  ALTER_KIND2     861722           96.690047\n",
       "71            D19_TELKO_ANZ_12     857990           96.271295\n",
       "43              D19_DIGIT_SERV     857661           96.234380\n",
       "41                D19_BIO_OEKO     854074           95.831898\n",
       "79             D19_TIERARTIKEL     852220           95.623869\n",
       "63      D19_NAHRUNGSERGAENZUNG     852176           95.618932\n",
       "47                  D19_GARTEN     851626           95.557219\n",
       "60            D19_LEBENSMITTEL     837914           94.018655\n",
       "95           D19_WEIN_FEINKOST     836142           93.819827\n",
       "28           D19_BANKEN_ANZ_12     831734           93.325225\n",
       "45                 D19_ENERGIE     829857           93.114615\n",
       "72            D19_TELKO_ANZ_24     826208           92.705176\n",
       "37             D19_BANKEN_REST     821760           92.206086\n",
       "87            D19_VERSI_ANZ_12     821289           92.153237\n",
       "75     D19_TELKO_OFFLINE_DATUM     819114           91.909190\n",
       "40                 D19_BILDUNG     813156           91.240669\n",
       "4                  ALTER_KIND1     810163           90.904837\n",
       "38          D19_BEKLEIDUNG_GEH     809304           90.808453\n",
       "64                D19_RATGEBER     805071           90.333486\n",
       "66           D19_SAMMELARTIKEL     802085           89.998440\n",
       "29           D19_BANKEN_ANZ_24     794100           89.102479\n",
       "46                D19_FREIZEIT     790748           88.726365\n",
       "32            D19_BANKEN_GROSS     785351           88.120792\n",
       "88            D19_VERSI_ANZ_24     777037           87.187914\n",
       "..                         ...        ...                 ...\n",
       "59                D19_KOSMETIK     745836           83.686987\n",
       "65                  D19_REISEN     736924           82.687010\n",
       "86            D19_VERSAND_REST     734442           82.408516\n",
       "31           D19_BANKEN_DIREKT     728811           81.776686\n",
       "35     D19_BANKEN_ONLINE_DATUM     726982           81.571462\n",
       "74            D19_TELKO_MOBILE     726804           81.551489\n",
       "55               D19_HAUS_DEKO     713100           80.013824\n",
       "39         D19_BEKLEIDUNG_REST     692502           77.702612\n",
       "1                     AGER_TYP     685843           76.955435\n",
       "30            D19_BANKEN_DATUM     678331           76.112547\n",
       "73             D19_TELKO_DATUM     665798           74.706274\n",
       "93          D19_VERSICHERUNGEN     654664           73.456976\n",
       "100                  EXTSEL992     654153           73.399639\n",
       "80          D19_VERSAND_ANZ_12     637972           71.584040\n",
       "83   D19_VERSAND_OFFLINE_DATUM     634233           71.164504\n",
       "70                 D19_TECHNIK     630101           70.700870\n",
       "94           D19_VOLLSORTIMENT     600002           67.323593\n",
       "48           D19_GESAMT_ANZ_12     584797           65.617507\n",
       "300               KK_KUNDENTYP     584612           65.596749\n",
       "81          D19_VERSAND_ANZ_24     563818           63.263545\n",
       "51    D19_GESAMT_OFFLINE_DATUM     558558           62.673344\n",
       "68                D19_SONSTIGE     505953           56.770767\n",
       "49           D19_GESAMT_ANZ_24     505303           56.697834\n",
       "84    D19_VERSAND_ONLINE_DATUM     494464           55.481637\n",
       "129               KBA05_BAUMAX     476524           53.468668\n",
       "52     D19_GESAMT_ONLINE_DATUM     450995           50.604171\n",
       "82           D19_VERSAND_DATUM     437886           49.133268\n",
       "111                GEBURTSJAHR     392318           44.020282\n",
       "50            D19_GESAMT_DATUM     354170           39.739863\n",
       "3                     ALTER_HH     310267           34.813699\n",
       "\n",
       "[66 rows x 3 columns]"
      ]
     },
     "metadata": {},
     "output_type": "display_data"
    }
   ],
   "source": [
    "# Identify outliers (say above 30% is considered as outliers) from the histogram and document these features\n",
    "col_thres = 30\n",
    "feature_to_drop = azdias_summary[azdias_summary['NaN Occupancy Rate'] > col_thres]\n",
    "print(\"Number of feature to be dropped out: \", feature_to_drop.shape[0])\n",
    "feature_to_drop.to_csv('data/dropped_feature.csv')\n",
    "display(feature_to_drop)"
   ]
  },
  {
   "cell_type": "markdown",
   "metadata": {},
   "source": [
    "#### Step 0.3.2: Assess Missing Data in Each Row"
   ]
  },
  {
   "cell_type": "code",
   "execution_count": 50,
   "metadata": {},
   "outputs": [],
   "source": [
    "# Investigate patterns in the amount of missing data in each column.\n",
    "azdias_drop_NaN = azdias.drop(feature_to_drop.Feature, axis=1)\n",
    "azdias_subset = azdias_drop_NaN.isnull().astype(int) \n",
    "azdias_subset = azdias_subset[azdias_subset.sum(axis = 1) > col_thres]"
   ]
  },
  {
   "cell_type": "code",
   "execution_count": 51,
   "metadata": {},
   "outputs": [
    {
     "data": {
      "text/html": [
       "<div>\n",
       "<style scoped>\n",
       "    .dataframe tbody tr th:only-of-type {\n",
       "        vertical-align: middle;\n",
       "    }\n",
       "\n",
       "    .dataframe tbody tr th {\n",
       "        vertical-align: top;\n",
       "    }\n",
       "\n",
       "    .dataframe thead th {\n",
       "        text-align: right;\n",
       "    }\n",
       "</style>\n",
       "<table border=\"1\" class=\"dataframe\">\n",
       "  <thead>\n",
       "    <tr style=\"text-align: right;\">\n",
       "      <th></th>\n",
       "      <th>NaN Count</th>\n",
       "      <th>NaN Occupancy Rate</th>\n",
       "      <th>label</th>\n",
       "    </tr>\n",
       "  </thead>\n",
       "  <tbody>\n",
       "    <tr>\n",
       "      <th>826869</th>\n",
       "      <td>253</td>\n",
       "      <td>84.333333</td>\n",
       "      <td>%NaN Above 30</td>\n",
       "    </tr>\n",
       "    <tr>\n",
       "      <th>537799</th>\n",
       "      <td>253</td>\n",
       "      <td>84.333333</td>\n",
       "      <td>%NaN Above 30</td>\n",
       "    </tr>\n",
       "    <tr>\n",
       "      <th>721052</th>\n",
       "      <td>252</td>\n",
       "      <td>84.000000</td>\n",
       "      <td>%NaN Above 30</td>\n",
       "    </tr>\n",
       "    <tr>\n",
       "      <th>642352</th>\n",
       "      <td>252</td>\n",
       "      <td>84.000000</td>\n",
       "      <td>%NaN Above 30</td>\n",
       "    </tr>\n",
       "    <tr>\n",
       "      <th>489878</th>\n",
       "      <td>252</td>\n",
       "      <td>84.000000</td>\n",
       "      <td>%NaN Above 30</td>\n",
       "    </tr>\n",
       "  </tbody>\n",
       "</table>\n",
       "</div>"
      ],
      "text/plain": [
       "        NaN Count  NaN Occupancy Rate          label\n",
       "826869        253           84.333333  %NaN Above 30\n",
       "537799        253           84.333333  %NaN Above 30\n",
       "721052        252           84.000000  %NaN Above 30\n",
       "642352        252           84.000000  %NaN Above 30\n",
       "489878        252           84.000000  %NaN Above 30"
      ]
     },
     "execution_count": 51,
     "metadata": {},
     "output_type": "execute_result"
    }
   ],
   "source": [
    "# How much data is missing in each row of the dataset?\n",
    "ncol = azdias_drop_NaN.shape[1]\n",
    "azdias_drop_NaN['NaN Count'] = azdias_drop_NaN.isnull().sum(axis=1)\n",
    "azdias_drop_NaN['NaN Occupancy Rate'] = azdias_drop_NaN['NaN Count'].apply(lambda x: x/ncol*100)\n",
    "azdias_drop_NaN['label'] = azdias_drop_NaN['NaN Occupancy Rate'].apply(lambda x: '%NaN Below '+str(int(col_thres)) \\\n",
    "        if x <= col_thres else '%NaN Above '+str(int(col_thres)))\n",
    "azdias_drop_NaN[['NaN Count', 'NaN Occupancy Rate', 'label']].sort_values( \\\n",
    "        'NaN Occupancy Rate',axis=0,ascending = False).head()"
   ]
  },
  {
   "cell_type": "code",
   "execution_count": 52,
   "metadata": {},
   "outputs": [
    {
     "data": {
      "text/plain": [
       "array([[<matplotlib.axes._subplots.AxesSubplot object at 0x000001C2F76D0E80>]],\n",
       "      dtype=object)"
      ]
     },
     "execution_count": 52,
     "metadata": {},
     "output_type": "execute_result"
    },
    {
     "data": {
      "image/png": "[encoded data removed]",
      "text/plain": [
       "<Figure size 432x288 with 1 Axes>"
      ]
     },
     "metadata": {},
     "output_type": "display_data"
    }
   ],
   "source": [
    "# plot the histogram\n",
    "azdias_drop_NaN.hist(column='NaN Occupancy Rate', bins = 20)"
   ]
  },
  {
   "cell_type": "code",
   "execution_count": 65,
   "metadata": {},
   "outputs": [
    {
     "name": "stdout",
     "output_type": "stream",
     "text": [
      "The total count of data above NaNs 30% threshold is 105903, which consist of 11.88291119711048% of data set\n"
     ]
    }
   ],
   "source": [
    "#Lets analyse the row Nan occupancy\n",
    "row_thres = 30\n",
    "idx = azdias_drop_NaN['NaN Occupancy Rate'] > row_thres\n",
    "outlier_CNT = azdias_drop_NaN[idx].shape[0]\n",
    "outlier_PCT = outlier_CNT/azdias_drop_NaN.shape[0]*100\n",
    "print('The total count of data above NaNs {}% threshold is {}, which consist of {}% of data set'.format(row_thres, outlier_CNT, outlier_PCT))"
   ]
  },
  {
   "cell_type": "code",
   "execution_count": 66,
   "metadata": {},
   "outputs": [
    {
     "name": "stdout",
     "output_type": "stream",
     "text": [
      "The number of rows and columns in the new dataset are: (785318, 300)\n"
     ]
    },
    {
     "data": {
      "text/html": [
       "<div>\n",
       "<style scoped>\n",
       "    .dataframe tbody tr th:only-of-type {\n",
       "        vertical-align: middle;\n",
       "    }\n",
       "\n",
       "    .dataframe tbody tr th {\n",
       "        vertical-align: top;\n",
       "    }\n",
       "\n",
       "    .dataframe thead th {\n",
       "        text-align: right;\n",
       "    }\n",
       "</style>\n",
       "<table border=\"1\" class=\"dataframe\">\n",
       "  <thead>\n",
       "    <tr style=\"text-align: right;\">\n",
       "      <th></th>\n",
       "      <th>LNR</th>\n",
       "      <th>AKT_DAT_KL</th>\n",
       "      <th>ALTERSKATEGORIE_FEIN</th>\n",
       "      <th>ANZ_HAUSHALTE_AKTIV</th>\n",
       "      <th>ANZ_HH_TITEL</th>\n",
       "      <th>ANZ_KINDER</th>\n",
       "      <th>ANZ_PERSONEN</th>\n",
       "      <th>ANZ_STATISTISCHE_HAUSHALTE</th>\n",
       "      <th>ANZ_TITEL</th>\n",
       "      <th>ARBEIT</th>\n",
       "      <th>...</th>\n",
       "      <th>VHN</th>\n",
       "      <th>VK_DHT4A</th>\n",
       "      <th>VK_DISTANZ</th>\n",
       "      <th>VK_ZG11</th>\n",
       "      <th>W_KEIT_KIND_HH</th>\n",
       "      <th>WOHNDAUER_2008</th>\n",
       "      <th>WOHNLAGE</th>\n",
       "      <th>ZABEOTYP</th>\n",
       "      <th>ANREDE_KZ</th>\n",
       "      <th>ALTERSKATEGORIE_GROB</th>\n",
       "    </tr>\n",
       "  </thead>\n",
       "  <tbody>\n",
       "    <tr>\n",
       "      <th>0</th>\n",
       "      <td>910220</td>\n",
       "      <td>9.0</td>\n",
       "      <td>21.0</td>\n",
       "      <td>11.0</td>\n",
       "      <td>0.0</td>\n",
       "      <td>0.0</td>\n",
       "      <td>2.0</td>\n",
       "      <td>12.0</td>\n",
       "      <td>0.0</td>\n",
       "      <td>3.0</td>\n",
       "      <td>...</td>\n",
       "      <td>4.0</td>\n",
       "      <td>8.0</td>\n",
       "      <td>11.0</td>\n",
       "      <td>10.0</td>\n",
       "      <td>3.0</td>\n",
       "      <td>9.0</td>\n",
       "      <td>4.0</td>\n",
       "      <td>5</td>\n",
       "      <td>2</td>\n",
       "      <td>1.0</td>\n",
       "    </tr>\n",
       "    <tr>\n",
       "      <th>1</th>\n",
       "      <td>910225</td>\n",
       "      <td>9.0</td>\n",
       "      <td>17.0</td>\n",
       "      <td>10.0</td>\n",
       "      <td>0.0</td>\n",
       "      <td>0.0</td>\n",
       "      <td>1.0</td>\n",
       "      <td>7.0</td>\n",
       "      <td>0.0</td>\n",
       "      <td>3.0</td>\n",
       "      <td>...</td>\n",
       "      <td>2.0</td>\n",
       "      <td>9.0</td>\n",
       "      <td>9.0</td>\n",
       "      <td>6.0</td>\n",
       "      <td>3.0</td>\n",
       "      <td>9.0</td>\n",
       "      <td>2.0</td>\n",
       "      <td>5</td>\n",
       "      <td>2</td>\n",
       "      <td>3.0</td>\n",
       "    </tr>\n",
       "    <tr>\n",
       "      <th>2</th>\n",
       "      <td>910226</td>\n",
       "      <td>1.0</td>\n",
       "      <td>13.0</td>\n",
       "      <td>1.0</td>\n",
       "      <td>0.0</td>\n",
       "      <td>0.0</td>\n",
       "      <td>0.0</td>\n",
       "      <td>2.0</td>\n",
       "      <td>0.0</td>\n",
       "      <td>2.0</td>\n",
       "      <td>...</td>\n",
       "      <td>0.0</td>\n",
       "      <td>7.0</td>\n",
       "      <td>10.0</td>\n",
       "      <td>11.0</td>\n",
       "      <td>NaN</td>\n",
       "      <td>9.0</td>\n",
       "      <td>7.0</td>\n",
       "      <td>3</td>\n",
       "      <td>2</td>\n",
       "      <td>4.0</td>\n",
       "    </tr>\n",
       "    <tr>\n",
       "      <th>3</th>\n",
       "      <td>910241</td>\n",
       "      <td>1.0</td>\n",
       "      <td>14.0</td>\n",
       "      <td>3.0</td>\n",
       "      <td>0.0</td>\n",
       "      <td>0.0</td>\n",
       "      <td>4.0</td>\n",
       "      <td>3.0</td>\n",
       "      <td>0.0</td>\n",
       "      <td>4.0</td>\n",
       "      <td>...</td>\n",
       "      <td>2.0</td>\n",
       "      <td>3.0</td>\n",
       "      <td>5.0</td>\n",
       "      <td>4.0</td>\n",
       "      <td>2.0</td>\n",
       "      <td>9.0</td>\n",
       "      <td>3.0</td>\n",
       "      <td>4</td>\n",
       "      <td>1</td>\n",
       "      <td>3.0</td>\n",
       "    </tr>\n",
       "    <tr>\n",
       "      <th>4</th>\n",
       "      <td>910244</td>\n",
       "      <td>1.0</td>\n",
       "      <td>10.0</td>\n",
       "      <td>5.0</td>\n",
       "      <td>0.0</td>\n",
       "      <td>0.0</td>\n",
       "      <td>1.0</td>\n",
       "      <td>2.0</td>\n",
       "      <td>0.0</td>\n",
       "      <td>2.0</td>\n",
       "      <td>...</td>\n",
       "      <td>2.0</td>\n",
       "      <td>10.0</td>\n",
       "      <td>7.0</td>\n",
       "      <td>4.0</td>\n",
       "      <td>6.0</td>\n",
       "      <td>9.0</td>\n",
       "      <td>7.0</td>\n",
       "      <td>4</td>\n",
       "      <td>2</td>\n",
       "      <td>1.0</td>\n",
       "    </tr>\n",
       "  </tbody>\n",
       "</table>\n",
       "<p>5 rows × 300 columns</p>\n",
       "</div>"
      ],
      "text/plain": [
       "      LNR  AKT_DAT_KL  ALTERSKATEGORIE_FEIN  ANZ_HAUSHALTE_AKTIV  \\\n",
       "0  910220         9.0                  21.0                 11.0   \n",
       "1  910225         9.0                  17.0                 10.0   \n",
       "2  910226         1.0                  13.0                  1.0   \n",
       "3  910241         1.0                  14.0                  3.0   \n",
       "4  910244         1.0                  10.0                  5.0   \n",
       "\n",
       "   ANZ_HH_TITEL  ANZ_KINDER  ANZ_PERSONEN  ANZ_STATISTISCHE_HAUSHALTE  \\\n",
       "0           0.0         0.0           2.0                        12.0   \n",
       "1           0.0         0.0           1.0                         7.0   \n",
       "2           0.0         0.0           0.0                         2.0   \n",
       "3           0.0         0.0           4.0                         3.0   \n",
       "4           0.0         0.0           1.0                         2.0   \n",
       "\n",
       "   ANZ_TITEL  ARBEIT          ...           VHN VK_DHT4A  VK_DISTANZ  VK_ZG11  \\\n",
       "0        0.0     3.0          ...           4.0      8.0        11.0     10.0   \n",
       "1        0.0     3.0          ...           2.0      9.0         9.0      6.0   \n",
       "2        0.0     2.0          ...           0.0      7.0        10.0     11.0   \n",
       "3        0.0     4.0          ...           2.0      3.0         5.0      4.0   \n",
       "4        0.0     2.0          ...           2.0     10.0         7.0      4.0   \n",
       "\n",
       "   W_KEIT_KIND_HH  WOHNDAUER_2008  WOHNLAGE  ZABEOTYP  ANREDE_KZ  \\\n",
       "0             3.0             9.0       4.0         5          2   \n",
       "1             3.0             9.0       2.0         5          2   \n",
       "2             NaN             9.0       7.0         3          2   \n",
       "3             2.0             9.0       3.0         4          1   \n",
       "4             6.0             9.0       7.0         4          2   \n",
       "\n",
       "   ALTERSKATEGORIE_GROB  \n",
       "0                   1.0  \n",
       "1                   3.0  \n",
       "2                   4.0  \n",
       "3                   3.0  \n",
       "4                   1.0  \n",
       "\n",
       "[5 rows x 300 columns]"
      ]
     },
     "metadata": {},
     "output_type": "display_data"
    }
   ],
   "source": [
    "# Store the row data with the number of missing values below the threshold. \n",
    "# Keep in mind that the last column 'label' should be dropped out.\n",
    "# We will use this data subset in the following analysis.\n",
    "azdias_small_NaN = azdias_drop_NaN[~idx].drop(['NaN Count', 'NaN Occupancy Rate', 'label'], axis = 1).reset_index(drop=True)\n",
    "print('The number of rows and columns in the new dataset are:', azdias_small_NaN.shape)\n",
    "display(azdias_small_NaN.head())"
   ]
  },
  {
   "cell_type": "code",
   "execution_count": 70,
   "metadata": {},
   "outputs": [
    {
     "data": {
      "text/html": [
       "<div>\n",
       "<style scoped>\n",
       "    .dataframe tbody tr th:only-of-type {\n",
       "        vertical-align: middle;\n",
       "    }\n",
       "\n",
       "    .dataframe tbody tr th {\n",
       "        vertical-align: top;\n",
       "    }\n",
       "\n",
       "    .dataframe thead th {\n",
       "        text-align: right;\n",
       "    }\n",
       "</style>\n",
       "<table border=\"1\" class=\"dataframe\">\n",
       "  <thead>\n",
       "    <tr style=\"text-align: right;\">\n",
       "      <th></th>\n",
       "      <th>Feature</th>\n",
       "      <th>NaN Count</th>\n",
       "      <th>NaN Occupancy Rate</th>\n",
       "    </tr>\n",
       "  </thead>\n",
       "  <tbody>\n",
       "    <tr>\n",
       "      <th>0</th>\n",
       "      <td>LNR</td>\n",
       "      <td>0</td>\n",
       "      <td>0.0</td>\n",
       "    </tr>\n",
       "    <tr>\n",
       "      <th>335</th>\n",
       "      <td>SEMIO_KAEM</td>\n",
       "      <td>0</td>\n",
       "      <td>0.0</td>\n",
       "    </tr>\n",
       "    <tr>\n",
       "      <th>107</th>\n",
       "      <td>FINANZTYP</td>\n",
       "      <td>0</td>\n",
       "      <td>0.0</td>\n",
       "    </tr>\n",
       "    <tr>\n",
       "      <th>364</th>\n",
       "      <td>ANREDE_KZ</td>\n",
       "      <td>0</td>\n",
       "      <td>0.0</td>\n",
       "    </tr>\n",
       "    <tr>\n",
       "      <th>363</th>\n",
       "      <td>ZABEOTYP</td>\n",
       "      <td>0</td>\n",
       "      <td>0.0</td>\n",
       "    </tr>\n",
       "    <tr>\n",
       "      <th>42</th>\n",
       "      <td>D19_BUCH_CD</td>\n",
       "      <td>0</td>\n",
       "      <td>0.0</td>\n",
       "    </tr>\n",
       "    <tr>\n",
       "      <th>58</th>\n",
       "      <td>D19_KONSUMTYP_MAX</td>\n",
       "      <td>0</td>\n",
       "      <td>0.0</td>\n",
       "    </tr>\n",
       "    <tr>\n",
       "      <th>89</th>\n",
       "      <td>D19_VERSI_DATUM</td>\n",
       "      <td>0</td>\n",
       "      <td>0.0</td>\n",
       "    </tr>\n",
       "    <tr>\n",
       "      <th>90</th>\n",
       "      <td>D19_VERSI_OFFLINE_DATUM</td>\n",
       "      <td>0</td>\n",
       "      <td>0.0</td>\n",
       "    </tr>\n",
       "    <tr>\n",
       "      <th>91</th>\n",
       "      <td>D19_VERSI_ONLINE_DATUM</td>\n",
       "      <td>0</td>\n",
       "      <td>0.0</td>\n",
       "    </tr>\n",
       "    <tr>\n",
       "      <th>101</th>\n",
       "      <td>FINANZ_ANLEGER</td>\n",
       "      <td>0</td>\n",
       "      <td>0.0</td>\n",
       "    </tr>\n",
       "    <tr>\n",
       "      <th>102</th>\n",
       "      <td>FINANZ_HAUSBAUER</td>\n",
       "      <td>0</td>\n",
       "      <td>0.0</td>\n",
       "    </tr>\n",
       "    <tr>\n",
       "      <th>103</th>\n",
       "      <td>FINANZ_MINIMALIST</td>\n",
       "      <td>0</td>\n",
       "      <td>0.0</td>\n",
       "    </tr>\n",
       "    <tr>\n",
       "      <th>104</th>\n",
       "      <td>FINANZ_SPARER</td>\n",
       "      <td>0</td>\n",
       "      <td>0.0</td>\n",
       "    </tr>\n",
       "    <tr>\n",
       "      <th>105</th>\n",
       "      <td>FINANZ_UNAUFFAELLIGER</td>\n",
       "      <td>0</td>\n",
       "      <td>0.0</td>\n",
       "    </tr>\n",
       "    <tr>\n",
       "      <th>337</th>\n",
       "      <td>SEMIO_KULT</td>\n",
       "      <td>0</td>\n",
       "      <td>0.0</td>\n",
       "    </tr>\n",
       "    <tr>\n",
       "      <th>114</th>\n",
       "      <td>GREEN_AVANTGARDE</td>\n",
       "      <td>0</td>\n",
       "      <td>0.0</td>\n",
       "    </tr>\n",
       "    <tr>\n",
       "      <th>338</th>\n",
       "      <td>SEMIO_LUST</td>\n",
       "      <td>0</td>\n",
       "      <td>0.0</td>\n",
       "    </tr>\n",
       "    <tr>\n",
       "      <th>339</th>\n",
       "      <td>SEMIO_MAT</td>\n",
       "      <td>0</td>\n",
       "      <td>0.0</td>\n",
       "    </tr>\n",
       "    <tr>\n",
       "      <th>340</th>\n",
       "      <td>SEMIO_PFLICHT</td>\n",
       "      <td>0</td>\n",
       "      <td>0.0</td>\n",
       "    </tr>\n",
       "  </tbody>\n",
       "</table>\n",
       "</div>"
      ],
      "text/plain": [
       "                     Feature  NaN Count  NaN Occupancy Rate\n",
       "0                        LNR          0                 0.0\n",
       "335               SEMIO_KAEM          0                 0.0\n",
       "107                FINANZTYP          0                 0.0\n",
       "364                ANREDE_KZ          0                 0.0\n",
       "363                 ZABEOTYP          0                 0.0\n",
       "42               D19_BUCH_CD          0                 0.0\n",
       "58         D19_KONSUMTYP_MAX          0                 0.0\n",
       "89           D19_VERSI_DATUM          0                 0.0\n",
       "90   D19_VERSI_OFFLINE_DATUM          0                 0.0\n",
       "91    D19_VERSI_ONLINE_DATUM          0                 0.0\n",
       "101           FINANZ_ANLEGER          0                 0.0\n",
       "102         FINANZ_HAUSBAUER          0                 0.0\n",
       "103        FINANZ_MINIMALIST          0                 0.0\n",
       "104            FINANZ_SPARER          0                 0.0\n",
       "105    FINANZ_UNAUFFAELLIGER          0                 0.0\n",
       "337               SEMIO_KULT          0                 0.0\n",
       "114         GREEN_AVANTGARDE          0                 0.0\n",
       "338               SEMIO_LUST          0                 0.0\n",
       "339                SEMIO_MAT          0                 0.0\n",
       "340            SEMIO_PFLICHT          0                 0.0"
      ]
     },
     "execution_count": 70,
     "metadata": {},
     "output_type": "execute_result"
    }
   ],
   "source": [
    "# Compare the distribution of values for at least five columns where there are\n",
    "# no or few missing values, between the two subsets.\n",
    "\n",
    "# Explore features with the least NaN occupancy percentage. We can pick 5 of them to make count plots.\n",
    "azdias_summary.sort_values('NaN Occupancy Rate',axis=0,ascending = True).head(20)"
   ]
  },
  {
   "cell_type": "code",
   "execution_count": 73,
   "metadata": {},
   "outputs": [],
   "source": [
    "# seleted features with no missing value or low NaN occupancy rate\n",
    "selected_features = ['ZABEOTYP', 'FINANZ_UNAUFFAELLIGER', 'FINANZ_SPARER', 'ANREDE_KZ', 'SEMIO_KAEM', \\\n",
    "     'SEMIO_MAT']"
   ]
  },
  {
   "cell_type": "code",
   "execution_count": 74,
   "metadata": {},
   "outputs": [
    {
     "data": {
      "text/plain": [
       "<matplotlib.axes._subplots.AxesSubplot at 0x1c314709940>"
      ]
     },
     "execution_count": 74,
     "metadata": {},
     "output_type": "execute_result"
    },
    {
     "data": {
      "image/png": "[encoded data removed]",
      "text/plain": [
       "<Figure size 1440x1440 with 6 Axes>"
      ]
     },
     "metadata": {},
     "output_type": "display_data"
    }
   ],
   "source": [
    "# plot the distribution of data below and above the threshold for each selected feature\n",
    "count_plot(azdias_drop_NaN, selected_features, 'label', normalized = True)"
   ]
  },
  {
   "cell_type": "markdown",
   "metadata": {},
   "source": [
    "#### Discussion"
   ]
  },
  {
   "cell_type": "markdown",
   "metadata": {},
   "source": [
    "The histogram distribution (the first plot in Step 0.3.2) shows that most data peaks around 0% missing values, and decays quickly. Only a few outliers lies in the 30% buckets and above. Therefore, we can use 30% as a threshold to separate these outliers from the normal data.\n",
    "\n",
    "Although these outliers only consist of 10% of the total population, we should pay attention because their distributions in some features are quite different from the majority group (below the threshold), as shown by the count plot in the second plot above. Many features show quite different distribution: the outlier spike in \"6\" buckets in SEMIO_KAEM (associated with personality), and \"5\" in FINANZ_UNAUFFAELLIGER (associated with financial typology). Therefore, the statistics suggest treat these two populations are quite distinct from each other. In the following analysis, we will flag the data with row missing values above the threshold, and only focus on studying the majority group with few or no missing values."
   ]
  },
  {
   "cell_type": "markdown",
   "metadata": {},
   "source": [
    "### Part 0.4: Engineer Features"
   ]
  },
  {
   "cell_type": "code",
   "execution_count": 75,
   "metadata": {},
   "outputs": [
    {
     "data": {
      "text/plain": [
       "'Number of features type according to data dictionary:'"
      ]
     },
     "metadata": {},
     "output_type": "display_data"
    },
    {
     "data": {
      "text/html": [
       "<div>\n",
       "<style scoped>\n",
       "    .dataframe tbody tr th:only-of-type {\n",
       "        vertical-align: middle;\n",
       "    }\n",
       "\n",
       "    .dataframe tbody tr th {\n",
       "        vertical-align: top;\n",
       "    }\n",
       "\n",
       "    .dataframe thead th {\n",
       "        text-align: right;\n",
       "    }\n",
       "</style>\n",
       "<table border=\"1\" class=\"dataframe\">\n",
       "  <thead>\n",
       "    <tr style=\"text-align: right;\">\n",
       "      <th></th>\n",
       "      <th>Attribute</th>\n",
       "    </tr>\n",
       "    <tr>\n",
       "      <th>Type</th>\n",
       "      <th></th>\n",
       "    </tr>\n",
       "  </thead>\n",
       "  <tbody>\n",
       "    <tr>\n",
       "      <th>categorical</th>\n",
       "      <td>61</td>\n",
       "    </tr>\n",
       "    <tr>\n",
       "      <th>interval</th>\n",
       "      <td>4</td>\n",
       "    </tr>\n",
       "    <tr>\n",
       "      <th>mixed</th>\n",
       "      <td>12</td>\n",
       "    </tr>\n",
       "    <tr>\n",
       "      <th>numeric</th>\n",
       "      <td>7</td>\n",
       "    </tr>\n",
       "    <tr>\n",
       "      <th>ordinal</th>\n",
       "      <td>234</td>\n",
       "    </tr>\n",
       "  </tbody>\n",
       "</table>\n",
       "</div>"
      ],
      "text/plain": [
       "             Attribute\n",
       "Type                  \n",
       "categorical         61\n",
       "interval             4\n",
       "mixed               12\n",
       "numeric              7\n",
       "ordinal            234"
      ]
     },
     "metadata": {},
     "output_type": "display_data"
    }
   ],
   "source": [
    "# How many features are there of each data type?\n",
    "display('Number of features type according to data dictionary:', feat_cat[['Attribute', 'Type']].groupby(['Type']).count())"
   ]
  },
  {
   "cell_type": "markdown",
   "metadata": {},
   "source": [
    "#### Step 0.4.1: Re-Encode Categorical Features"
   ]
  },
  {
   "cell_type": "code",
   "execution_count": 76,
   "metadata": {},
   "outputs": [],
   "source": [
    "# select all categorical features\n",
    "categorical_feat = feat_cat[feat_cat['Type'] == 'categorical']"
   ]
  },
  {
   "cell_type": "code",
   "execution_count": 77,
   "metadata": {},
   "outputs": [
    {
     "name": "stdout",
     "output_type": "stream",
     "text": [
      "List of categorical variables to be re-encoded: \n",
      " ['ANREDE_KZ', 'CJT_GESAMTTYP', 'FINANZTYP', 'GFK_URLAUBERTYP', 'GREEN_AVANTGARDE', 'LP_FAMILIE_FEIN', 'LP_FAMILIE_GROB', 'LP_STATUS_FEIN', 'LP_STATUS_GROB', 'NATIONALITAET_KZ', 'SHOPPER_TYP', 'SOHO_KZ', 'VERS_TYP', 'ZABEOTYP', 'GEBAEUDETYP', 'OST_WEST_KZ', 'CAMEO_DEUG_2015', 'CAMEO_DEU_2015', 'D19_KONSUMTYP', 'KBA05_MAXHERST', 'KBA05_MAXSEG']\n"
     ]
    }
   ],
   "source": [
    "# Assess categorical variables: which are binary, which are multi-level, and\n",
    "# which one needs to be re-encoded?\n",
    "\n",
    "# full categorical features from the data dictionary\n",
    "categorical_feat_list = categorical_feat['Attribute'].tolist()\n",
    "# list of categorical features that we have dropped in previous step\n",
    "categorical_feat_to_drop = feature_to_drop['Feature'].values.tolist()\n",
    "# only keep the selected features for re-encoding\n",
    "categorical_dummy = [x for x in categorical_feat_list \\\n",
    "                     if (x not in categorical_feat_to_drop) and (x not in not_found_features)]\n",
    "print(\"List of categorical variables to be re-encoded: \\n\", categorical_dummy)"
   ]
  },
  {
   "cell_type": "code",
   "execution_count": 78,
   "metadata": {},
   "outputs": [
    {
     "name": "stdout",
     "output_type": "stream",
     "text": [
      "replacing the NaN with most frequent value in column:  ALTERSKATEGORIE_FEIN\n",
      "replacing the NaN with most frequent value in column:  ANZ_HAUSHALTE_AKTIV\n",
      "replacing the NaN with most frequent value in column:  ANZ_HH_TITEL\n",
      "replacing the NaN with most frequent value in column:  ARBEIT\n",
      "replacing the NaN with most frequent value in column:  BALLRAUM\n",
      "replacing the NaN with most frequent value in column:  CAMEO_DEU_2015\n",
      "replacing the NaN with most frequent value in column:  CAMEO_DEUG_2015\n",
      "replacing the NaN with most frequent value in column:  CAMEO_INTL_2015\n",
      "replacing the NaN with most frequent value in column:  CJT_GESAMTTYP\n",
      "replacing the NaN with most frequent value in column:  CJT_KATALOGNUTZER\n",
      "replacing the NaN with most frequent value in column:  CJT_TYP_1\n",
      "replacing the NaN with most frequent value in column:  CJT_TYP_2\n",
      "replacing the NaN with most frequent value in column:  CJT_TYP_3\n",
      "replacing the NaN with most frequent value in column:  CJT_TYP_4\n",
      "replacing the NaN with most frequent value in column:  CJT_TYP_5\n",
      "replacing the NaN with most frequent value in column:  CJT_TYP_6\n",
      "replacing the NaN with most frequent value in column:  D19_BANKEN_ONLINE_QUOTE_12\n",
      "replacing the NaN with most frequent value in column:  D19_GESAMT_ONLINE_QUOTE_12\n",
      "replacing the NaN with most frequent value in column:  D19_KONSUMTYP\n",
      "replacing the NaN with most frequent value in column:  D19_LETZTER_KAUF_BRANCHE\n",
      "replacing the NaN with most frequent value in column:  D19_SOZIALES\n",
      "replacing the NaN with most frequent value in column:  D19_TELKO_ONLINE_QUOTE_12\n",
      "replacing the NaN with most frequent value in column:  D19_VERSAND_ONLINE_QUOTE_12\n",
      "replacing the NaN with most frequent value in column:  D19_VERSI_ONLINE_QUOTE_12\n",
      "replacing the NaN with most frequent value in column:  EWDICHTE\n",
      "replacing the NaN with most frequent value in column:  FIRMENDICHTE\n",
      "replacing the NaN with most frequent value in column:  GEBAEUDETYP_RASTER\n",
      "replacing the NaN with most frequent value in column:  GEMEINDETYP\n",
      "replacing the NaN with most frequent value in column:  GFK_URLAUBERTYP\n",
      "replacing the NaN with most frequent value in column:  HEALTH_TYP\n",
      "replacing the NaN with most frequent value in column:  HH_DELTA_FLAG\n",
      "replacing the NaN with most frequent value in column:  INNENSTADT\n",
      "replacing the NaN with most frequent value in column:  KBA05_ALTER1\n",
      "replacing the NaN with most frequent value in column:  KBA05_ALTER2\n",
      "replacing the NaN with most frequent value in column:  KBA05_ALTER3\n",
      "replacing the NaN with most frequent value in column:  KBA05_ALTER4\n",
      "replacing the NaN with most frequent value in column:  KBA05_ANHANG\n",
      "replacing the NaN with most frequent value in column:  KBA05_ANTG1\n",
      "replacing the NaN with most frequent value in column:  KBA05_ANTG2\n",
      "replacing the NaN with most frequent value in column:  KBA05_ANTG3\n",
      "replacing the NaN with most frequent value in column:  KBA05_ANTG4\n",
      "replacing the NaN with most frequent value in column:  KBA05_AUTOQUOT\n",
      "replacing the NaN with most frequent value in column:  KBA05_CCM1\n",
      "replacing the NaN with most frequent value in column:  KBA05_CCM2\n",
      "replacing the NaN with most frequent value in column:  KBA05_CCM3\n",
      "replacing the NaN with most frequent value in column:  KBA05_CCM4\n",
      "replacing the NaN with most frequent value in column:  KBA05_DIESEL\n",
      "replacing the NaN with most frequent value in column:  KBA05_FRAU\n",
      "replacing the NaN with most frequent value in column:  KBA05_GBZ\n",
      "replacing the NaN with most frequent value in column:  KBA05_HERST1\n",
      "replacing the NaN with most frequent value in column:  KBA05_HERST2\n",
      "replacing the NaN with most frequent value in column:  KBA05_HERST3\n",
      "replacing the NaN with most frequent value in column:  KBA05_HERST4\n",
      "replacing the NaN with most frequent value in column:  KBA05_HERST5\n",
      "replacing the NaN with most frequent value in column:  KBA05_HERSTTEMP\n",
      "replacing the NaN with most frequent value in column:  KBA05_KRSAQUOT\n",
      "replacing the NaN with most frequent value in column:  KBA05_KRSHERST1\n",
      "replacing the NaN with most frequent value in column:  KBA05_KRSHERST2\n",
      "replacing the NaN with most frequent value in column:  KBA05_KRSHERST3\n",
      "replacing the NaN with most frequent value in column:  KBA05_KRSKLEIN\n",
      "replacing the NaN with most frequent value in column:  KBA05_KRSOBER\n",
      "replacing the NaN with most frequent value in column:  KBA05_KRSVAN\n",
      "replacing the NaN with most frequent value in column:  KBA05_KRSZUL\n",
      "replacing the NaN with most frequent value in column:  KBA05_KW1\n",
      "replacing the NaN with most frequent value in column:  KBA05_KW2\n",
      "replacing the NaN with most frequent value in column:  KBA05_KW3\n",
      "replacing the NaN with most frequent value in column:  KBA05_MAXAH\n",
      "replacing the NaN with most frequent value in column:  KBA05_MAXBJ\n",
      "replacing the NaN with most frequent value in column:  KBA05_MAXHERST\n",
      "replacing the NaN with most frequent value in column:  KBA05_MAXSEG\n",
      "replacing the NaN with most frequent value in column:  KBA05_MAXVORB\n",
      "replacing the NaN with most frequent value in column:  KBA05_MOD1\n",
      "replacing the NaN with most frequent value in column:  KBA05_MOD2\n",
      "replacing the NaN with most frequent value in column:  KBA05_MOD3\n",
      "replacing the NaN with most frequent value in column:  KBA05_MOD4\n",
      "replacing the NaN with most frequent value in column:  KBA05_MOD8\n",
      "replacing the NaN with most frequent value in column:  KBA05_MOTOR\n",
      "replacing the NaN with most frequent value in column:  KBA05_MOTRAD\n",
      "replacing the NaN with most frequent value in column:  KBA05_SEG1\n",
      "replacing the NaN with most frequent value in column:  KBA05_SEG10\n",
      "replacing the NaN with most frequent value in column:  KBA05_SEG2\n",
      "replacing the NaN with most frequent value in column:  KBA05_SEG3\n",
      "replacing the NaN with most frequent value in column:  KBA05_SEG4\n",
      "replacing the NaN with most frequent value in column:  KBA05_SEG5\n",
      "replacing the NaN with most frequent value in column:  KBA05_SEG6\n",
      "replacing the NaN with most frequent value in column:  KBA05_SEG7\n",
      "replacing the NaN with most frequent value in column:  KBA05_SEG8\n",
      "replacing the NaN with most frequent value in column:  KBA05_SEG9\n",
      "replacing the NaN with most frequent value in column:  KBA05_VORB0\n",
      "replacing the NaN with most frequent value in column:  KBA05_VORB1\n",
      "replacing the NaN with most frequent value in column:  KBA05_VORB2\n",
      "replacing the NaN with most frequent value in column:  KBA05_ZUL1\n",
      "replacing the NaN with most frequent value in column:  KBA05_ZUL2\n",
      "replacing the NaN with most frequent value in column:  KBA05_ZUL3\n",
      "replacing the NaN with most frequent value in column:  KBA05_ZUL4\n",
      "replacing the NaN with most frequent value in column:  KKK\n",
      "replacing the NaN with most frequent value in column:  KONSUMNAEHE\n",
      "replacing the NaN with most frequent value in column:  KONSUMZELLE\n",
      "replacing the NaN with most frequent value in column:  LP_FAMILIE_FEIN\n",
      "replacing the NaN with most frequent value in column:  LP_FAMILIE_GROB\n",
      "replacing the NaN with most frequent value in column:  LP_LEBENSPHASE_FEIN\n",
      "replacing the NaN with most frequent value in column:  LP_LEBENSPHASE_GROB\n",
      "replacing the NaN with most frequent value in column:  LP_STATUS_FEIN\n",
      "replacing the NaN with most frequent value in column:  LP_STATUS_GROB\n",
      "replacing the NaN with most frequent value in column:  MOBI_REGIO\n",
      "replacing the NaN with most frequent value in column:  NATIONALITAET_KZ\n",
      "replacing the NaN with most frequent value in column:  ONLINE_AFFINITAET\n",
      "replacing the NaN with most frequent value in column:  ORTSGR_KLS9\n",
      "replacing the NaN with most frequent value in column:  PLZ8_ANTG1\n",
      "replacing the NaN with most frequent value in column:  PLZ8_ANTG2\n",
      "replacing the NaN with most frequent value in column:  PLZ8_ANTG3\n",
      "replacing the NaN with most frequent value in column:  PLZ8_ANTG4\n",
      "replacing the NaN with most frequent value in column:  PLZ8_BAUMAX\n",
      "replacing the NaN with most frequent value in column:  PLZ8_GBZ\n",
      "replacing the NaN with most frequent value in column:  PLZ8_HHZ\n",
      "replacing the NaN with most frequent value in column:  PRAEGENDE_JUGENDJAHRE\n",
      "replacing the NaN with most frequent value in column:  REGIOTYP\n",
      "replacing the NaN with most frequent value in column:  RELAT_AB\n",
      "replacing the NaN with most frequent value in column:  RETOURTYP_BK_S\n",
      "replacing the NaN with most frequent value in column:  RT_KEIN_ANREIZ\n",
      "replacing the NaN with most frequent value in column:  RT_SCHNAEPPCHEN\n",
      "replacing the NaN with most frequent value in column:  RT_UEBERGROESSE\n"
     ]
    },
    {
     "name": "stdout",
     "output_type": "stream",
     "text": [
      "replacing the NaN with most frequent value in column:  SHOPPER_TYP\n",
      "replacing the NaN with most frequent value in column:  STRUKTURTYP\n",
      "replacing the NaN with most frequent value in column:  UMFELD_ALT\n",
      "replacing the NaN with most frequent value in column:  UMFELD_JUNG\n",
      "replacing the NaN with most frequent value in column:  VERDICHTUNGSRAUM\n",
      "replacing the NaN with most frequent value in column:  VERS_TYP\n",
      "replacing the NaN with most frequent value in column:  VHN\n",
      "replacing the NaN with most frequent value in column:  VK_DHT4A\n",
      "replacing the NaN with most frequent value in column:  VK_DISTANZ\n",
      "replacing the NaN with most frequent value in column:  VK_ZG11\n",
      "replacing the NaN with most frequent value in column:  W_KEIT_KIND_HH\n",
      "replacing the NaN with most frequent value in column:  ALTERSKATEGORIE_GROB\n"
     ]
    }
   ],
   "source": [
    "# Re-encode categorical variable(s) to be kept in the analysis.\n",
    "'''\n",
    "    Step 1: impute the most frequent value for the missing data in each column\n",
    "'''\n",
    "\n",
    "# list of columns with missing values:\n",
    "nan_cols = azdias_small_NaN.columns[azdias_small_NaN.isnull().any()].tolist()\n",
    "\n",
    "for col in nan_cols:\n",
    "    print(\"replacing the NaN with most frequent value in column: \", col)\n",
    "    impute_na(azdias_small_NaN, col)"
   ]
  },
  {
   "cell_type": "code",
   "execution_count": 79,
   "metadata": {},
   "outputs": [
    {
     "name": "stdout",
     "output_type": "stream",
     "text": [
      "Are there any np.nan in the column \"NATIONALITAET_KZ\"? False\n"
     ]
    }
   ],
   "source": [
    "# sanity check:\n",
    "col_sc = 'NATIONALITAET_KZ'\n",
    "print('Are there any np.nan in the column \"{}\"? {}'.format(col_sc, azdias_small_NaN[col_sc].isnull().any()))"
   ]
  },
  {
   "cell_type": "code",
   "execution_count": 80,
   "metadata": {},
   "outputs": [],
   "source": [
    "''' Step 2: convert selected categorical variables from above into dummy variable representation, \n",
    "        and replace original column names by using their prefix + categorical value\n",
    "'''\n",
    "azdias_CAT_OHE = pd.get_dummies(azdias_small_NaN, prefix = categorical_dummy, columns = categorical_dummy)"
   ]
  },
  {
   "cell_type": "code",
   "execution_count": 81,
   "metadata": {},
   "outputs": [
    {
     "data": {
      "text/html": [
       "<div>\n",
       "<style scoped>\n",
       "    .dataframe tbody tr th:only-of-type {\n",
       "        vertical-align: middle;\n",
       "    }\n",
       "\n",
       "    .dataframe tbody tr th {\n",
       "        vertical-align: top;\n",
       "    }\n",
       "\n",
       "    .dataframe thead th {\n",
       "        text-align: right;\n",
       "    }\n",
       "</style>\n",
       "<table border=\"1\" class=\"dataframe\">\n",
       "  <thead>\n",
       "    <tr style=\"text-align: right;\">\n",
       "      <th></th>\n",
       "      <th>LNR</th>\n",
       "      <th>AKT_DAT_KL</th>\n",
       "      <th>ALTERSKATEGORIE_FEIN</th>\n",
       "      <th>ANZ_HAUSHALTE_AKTIV</th>\n",
       "      <th>ANZ_HH_TITEL</th>\n",
       "      <th>ANZ_KINDER</th>\n",
       "      <th>ANZ_PERSONEN</th>\n",
       "      <th>ANZ_STATISTISCHE_HAUSHALTE</th>\n",
       "      <th>ANZ_TITEL</th>\n",
       "      <th>ARBEIT</th>\n",
       "      <th>...</th>\n",
       "      <th>D19_KONSUMTYP_9.0</th>\n",
       "      <th>KBA05_MAXHERST_1.0</th>\n",
       "      <th>KBA05_MAXHERST_2.0</th>\n",
       "      <th>KBA05_MAXHERST_3.0</th>\n",
       "      <th>KBA05_MAXHERST_4.0</th>\n",
       "      <th>KBA05_MAXHERST_5.0</th>\n",
       "      <th>KBA05_MAXSEG_1.0</th>\n",
       "      <th>KBA05_MAXSEG_2.0</th>\n",
       "      <th>KBA05_MAXSEG_3.0</th>\n",
       "      <th>KBA05_MAXSEG_4.0</th>\n",
       "    </tr>\n",
       "  </thead>\n",
       "  <tbody>\n",
       "    <tr>\n",
       "      <th>0</th>\n",
       "      <td>910220</td>\n",
       "      <td>9.0</td>\n",
       "      <td>21.0</td>\n",
       "      <td>11.0</td>\n",
       "      <td>0.0</td>\n",
       "      <td>0.0</td>\n",
       "      <td>2.0</td>\n",
       "      <td>12.0</td>\n",
       "      <td>0.0</td>\n",
       "      <td>3.0</td>\n",
       "      <td>...</td>\n",
       "      <td>1</td>\n",
       "      <td>0</td>\n",
       "      <td>1</td>\n",
       "      <td>0</td>\n",
       "      <td>0</td>\n",
       "      <td>0</td>\n",
       "      <td>0</td>\n",
       "      <td>0</td>\n",
       "      <td>0</td>\n",
       "      <td>1</td>\n",
       "    </tr>\n",
       "    <tr>\n",
       "      <th>1</th>\n",
       "      <td>910225</td>\n",
       "      <td>9.0</td>\n",
       "      <td>17.0</td>\n",
       "      <td>10.0</td>\n",
       "      <td>0.0</td>\n",
       "      <td>0.0</td>\n",
       "      <td>1.0</td>\n",
       "      <td>7.0</td>\n",
       "      <td>0.0</td>\n",
       "      <td>3.0</td>\n",
       "      <td>...</td>\n",
       "      <td>1</td>\n",
       "      <td>0</td>\n",
       "      <td>0</td>\n",
       "      <td>0</td>\n",
       "      <td>0</td>\n",
       "      <td>1</td>\n",
       "      <td>1</td>\n",
       "      <td>0</td>\n",
       "      <td>0</td>\n",
       "      <td>0</td>\n",
       "    </tr>\n",
       "    <tr>\n",
       "      <th>2</th>\n",
       "      <td>910226</td>\n",
       "      <td>1.0</td>\n",
       "      <td>13.0</td>\n",
       "      <td>1.0</td>\n",
       "      <td>0.0</td>\n",
       "      <td>0.0</td>\n",
       "      <td>0.0</td>\n",
       "      <td>2.0</td>\n",
       "      <td>0.0</td>\n",
       "      <td>2.0</td>\n",
       "      <td>...</td>\n",
       "      <td>1</td>\n",
       "      <td>0</td>\n",
       "      <td>0</td>\n",
       "      <td>1</td>\n",
       "      <td>0</td>\n",
       "      <td>0</td>\n",
       "      <td>0</td>\n",
       "      <td>1</td>\n",
       "      <td>0</td>\n",
       "      <td>0</td>\n",
       "    </tr>\n",
       "    <tr>\n",
       "      <th>3</th>\n",
       "      <td>910241</td>\n",
       "      <td>1.0</td>\n",
       "      <td>14.0</td>\n",
       "      <td>3.0</td>\n",
       "      <td>0.0</td>\n",
       "      <td>0.0</td>\n",
       "      <td>4.0</td>\n",
       "      <td>3.0</td>\n",
       "      <td>0.0</td>\n",
       "      <td>4.0</td>\n",
       "      <td>...</td>\n",
       "      <td>0</td>\n",
       "      <td>0</td>\n",
       "      <td>0</td>\n",
       "      <td>1</td>\n",
       "      <td>0</td>\n",
       "      <td>0</td>\n",
       "      <td>1</td>\n",
       "      <td>0</td>\n",
       "      <td>0</td>\n",
       "      <td>0</td>\n",
       "    </tr>\n",
       "    <tr>\n",
       "      <th>4</th>\n",
       "      <td>910244</td>\n",
       "      <td>1.0</td>\n",
       "      <td>10.0</td>\n",
       "      <td>5.0</td>\n",
       "      <td>0.0</td>\n",
       "      <td>0.0</td>\n",
       "      <td>1.0</td>\n",
       "      <td>2.0</td>\n",
       "      <td>0.0</td>\n",
       "      <td>2.0</td>\n",
       "      <td>...</td>\n",
       "      <td>0</td>\n",
       "      <td>0</td>\n",
       "      <td>1</td>\n",
       "      <td>0</td>\n",
       "      <td>0</td>\n",
       "      <td>0</td>\n",
       "      <td>0</td>\n",
       "      <td>1</td>\n",
       "      <td>0</td>\n",
       "      <td>0</td>\n",
       "    </tr>\n",
       "  </tbody>\n",
       "</table>\n",
       "<p>5 rows × 433 columns</p>\n",
       "</div>"
      ],
      "text/plain": [
       "      LNR  AKT_DAT_KL  ALTERSKATEGORIE_FEIN  ANZ_HAUSHALTE_AKTIV  \\\n",
       "0  910220         9.0                  21.0                 11.0   \n",
       "1  910225         9.0                  17.0                 10.0   \n",
       "2  910226         1.0                  13.0                  1.0   \n",
       "3  910241         1.0                  14.0                  3.0   \n",
       "4  910244         1.0                  10.0                  5.0   \n",
       "\n",
       "   ANZ_HH_TITEL  ANZ_KINDER  ANZ_PERSONEN  ANZ_STATISTISCHE_HAUSHALTE  \\\n",
       "0           0.0         0.0           2.0                        12.0   \n",
       "1           0.0         0.0           1.0                         7.0   \n",
       "2           0.0         0.0           0.0                         2.0   \n",
       "3           0.0         0.0           4.0                         3.0   \n",
       "4           0.0         0.0           1.0                         2.0   \n",
       "\n",
       "   ANZ_TITEL  ARBEIT        ...         D19_KONSUMTYP_9.0  KBA05_MAXHERST_1.0  \\\n",
       "0        0.0     3.0        ...                         1                   0   \n",
       "1        0.0     3.0        ...                         1                   0   \n",
       "2        0.0     2.0        ...                         1                   0   \n",
       "3        0.0     4.0        ...                         0                   0   \n",
       "4        0.0     2.0        ...                         0                   0   \n",
       "\n",
       "   KBA05_MAXHERST_2.0  KBA05_MAXHERST_3.0  KBA05_MAXHERST_4.0  \\\n",
       "0                   1                   0                   0   \n",
       "1                   0                   0                   0   \n",
       "2                   0                   1                   0   \n",
       "3                   0                   1                   0   \n",
       "4                   1                   0                   0   \n",
       "\n",
       "   KBA05_MAXHERST_5.0  KBA05_MAXSEG_1.0  KBA05_MAXSEG_2.0  KBA05_MAXSEG_3.0  \\\n",
       "0                   0                 0                 0                 0   \n",
       "1                   1                 1                 0                 0   \n",
       "2                   0                 0                 1                 0   \n",
       "3                   0                 1                 0                 0   \n",
       "4                   0                 0                 1                 0   \n",
       "\n",
       "   KBA05_MAXSEG_4.0  \n",
       "0                 1  \n",
       "1                 0  \n",
       "2                 0  \n",
       "3                 0  \n",
       "4                 0  \n",
       "\n",
       "[5 rows x 433 columns]"
      ]
     },
     "execution_count": 81,
     "metadata": {},
     "output_type": "execute_result"
    }
   ],
   "source": [
    "azdias_CAT_OHE.head()"
   ]
  },
  {
   "cell_type": "code",
   "execution_count": 82,
   "metadata": {},
   "outputs": [
    {
     "data": {
      "text/plain": [
       "(785318, 433)"
      ]
     },
     "execution_count": 82,
     "metadata": {},
     "output_type": "execute_result"
    }
   ],
   "source": [
    "azdias_CAT_OHE.shape"
   ]
  },
  {
   "cell_type": "markdown",
   "metadata": {},
   "source": [
    "#### Discussion"
   ]
  },
  {
   "cell_type": "markdown",
   "metadata": {},
   "source": [
    "By exploring all categorical variables and values from the data dictionary, I found \"OST_WEST_KZ\" is the only one binary categorical variable with non-numeric values, and the rest are multi-categorical variables. Rather than dropping multi-categorical variables which could potentially losses valuable information, I would prefer to keep and create all of these as dummy variables.\n",
    "\n",
    "Below is the complete list of categorical feature name (that I re-encoded as dummy varialbes), followed by the corresponding possible values from the data dictionary, where the \"dropped\" in the parenthesis indicates they have been removed due to high NaN occupancy rates in preliminary analysis above.\n",
    "\n",
    "1. Binary Non-numeric Categoricals\n",
    "    * OST_WEST_KZ O W\n",
    "\n",
    "2. Multi-level Categoricals\n",
    "    * AGER_TYP, values: 1~3 (dropped)\n",
    "    * ANREDE_KZ, values: 1, 2\n",
    "    * CJT_GESAMTTYP, values: 1~6\n",
    "    * FINANZTYP, values: 1~6\n",
    "    * GFK_URLAUBERTYP, values: 1~12\n",
    "    * GREEN_AVANTGARDE, values: 0, 1\n",
    "    * LP_FAMILIE_FEIN, values: 1~11\n",
    "    * LP_FAMILIE_GROB, values: 1~5\n",
    "    * LP_STATUS_FEIN, values: 1~10\n",
    "    * LP_STATUS_GROB, values: 1~5\n",
    "    * NATIONALITAET_KZ, values: 1~3\n",
    "    * SHOPPER_TYP, values: 0~3\n",
    "    * SOHO_KZ, values: 0, 1\n",
    "    * TITEL_KZ, values: 1~5 (dropped)\n",
    "    * VERS_TYP, values: 1, 2\n",
    "    * ZABEOTYP, values: 1~9\n",
    "    * KK_KUNDENTYP, values: 1~6 (dropped)\n",
    "    * GEBAEUDETYP, values: 1~8\n",
    "    * CAMEO_DEUG_2015, values: 1~9\n",
    "    * CAMEO_DEU_2015, values: 1A, 1B, etc.\n",
    "    * D19_KONSUMTYP, values: 1~9\n",
    "    * KBA05_MAXHERST, values: 1~5\n",
    "    * KBA05_MAXSEG, values: 1~4"
   ]
  },
  {
   "cell_type": "markdown",
   "metadata": {},
   "source": [
    "#### Step 0.4.2: Engineer Mixed-Type Features"
   ]
  },
  {
   "cell_type": "code",
   "execution_count": 83,
   "metadata": {},
   "outputs": [
    {
     "data": {
      "text/html": [
       "<div>\n",
       "<style scoped>\n",
       "    .dataframe tbody tr th:only-of-type {\n",
       "        vertical-align: middle;\n",
       "    }\n",
       "\n",
       "    .dataframe tbody tr th {\n",
       "        vertical-align: top;\n",
       "    }\n",
       "\n",
       "    .dataframe thead th {\n",
       "        text-align: right;\n",
       "    }\n",
       "</style>\n",
       "<table border=\"1\" class=\"dataframe\">\n",
       "  <thead>\n",
       "    <tr style=\"text-align: right;\">\n",
       "      <th></th>\n",
       "      <th>Attribute</th>\n",
       "      <th>Type</th>\n",
       "    </tr>\n",
       "  </thead>\n",
       "  <tbody>\n",
       "    <tr>\n",
       "      <th>15</th>\n",
       "      <td>LP_LEBENSPHASE_FEIN</td>\n",
       "      <td>mixed</td>\n",
       "    </tr>\n",
       "    <tr>\n",
       "      <th>16</th>\n",
       "      <td>LP_LEBENSPHASE_GROB</td>\n",
       "      <td>mixed</td>\n",
       "    </tr>\n",
       "    <tr>\n",
       "      <th>22</th>\n",
       "      <td>PRAEGENDE_JUGENDJAHRE</td>\n",
       "      <td>mixed</td>\n",
       "    </tr>\n",
       "    <tr>\n",
       "      <th>56</th>\n",
       "      <td>WOHNLAGE</td>\n",
       "      <td>mixed</td>\n",
       "    </tr>\n",
       "    <tr>\n",
       "      <th>59</th>\n",
       "      <td>CAMEO_INTL_2015</td>\n",
       "      <td>mixed</td>\n",
       "    </tr>\n",
       "    <tr>\n",
       "      <th>64</th>\n",
       "      <td>KBA05_BAUMAX</td>\n",
       "      <td>mixed</td>\n",
       "    </tr>\n",
       "    <tr>\n",
       "      <th>79</th>\n",
       "      <td>PLZ8_BAUMAX</td>\n",
       "      <td>mixed</td>\n",
       "    </tr>\n",
       "    <tr>\n",
       "      <th>86</th>\n",
       "      <td>CAMEO_DEUINTL_2015</td>\n",
       "      <td>mixed</td>\n",
       "    </tr>\n",
       "    <tr>\n",
       "      <th>149</th>\n",
       "      <td>HAUSHALTSSTRUKTUR</td>\n",
       "      <td>mixed</td>\n",
       "    </tr>\n",
       "    <tr>\n",
       "      <th>167</th>\n",
       "      <td>KBA05_HERSTTEMP</td>\n",
       "      <td>mixed</td>\n",
       "    </tr>\n",
       "    <tr>\n",
       "      <th>189</th>\n",
       "      <td>KBA05_MODTEMP</td>\n",
       "      <td>mixed</td>\n",
       "    </tr>\n",
       "    <tr>\n",
       "      <th>317</th>\n",
       "      <td>WACHSTUMSGEBIET_NB</td>\n",
       "      <td>mixed</td>\n",
       "    </tr>\n",
       "  </tbody>\n",
       "</table>\n",
       "</div>"
      ],
      "text/plain": [
       "                 Attribute   Type\n",
       "15     LP_LEBENSPHASE_FEIN  mixed\n",
       "16     LP_LEBENSPHASE_GROB  mixed\n",
       "22   PRAEGENDE_JUGENDJAHRE  mixed\n",
       "56                WOHNLAGE  mixed\n",
       "59         CAMEO_INTL_2015  mixed\n",
       "64            KBA05_BAUMAX  mixed\n",
       "79             PLZ8_BAUMAX  mixed\n",
       "86      CAMEO_DEUINTL_2015  mixed\n",
       "149      HAUSHALTSSTRUKTUR  mixed\n",
       "167        KBA05_HERSTTEMP  mixed\n",
       "189          KBA05_MODTEMP  mixed\n",
       "317     WACHSTUMSGEBIET_NB  mixed"
      ]
     },
     "metadata": {},
     "output_type": "display_data"
    }
   ],
   "source": [
    "# explore all mixed type features\n",
    "mixed_feat = feat_cat[feat_cat['Type'] == 'mixed']\n",
    "display(mixed_feat)"
   ]
  },
  {
   "cell_type": "markdown",
   "metadata": {},
   "source": [
    "The list above shows all mixed-type features in the data dictionary, which is similar to previous unsupervised-learning project, except **HAUSHALTSSTRUKTUR**, **WACHSTUMSGEBIET_NB**, **KBA05_HERSTTEMP** and **KBA05_MODTEMP**. Recall that **HAUSHALTSSTRUKTUR** and **WACHSTUMSGEBIET_NB** are non-existing features in the dataset. Two additional categorical variables should be re-engineer here: **KBA05_HERSTTEMP** and **KBA05_MODTEMP**."
   ]
  },
  {
   "cell_type": "code",
   "execution_count": 84,
   "metadata": {},
   "outputs": [],
   "source": [
    "# Investigate \"PRAEGENDE_JUGENDJAHRE\" and engineer two new variables.\n",
    "azdias_CAT_OHE['DECADE'] = azdias_CAT_OHE['PRAEGENDE_JUGENDJAHRE'].apply(lambda x: feature_decade(x))\n",
    "azdias_CAT_OHE['MOVEMENT'] = azdias_CAT_OHE['PRAEGENDE_JUGENDJAHRE'].apply(lambda x: feature_movement(x))     "
   ]
  },
  {
   "cell_type": "code",
   "execution_count": 85,
   "metadata": {},
   "outputs": [
    {
     "data": {
      "text/html": [
       "<div>\n",
       "<style scoped>\n",
       "    .dataframe tbody tr th:only-of-type {\n",
       "        vertical-align: middle;\n",
       "    }\n",
       "\n",
       "    .dataframe tbody tr th {\n",
       "        vertical-align: top;\n",
       "    }\n",
       "\n",
       "    .dataframe thead th {\n",
       "        text-align: right;\n",
       "    }\n",
       "</style>\n",
       "<table border=\"1\" class=\"dataframe\">\n",
       "  <thead>\n",
       "    <tr style=\"text-align: right;\">\n",
       "      <th></th>\n",
       "      <th>PRAEGENDE_JUGENDJAHRE</th>\n",
       "      <th>DECADE</th>\n",
       "      <th>MOVEMENT</th>\n",
       "    </tr>\n",
       "  </thead>\n",
       "  <tbody>\n",
       "    <tr>\n",
       "      <th>0</th>\n",
       "      <td>14.0</td>\n",
       "      <td>6</td>\n",
       "      <td>0</td>\n",
       "    </tr>\n",
       "    <tr>\n",
       "      <th>1</th>\n",
       "      <td>15.0</td>\n",
       "      <td>6</td>\n",
       "      <td>1</td>\n",
       "    </tr>\n",
       "    <tr>\n",
       "      <th>2</th>\n",
       "      <td>8.0</td>\n",
       "      <td>4</td>\n",
       "      <td>0</td>\n",
       "    </tr>\n",
       "    <tr>\n",
       "      <th>3</th>\n",
       "      <td>8.0</td>\n",
       "      <td>4</td>\n",
       "      <td>0</td>\n",
       "    </tr>\n",
       "    <tr>\n",
       "      <th>4</th>\n",
       "      <td>3.0</td>\n",
       "      <td>2</td>\n",
       "      <td>0</td>\n",
       "    </tr>\n",
       "  </tbody>\n",
       "</table>\n",
       "</div>"
      ],
      "text/plain": [
       "   PRAEGENDE_JUGENDJAHRE  DECADE  MOVEMENT\n",
       "0                   14.0       6         0\n",
       "1                   15.0       6         1\n",
       "2                    8.0       4         0\n",
       "3                    8.0       4         0\n",
       "4                    3.0       2         0"
      ]
     },
     "execution_count": 85,
     "metadata": {},
     "output_type": "execute_result"
    }
   ],
   "source": [
    "# sanity check on PRAEGENDE_JUGENDJAHRE mapping\n",
    "azdias_CAT_OHE[['PRAEGENDE_JUGENDJAHRE', 'DECADE', 'MOVEMENT']].head()"
   ]
  },
  {
   "cell_type": "code",
   "execution_count": 86,
   "metadata": {},
   "outputs": [],
   "source": [
    "# Investigate \"CAMEO_INTL_2015\" and engineer two new variables.\n",
    "azdias_CAT_OHE['WEALTH'] = azdias_CAT_OHE['CAMEO_INTL_2015'].astype(float).apply(lambda x: np.floor(x / 10))\n",
    "azdias_CAT_OHE['LIFE_STAGE'] = azdias_CAT_OHE['CAMEO_INTL_2015'].astype(float).apply(lambda x: (x % 10)) "
   ]
  },
  {
   "cell_type": "code",
   "execution_count": 87,
   "metadata": {},
   "outputs": [
    {
     "data": {
      "text/html": [
       "<div>\n",
       "<style scoped>\n",
       "    .dataframe tbody tr th:only-of-type {\n",
       "        vertical-align: middle;\n",
       "    }\n",
       "\n",
       "    .dataframe tbody tr th {\n",
       "        vertical-align: top;\n",
       "    }\n",
       "\n",
       "    .dataframe thead th {\n",
       "        text-align: right;\n",
       "    }\n",
       "</style>\n",
       "<table border=\"1\" class=\"dataframe\">\n",
       "  <thead>\n",
       "    <tr style=\"text-align: right;\">\n",
       "      <th></th>\n",
       "      <th>CAMEO_INTL_2015</th>\n",
       "      <th>WEALTH</th>\n",
       "      <th>LIFE_STAGE</th>\n",
       "    </tr>\n",
       "  </thead>\n",
       "  <tbody>\n",
       "    <tr>\n",
       "      <th>0</th>\n",
       "      <td>51.0</td>\n",
       "      <td>5.0</td>\n",
       "      <td>1.0</td>\n",
       "    </tr>\n",
       "    <tr>\n",
       "      <th>1</th>\n",
       "      <td>24.0</td>\n",
       "      <td>2.0</td>\n",
       "      <td>4.0</td>\n",
       "    </tr>\n",
       "    <tr>\n",
       "      <th>2</th>\n",
       "      <td>12.0</td>\n",
       "      <td>1.0</td>\n",
       "      <td>2.0</td>\n",
       "    </tr>\n",
       "    <tr>\n",
       "      <th>3</th>\n",
       "      <td>43.0</td>\n",
       "      <td>4.0</td>\n",
       "      <td>3.0</td>\n",
       "    </tr>\n",
       "    <tr>\n",
       "      <th>4</th>\n",
       "      <td>54.0</td>\n",
       "      <td>5.0</td>\n",
       "      <td>4.0</td>\n",
       "    </tr>\n",
       "  </tbody>\n",
       "</table>\n",
       "</div>"
      ],
      "text/plain": [
       "   CAMEO_INTL_2015  WEALTH  LIFE_STAGE\n",
       "0             51.0     5.0         1.0\n",
       "1             24.0     2.0         4.0\n",
       "2             12.0     1.0         2.0\n",
       "3             43.0     4.0         3.0\n",
       "4             54.0     5.0         4.0"
      ]
     },
     "execution_count": 87,
     "metadata": {},
     "output_type": "execute_result"
    }
   ],
   "source": [
    "# sanity check on CAMEO_INTL_2015 mapping\n",
    "azdias_CAT_OHE[['CAMEO_INTL_2015', 'WEALTH', 'LIFE_STAGE']].head()"
   ]
  },
  {
   "cell_type": "code",
   "execution_count": 88,
   "metadata": {},
   "outputs": [],
   "source": [
    "# Investigate \"WOHNLAGE\" and engineer two new variables.\n",
    "azdias_CAT_OHE['NEIGHBORHOOD'] = azdias_CAT_OHE['WOHNLAGE'].astype(float).apply(lambda x: feature_neighborhood(x))\n",
    "azdias_CAT_OHE['RURAL_FLAG'] = azdias_CAT_OHE['WOHNLAGE'].astype(float).apply(lambda x: feature_rural(x))\n",
    "impute_na(azdias_CAT_OHE, 'NEIGHBORHOOD')\n",
    "impute_na(azdias_CAT_OHE, 'RURAL_FLAG')"
   ]
  },
  {
   "cell_type": "code",
   "execution_count": 89,
   "metadata": {},
   "outputs": [],
   "source": [
    "# Investigate \"PLZ8_BAUMAX\" and engineer two new variables.\n",
    "azdias_CAT_OHE['PLZ8_HOMES'] = azdias_CAT_OHE['PLZ8_BAUMAX'].astype(float).apply(lambda x: feature_homes(x))\n",
    "azdias_CAT_OHE['PLZ8_BUSINESS'] = azdias_CAT_OHE['PLZ8_BAUMAX'].astype(float).apply(lambda x: feature_business(x))\n",
    "impute_na(azdias_CAT_OHE, 'PLZ8_HOMES')\n",
    "impute_na(azdias_CAT_OHE, 'PLZ8_BUSINESS')"
   ]
  },
  {
   "cell_type": "code",
   "execution_count": 90,
   "metadata": {},
   "outputs": [],
   "source": [
    "# Investigate KBA05_HERSTTEMP, and engineer one ordinal variable, and one binary categorical variable respectively.\n",
    "azdias_CAT_OHE['KBA05_HERSTTEMP_NEIGHBORHOOD_DEV'] = azdias_CAT_OHE['KBA05_HERSTTEMP'].astype(float).apply(lambda x: feature_neighborhood_development(x))\n",
    "azdias_CAT_OHE['KBA05_HERSTTEMP_NB_FLG'] = azdias_CAT_OHE['KBA05_HERSTTEMP'].astype(float).apply(lambda x: feature_new_building_flag(x))\n",
    "impute_na(azdias_CAT_OHE, 'KBA05_HERSTTEMP_NEIGHBORHOOD_DEV')\n",
    "impute_na(azdias_CAT_OHE, 'KBA05_HERSTTEMP_NB_FLG')"
   ]
  },
  {
   "cell_type": "code",
   "execution_count": 91,
   "metadata": {},
   "outputs": [],
   "source": [
    "# Investigate KBA05_HERSTTEMP, and engineer one ordinal variable, and one binary categorical variable respectively.\n",
    "azdias_CAT_OHE['KBA05_MODTEMP_NEIGHBORHOOD_DEV'] = azdias_CAT_OHE['KBA05_MODTEMP'].astype(float).apply(lambda x: feature_neighborhood_development(x))\n",
    "azdias_CAT_OHE['KBA05_MODTEMP_NB_FLG'] = azdias_CAT_OHE['KBA05_MODTEMP'].astype(float).apply(lambda x: feature_new_building_flag(x))\n",
    "impute_na(azdias_CAT_OHE, 'KBA05_MODTEMP_NEIGHBORHOOD_DEV')\n",
    "impute_na(azdias_CAT_OHE, 'KBA05_MODTEMP_NB_FLG')"
   ]
  },
  {
   "cell_type": "markdown",
   "metadata": {},
   "source": [
    "#### Discussion"
   ]
  },
  {
   "cell_type": "markdown",
   "metadata": {},
   "source": [
    "\n",
    "For <strong>WOHNLAGE</strong>, two new features are created : <strong>NEIGHBORHOOD</strong> and <strong>RURAL_FLAG</strong>. The former feature indicate the neibourhood quality, scales from 1-5, whereas 7-8 are treated as missing values, which will be later imputed. The latter feature indicate whether is in rural area, with 1-5 corresponding to not rural, and 7-8 to rural.\n",
    "\n",
    "For <strong>PRAEGENDE_JUGENDJAHRE</strong>, Is separated into two new features: an interval-type variable for \"DECADE\" (mapping relation: 40s --> 1, 50s --> 2, 60s --> 3, 70s --> 4, 80s --> 5, 90s --> 6, and NaN --> NaN) and and a binary variable for \"MOVEMENT\" (mapping relation: Mainstream --> 0, Avantgarde --> 1, and NaN --> NaN). \n",
    "\n",
    "For <strong>CAMEO_INTL_2015</strong>, split the two-digit codes by their 'tens'-place and 'ones'-place digits into two new ordinal variables: WEALTH (lower score indicates more wealthy) and LIFE_STAGE (lower score indicates younger age).\n",
    "\n",
    "For <strong>PLZ8_BAUMAX</strong>, it is replaced by ordinal variable <strong>PLZ8_HOMES</strong> to indicate building type within the PLZ8 region, and <strong>PLZ8_BUSINESS</strong> as a binary variable flag business and non-business type.\n",
    "\n",
    "For both <strong>KBA05_HERSTTEMP</strong> and  <strong>KBA05_MODTEMP</strong>, they are replaced by ordinal variable to indicate neighbourbood development status within the KBA05 region, and a binary variable to flag new/old building type.\n",
    "\n",
    "Dropped the following features <strong>LP_LEBENSPHASE_FEIN</strong>, <strong>LP_LEBENSPHASE_GROB</strong>, since they are high-dimensional features made up from the duplicated features of <strong>LP_FAMILIE_FEIN</strong>, <strong>LP_FAMILIE_GROB</strong>, <strong>LP_STATUS_GROB</strong>."
   ]
  },
  {
   "cell_type": "markdown",
   "metadata": {},
   "source": [
    "#### Step 0.4.3: Engineer Other Object-Type Features"
   ]
  },
  {
   "cell_type": "code",
   "execution_count": 92,
   "metadata": {},
   "outputs": [
    {
     "data": {
      "text/plain": [
       "Index(['D19_LETZTER_KAUF_BRANCHE', 'EINGEFUEGT_AM'], dtype='object')"
      ]
     },
     "execution_count": 92,
     "metadata": {},
     "output_type": "execute_result"
    }
   ],
   "source": [
    "# show all non-numeric data columns\n",
    "azdias_CAT_OHE.columns[azdias_CAT_OHE.dtypes == object]"
   ]
  },
  {
   "cell_type": "code",
   "execution_count": 93,
   "metadata": {},
   "outputs": [
    {
     "data": {
      "text/html": [
       "<div>\n",
       "<style scoped>\n",
       "    .dataframe tbody tr th:only-of-type {\n",
       "        vertical-align: middle;\n",
       "    }\n",
       "\n",
       "    .dataframe tbody tr th {\n",
       "        vertical-align: top;\n",
       "    }\n",
       "\n",
       "    .dataframe thead th {\n",
       "        text-align: right;\n",
       "    }\n",
       "</style>\n",
       "<table border=\"1\" class=\"dataframe\">\n",
       "  <thead>\n",
       "    <tr style=\"text-align: right;\">\n",
       "      <th></th>\n",
       "      <th>EINGEFUEGT_AM_YEAR</th>\n",
       "      <th>EINGEFUEGT_AM_MONTH</th>\n",
       "    </tr>\n",
       "  </thead>\n",
       "  <tbody>\n",
       "    <tr>\n",
       "      <th>0</th>\n",
       "      <td>1992</td>\n",
       "      <td>2</td>\n",
       "    </tr>\n",
       "    <tr>\n",
       "      <th>1</th>\n",
       "      <td>1992</td>\n",
       "      <td>2</td>\n",
       "    </tr>\n",
       "    <tr>\n",
       "      <th>2</th>\n",
       "      <td>1997</td>\n",
       "      <td>4</td>\n",
       "    </tr>\n",
       "    <tr>\n",
       "      <th>3</th>\n",
       "      <td>1992</td>\n",
       "      <td>2</td>\n",
       "    </tr>\n",
       "    <tr>\n",
       "      <th>4</th>\n",
       "      <td>1992</td>\n",
       "      <td>2</td>\n",
       "    </tr>\n",
       "  </tbody>\n",
       "</table>\n",
       "</div>"
      ],
      "text/plain": [
       "   EINGEFUEGT_AM_YEAR  EINGEFUEGT_AM_MONTH\n",
       "0                1992                    2\n",
       "1                1992                    2\n",
       "2                1997                    4\n",
       "3                1992                    2\n",
       "4                1992                    2"
      ]
     },
     "execution_count": 93,
     "metadata": {},
     "output_type": "execute_result"
    }
   ],
   "source": [
    "# engineer year variable from EINGEFUEGT_AM\n",
    "azdias_CAT_OHE['EINGEFUEGT_AM_YEAR'] = azdias_CAT_OHE['EINGEFUEGT_AM'].apply(lambda x: datetime.strptime(x, \"%Y-%m-%d %H:%M:%S\" ).year)\n",
    "azdias_CAT_OHE['EINGEFUEGT_AM_MONTH'] = azdias_CAT_OHE['EINGEFUEGT_AM'].apply(lambda x: datetime.strptime(x, \"%Y-%m-%d %H:%M:%S\" ).month)\n",
    "azdias_CAT_OHE[['EINGEFUEGT_AM_YEAR', 'EINGEFUEGT_AM_MONTH']].head()"
   ]
  },
  {
   "cell_type": "code",
   "execution_count": 94,
   "metadata": {},
   "outputs": [],
   "source": [
    "# create dummy variables for D19_LETZTER_KAUF_BRANCHE\n",
    "dummies = pd.get_dummies(azdias_CAT_OHE['D19_LETZTER_KAUF_BRANCHE'], prefix = 'D19_LETZTER_KAUF_BRANCHE')\n",
    "azdias_CAT_OHE = pd.concat([azdias_CAT_OHE, dummies], axis = 1)"
   ]
  },
  {
   "cell_type": "code",
   "execution_count": 95,
   "metadata": {},
   "outputs": [],
   "source": [
    "# create dummy variables for D19_KONSUMTYP_MAX\n",
    "dummies = pd.get_dummies(azdias_CAT_OHE['D19_KONSUMTYP_MAX'], prefix = 'D19_KONSUMTYP_MAX')\n",
    "azdias_CAT_OHE = pd.concat([azdias_CAT_OHE, dummies], axis = 1)"
   ]
  },
  {
   "cell_type": "code",
   "execution_count": 96,
   "metadata": {},
   "outputs": [
    {
     "name": "stdout",
     "output_type": "stream",
     "text": [
      "The new dataset dimension is:  (785318, 477)\n"
     ]
    }
   ],
   "source": [
    "# don't forget to drop original columns\n",
    "azdias_processed = azdias_CAT_OHE.drop(['PRAEGENDE_JUGENDJAHRE', 'CAMEO_INTL_2015', \\\n",
    "                                        'WOHNLAGE', 'PLZ8_BAUMAX', 'LP_LEBENSPHASE_FEIN', \\\n",
    "                                        'LP_LEBENSPHASE_GROB', 'KBA05_HERSTTEMP', 'KBA05_MODTEMP', \\\n",
    "                                        'EINGEFUEGT_AM', 'D19_LETZTER_KAUF_BRANCHE', 'D19_KONSUMTYP_MAX'], axis = 1)\n",
    "print(\"The new dataset dimension is: \", azdias_processed.shape)"
   ]
  },
  {
   "cell_type": "markdown",
   "metadata": {},
   "source": [
    "## Part 1: Customer Segmentation Report\n",
    "\n",
    "The main bulk of your analysis will come in this part of the project. Here, you should use unsupervised learning techniques to describe the relationship between the demographics of the company's existing customers and the general population of Germany. By the end of this part, you should be able to describe parts of the general population that are more likely to be part of the mail-order company's main customer base, and which parts of the general population are less so."
   ]
  },
  {
   "cell_type": "code",
   "execution_count": 2,
   "metadata": {},
   "outputs": [],
   "source": [
    "# you can skip running cells in part 0\n",
    "# load the demongraphic dataset\n",
    "azdias = pd.read_csv('data/Udacity_AZDIAS_052018.csv',  dtype={19:'str',20:'str'})\n",
    "# load customer dataset\n",
    "customers = pd.read_csv('data/Udacity_CUSTOMERS_052018.csv',  dtype={19:'str',20:'str'})\n",
    "# load missing codes obtained from the dictionary \n",
    "feat_nan_code = pd.read_csv('data/feature_missing_code.csv', sep = '\\t').drop('Unnamed: 0', axis = 1)\n",
    "# load feature type obtained from the dictionary\n",
    "feat_cat = pd.read_csv('data/feature_type.csv', sep = '\\t').drop('Unnamed: 0', axis = 1)\n",
    "# load feature to be dropped obtained from Step 0.3.1\n",
    "feature_to_drop = pd.read_csv('data/dropped_feature.csv')"
   ]
  },
  {
   "cell_type": "code",
   "execution_count": 3,
   "metadata": {},
   "outputs": [
    {
     "data": {
      "text/plain": [
       "(891221, 367)"
      ]
     },
     "execution_count": 3,
     "metadata": {},
     "output_type": "execute_result"
    }
   ],
   "source": [
    "azdias.shape"
   ]
  },
  {
   "cell_type": "code",
   "execution_count": 4,
   "metadata": {},
   "outputs": [],
   "source": [
    "# Drop the extra column of customers dataset.\n",
    "customers.drop(columns=['CUSTOMER_GROUP', 'ONLINE_PURCHASE', 'PRODUCT_GROUP'], inplace=True)"
   ]
  },
  {
   "cell_type": "code",
   "execution_count": 5,
   "metadata": {},
   "outputs": [],
   "source": [
    "customers.drop(['Unnamed: 0'],inplace = True, axis = 1)\n",
    "azdias.drop(['Unnamed: 0'],inplace = True, axis = 1)"
   ]
  },
  {
   "cell_type": "code",
   "execution_count": 6,
   "metadata": {},
   "outputs": [
    {
     "name": "stdout",
     "output_type": "stream",
     "text": [
      "Dimension of the demographics data: (891221, 366)\n",
      "Dimension of the customer data: (191652, 366)\n"
     ]
    }
   ],
   "source": [
    "# Cols and rows of Azdias , Customers\n",
    "print(\"Dimension of the demographics data:\", azdias.shape)\n",
    "print(\"Dimension of the customer data:\", customers.shape)"
   ]
  },
  {
   "cell_type": "code",
   "execution_count": 7,
   "metadata": {},
   "outputs": [
    {
     "name": "stdout",
     "output_type": "stream",
     "text": [
      "Number of columns: general demongraphics: 366, customer: 366, trainset: 366\n"
     ]
    }
   ],
   "source": [
    "mailout_train = pd.read_csv('data/Udacity_MAILOUT_052018_TRAIN.csv', sep=';', dtype={19:'str',20:'str'}).drop('Unnamed: 0', axis = 1)\n",
    "X_train_ID = mailout_train[['LNR']]\n",
    "X_train = mailout_train.drop(['RESPONSE'], axis = 1)\n",
    "y_train = mailout_train[['RESPONSE']]\n",
    "\n",
    "mailout_test = pd.read_csv('data/Udacity_MAILOUT_052018_TEST.csv', sep=';', dtype={19:'str',20:'str'}).drop('Unnamed: 0', axis = 1)\n",
    "X_test_ID = mailout_test[['LNR']]\n",
    "X_test = mailout_test\n",
    "\n",
    "print(\"Number of columns: general demongraphics: {}, customer: {}, trainset: {}\"\\\n",
    "      .format(azdias.shape[1], customers.shape[1], X_train.shape[1], X_test.shape[1]))"
   ]
  },
  {
   "cell_type": "code",
   "execution_count": 8,
   "metadata": {},
   "outputs": [],
   "source": [
    "# convert missing_or_unknown into lists of NaN: '[-1,0]' -> [-1, 0] and '[-1,XX]' -> [-1, 'XX']\n",
    "X = 'X'\n",
    "XX = 'XX'\n",
    "feat_nan_code['Value'] = feat_nan_code['Value'].apply(lambda x: eval(x))"
   ]
  },
  {
   "cell_type": "code",
   "execution_count": 9,
   "metadata": {},
   "outputs": [
    {
     "name": "stdout",
     "output_type": "stream",
     "text": [
      "\n",
      " Step 1: drop the following features with high NaN occupancy rate above None%: \n",
      " ['ALTER_KIND4', 'TITEL_KZ', 'ALTER_KIND3', 'D19_TELKO_ONLINE_DATUM', 'D19_BANKEN_LOKAL', 'D19_BANKEN_OFFLINE_DATUM', 'ALTER_KIND2', 'D19_TELKO_ANZ_12', 'D19_DIGIT_SERV', 'D19_BIO_OEKO', 'D19_TIERARTIKEL', 'D19_NAHRUNGSERGAENZUNG', 'D19_GARTEN', 'D19_LEBENSMITTEL', 'D19_WEIN_FEINKOST', 'D19_BANKEN_ANZ_12', 'D19_ENERGIE', 'D19_TELKO_ANZ_24', 'D19_BANKEN_REST', 'D19_VERSI_ANZ_12', 'D19_TELKO_OFFLINE_DATUM', 'D19_BILDUNG', 'ALTER_KIND1', 'D19_BEKLEIDUNG_GEH', 'D19_RATGEBER', 'D19_SAMMELARTIKEL', 'D19_BANKEN_ANZ_24', 'D19_FREIZEIT', 'D19_BANKEN_GROSS', 'D19_VERSI_ANZ_24', 'D19_SCHUHE', 'D19_HANDWERK', 'D19_TELKO_REST', 'D19_DROGERIEARTIKEL', 'D19_KINDERARTIKEL', 'D19_LOTTO', 'D19_KOSMETIK', 'D19_REISEN', 'D19_VERSAND_REST', 'D19_BANKEN_DIREKT', 'D19_BANKEN_ONLINE_DATUM', 'D19_TELKO_MOBILE', 'D19_HAUS_DEKO', 'D19_BEKLEIDUNG_REST', 'AGER_TYP', 'D19_BANKEN_DATUM', 'D19_TELKO_DATUM', 'D19_VERSICHERUNGEN', 'EXTSEL992', 'D19_VERSAND_ANZ_12', 'D19_VERSAND_OFFLINE_DATUM', 'D19_TECHNIK', 'D19_VOLLSORTIMENT', 'D19_GESAMT_ANZ_12', 'KK_KUNDENTYP', 'D19_VERSAND_ANZ_24', 'D19_GESAMT_OFFLINE_DATUM', 'D19_SONSTIGE', 'D19_GESAMT_ANZ_24', 'D19_VERSAND_ONLINE_DATUM', 'KBA05_BAUMAX', 'D19_GESAMT_ONLINE_DATUM', 'D19_VERSAND_DATUM', 'GEBURTSJAHR', 'D19_GESAMT_DATUM', 'ALTER_HH']\n",
      "\n",
      " 66 features have been dropped. The new dataset dimension after Step 1 is: (891221, 300)\n",
      "\n",
      " Step 2: drop rows with high NaN occupancy rate above 30%... \n",
      "\n",
      "\n",
      " 105903 of rows have been dropped. The new dataset dimension after Step 2 is: (785318, 300)\n",
      "\n",
      " After step 2, there are {} rows left with missing values, consisting of 361556% of the total population\n",
      "Feature \"ALTERSKATEGORIE_FEIN\" has 22.866660384710396% missing values\n",
      "Feature \"D19_LETZTER_KAUF_BRANCHE\" has 22.297336874998408% missing values\n",
      "Feature \"D19_SOZIALES\" has 22.297336874998408% missing values\n",
      "Feature \"D19_VERSI_ONLINE_QUOTE_12\" has 22.297336874998408% missing values\n",
      "Feature \"D19_GESAMT_ONLINE_QUOTE_12\" has 22.297336874998408% missing values\n",
      "Feature \"D19_VERSAND_ONLINE_QUOTE_12\" has 22.297336874998408% missing values\n",
      "Feature \"D19_TELKO_ONLINE_QUOTE_12\" has 22.297336874998408% missing values\n",
      "Feature \"D19_BANKEN_ONLINE_QUOTE_12\" has 22.297336874998408% missing values\n",
      "Feature \"D19_KONSUMTYP\" has 22.297336874998408% missing values\n",
      "Feature \"REGIOTYP\" has 7.759022459691487% missing values\n",
      "Convert the dummy variables from these features: ['ANREDE_KZ', 'CJT_GESAMTTYP', 'FINANZTYP', 'GFK_URLAUBERTYP', 'GREEN_AVANTGARDE', 'LP_FAMILIE_FEIN', 'LP_FAMILIE_GROB', 'LP_STATUS_FEIN', 'LP_STATUS_GROB', 'NATIONALITAET_KZ', 'SHOPPER_TYP', 'SOHO_KZ', 'VERS_TYP', 'ZABEOTYP', 'GEBAEUDETYP', 'OST_WEST_KZ', 'CAMEO_DEUG_2015', 'CAMEO_DEU_2015', 'D19_KONSUMTYP', 'KBA05_MAXHERST', 'KBA05_MAXSEG']\n",
      "\n",
      " Step 3: replace all NaNs in each column by its corresponding mode.\n",
      "\n",
      " After Step 3, there are {} rows with NaN values left, 0% of total population, in 0.0 columns.\n",
      "\n",
      " Step 4: create dummy variables from the categorical features:['ANREDE_KZ', 'CJT_GESAMTTYP', 'FINANZTYP', 'GFK_URLAUBERTYP', 'GREEN_AVANTGARDE', 'LP_FAMILIE_FEIN', 'LP_FAMILIE_GROB', 'LP_STATUS_FEIN', 'LP_STATUS_GROB', 'NATIONALITAET_KZ', 'SHOPPER_TYP', 'SOHO_KZ', 'VERS_TYP', 'ZABEOTYP', 'GEBAEUDETYP', 'OST_WEST_KZ', 'CAMEO_DEUG_2015', 'CAMEO_DEU_2015', 'D19_KONSUMTYP', 'KBA05_MAXHERST', 'KBA05_MAXSEG']\n",
      "\n",
      " The new dataset dimension after Step 4 is: (785318, 433)\n",
      "\n",
      " Step 5: Engineer Features\n",
      "\n",
      " The new dataset dimension is: (785318, 477)\n",
      "\n",
      " Sanity Check: The dimension of the dataset is: (785318, 477)\n",
      "There are 0 columns of non-numeric dtype.\n",
      "There are 0 columns containing missing values.\n"
     ]
    }
   ],
   "source": [
    "azdias_processed, azdias_unprocessed = clean_data(azdias, feat_nan_code, feat_cat, feature_to_drop = feature_to_drop, row_thres = 30)\n"
   ]
  },
  {
   "cell_type": "code",
   "execution_count": 10,
   "metadata": {},
   "outputs": [
    {
     "name": "stdout",
     "output_type": "stream",
     "text": [
      "\n",
      " Step 1: drop the following features with high NaN occupancy rate above None%: \n",
      " ['ALTER_KIND4', 'TITEL_KZ', 'ALTER_KIND3', 'D19_TELKO_ONLINE_DATUM', 'D19_BANKEN_LOKAL', 'D19_BANKEN_OFFLINE_DATUM', 'ALTER_KIND2', 'D19_TELKO_ANZ_12', 'D19_DIGIT_SERV', 'D19_BIO_OEKO', 'D19_TIERARTIKEL', 'D19_NAHRUNGSERGAENZUNG', 'D19_GARTEN', 'D19_LEBENSMITTEL', 'D19_WEIN_FEINKOST', 'D19_BANKEN_ANZ_12', 'D19_ENERGIE', 'D19_TELKO_ANZ_24', 'D19_BANKEN_REST', 'D19_VERSI_ANZ_12', 'D19_TELKO_OFFLINE_DATUM', 'D19_BILDUNG', 'ALTER_KIND1', 'D19_BEKLEIDUNG_GEH', 'D19_RATGEBER', 'D19_SAMMELARTIKEL', 'D19_BANKEN_ANZ_24', 'D19_FREIZEIT', 'D19_BANKEN_GROSS', 'D19_VERSI_ANZ_24', 'D19_SCHUHE', 'D19_HANDWERK', 'D19_TELKO_REST', 'D19_DROGERIEARTIKEL', 'D19_KINDERARTIKEL', 'D19_LOTTO', 'D19_KOSMETIK', 'D19_REISEN', 'D19_VERSAND_REST', 'D19_BANKEN_DIREKT', 'D19_BANKEN_ONLINE_DATUM', 'D19_TELKO_MOBILE', 'D19_HAUS_DEKO', 'D19_BEKLEIDUNG_REST', 'AGER_TYP', 'D19_BANKEN_DATUM', 'D19_TELKO_DATUM', 'D19_VERSICHERUNGEN', 'EXTSEL992', 'D19_VERSAND_ANZ_12', 'D19_VERSAND_OFFLINE_DATUM', 'D19_TECHNIK', 'D19_VOLLSORTIMENT', 'D19_GESAMT_ANZ_12', 'KK_KUNDENTYP', 'D19_VERSAND_ANZ_24', 'D19_GESAMT_OFFLINE_DATUM', 'D19_SONSTIGE', 'D19_GESAMT_ANZ_24', 'D19_VERSAND_ONLINE_DATUM', 'KBA05_BAUMAX', 'D19_GESAMT_ONLINE_DATUM', 'D19_VERSAND_DATUM', 'GEBURTSJAHR', 'D19_GESAMT_DATUM', 'ALTER_HH']\n",
      "\n",
      " 66 features have been dropped. The new dataset dimension after Step 1 is: (191652, 300)\n",
      "\n",
      " Step 2: drop rows with high NaN occupancy rate above 30%... \n",
      "\n",
      "\n",
      " 51297 of rows have been dropped. The new dataset dimension after Step 2 is: (140355, 300)\n",
      "\n",
      " After step 2, there are {} rows left with missing values, consisting of 29187% of the total population\n",
      "Feature \"LP_LEBENSPHASE_FEIN\" has 6.898222364718036% missing values\n",
      "Feature \"REGIOTYP\" has 6.8476363506821984% missing values\n",
      "Feature \"KKK\" has 6.8476363506821984% missing values\n",
      "Feature \"LP_LEBENSPHASE_GROB\" has 6.8234120622706715% missing values\n",
      "Feature \"LP_FAMILIE_GROB\" has 6.588293968864664% missing values\n",
      "Feature \"LP_FAMILIE_FEIN\" has 6.588293968864664% missing values\n",
      "Feature \"W_KEIT_KIND_HH\" has 5.558049232303801% missing values\n",
      "Feature \"HH_DELTA_FLAG\" has 4.896156175412347% missing values\n",
      "Feature \"KBA05_AUTOQUOT\" has 4.353247123365751% missing values\n",
      "Feature \"KBA05_VORB1\" has 4.352534644294824% missing values\n",
      "Convert the dummy variables from these features: ['ANREDE_KZ', 'CJT_GESAMTTYP', 'FINANZTYP', 'GFK_URLAUBERTYP', 'GREEN_AVANTGARDE', 'LP_FAMILIE_FEIN', 'LP_FAMILIE_GROB', 'LP_STATUS_FEIN', 'LP_STATUS_GROB', 'NATIONALITAET_KZ', 'SHOPPER_TYP', 'SOHO_KZ', 'VERS_TYP', 'ZABEOTYP', 'GEBAEUDETYP', 'OST_WEST_KZ', 'CAMEO_DEUG_2015', 'CAMEO_DEU_2015', 'D19_KONSUMTYP', 'KBA05_MAXHERST', 'KBA05_MAXSEG']\n",
      "\n",
      " Step 3: replace all NaNs in each column by its corresponding mode.\n",
      "\n",
      " After Step 3, there are {} rows with NaN values left, 0% of total population, in 0.0 columns.\n",
      "\n",
      " Step 4: create dummy variables from the categorical features:['ANREDE_KZ', 'CJT_GESAMTTYP', 'FINANZTYP', 'GFK_URLAUBERTYP', 'GREEN_AVANTGARDE', 'LP_FAMILIE_FEIN', 'LP_FAMILIE_GROB', 'LP_STATUS_FEIN', 'LP_STATUS_GROB', 'NATIONALITAET_KZ', 'SHOPPER_TYP', 'SOHO_KZ', 'VERS_TYP', 'ZABEOTYP', 'GEBAEUDETYP', 'OST_WEST_KZ', 'CAMEO_DEUG_2015', 'CAMEO_DEU_2015', 'D19_KONSUMTYP', 'KBA05_MAXHERST', 'KBA05_MAXSEG']\n",
      "\n",
      " The new dataset dimension after Step 4 is: (140355, 432)\n",
      "\n",
      " Step 5: Engineer Features\n",
      "\n",
      " The new dataset dimension is: (140355, 476)\n",
      "\n",
      " Sanity Check: The dimension of the dataset is: (140355, 476)\n",
      "There are 0 columns of non-numeric dtype.\n",
      "There are 0 columns containing missing values.\n",
      "\n",
      " Step 1: drop the following features with high NaN occupancy rate above None%: \n",
      " ['ALTER_KIND4', 'TITEL_KZ', 'ALTER_KIND3', 'D19_TELKO_ONLINE_DATUM', 'D19_BANKEN_LOKAL', 'D19_BANKEN_OFFLINE_DATUM', 'ALTER_KIND2', 'D19_TELKO_ANZ_12', 'D19_DIGIT_SERV', 'D19_BIO_OEKO', 'D19_TIERARTIKEL', 'D19_NAHRUNGSERGAENZUNG', 'D19_GARTEN', 'D19_LEBENSMITTEL', 'D19_WEIN_FEINKOST', 'D19_BANKEN_ANZ_12', 'D19_ENERGIE', 'D19_TELKO_ANZ_24', 'D19_BANKEN_REST', 'D19_VERSI_ANZ_12', 'D19_TELKO_OFFLINE_DATUM', 'D19_BILDUNG', 'ALTER_KIND1', 'D19_BEKLEIDUNG_GEH', 'D19_RATGEBER', 'D19_SAMMELARTIKEL', 'D19_BANKEN_ANZ_24', 'D19_FREIZEIT', 'D19_BANKEN_GROSS', 'D19_VERSI_ANZ_24', 'D19_SCHUHE', 'D19_HANDWERK', 'D19_TELKO_REST', 'D19_DROGERIEARTIKEL', 'D19_KINDERARTIKEL', 'D19_LOTTO', 'D19_KOSMETIK', 'D19_REISEN', 'D19_VERSAND_REST', 'D19_BANKEN_DIREKT', 'D19_BANKEN_ONLINE_DATUM', 'D19_TELKO_MOBILE', 'D19_HAUS_DEKO', 'D19_BEKLEIDUNG_REST', 'AGER_TYP', 'D19_BANKEN_DATUM', 'D19_TELKO_DATUM', 'D19_VERSICHERUNGEN', 'EXTSEL992', 'D19_VERSAND_ANZ_12', 'D19_VERSAND_OFFLINE_DATUM', 'D19_TECHNIK', 'D19_VOLLSORTIMENT', 'D19_GESAMT_ANZ_12', 'KK_KUNDENTYP', 'D19_VERSAND_ANZ_24', 'D19_GESAMT_OFFLINE_DATUM', 'D19_SONSTIGE', 'D19_GESAMT_ANZ_24', 'D19_VERSAND_ONLINE_DATUM', 'KBA05_BAUMAX', 'D19_GESAMT_ONLINE_DATUM', 'D19_VERSAND_DATUM', 'GEBURTSJAHR', 'D19_GESAMT_DATUM', 'ALTER_HH']\n",
      "\n",
      " 66 features have been dropped. The new dataset dimension after Step 1 is: (42962, 300)\n",
      "\n",
      " Step 2: drop rows with high NaN occupancy rate above 30%... \n",
      "\n",
      "\n",
      " 7965 of rows have been dropped. The new dataset dimension after Step 2 is: (34997, 300)\n",
      "\n",
      " After step 2, there are {} rows left with missing values, consisting of 7599% of the total population\n",
      "Feature \"LP_LEBENSPHASE_FEIN\" has 8.63788324713547% missing values\n",
      "Feature \"LP_LEBENSPHASE_GROB\" has 8.572163328285281% missing values\n",
      "Feature \"LP_FAMILIE_GROB\" has 8.395005286167386% missing values\n",
      "Feature \"LP_FAMILIE_FEIN\" has 8.395005286167386% missing values\n",
      "Feature \"W_KEIT_KIND_HH\" has 7.9321084664399795% missing values\n",
      "Feature \"HH_DELTA_FLAG\" has 7.483498585593051% missing values\n",
      "Feature \"REGIOTYP\" has 6.011943880904077% missing values\n",
      "Feature \"KKK\" has 6.011943880904077% missing values\n",
      "Feature \"KBA05_KRSHERST2\" has 3.314569820270309% missing values\n",
      "Feature \"KBA05_MAXAH\" has 3.314569820270309% missing values\n",
      "Convert the dummy variables from these features: ['ANREDE_KZ', 'CJT_GESAMTTYP', 'FINANZTYP', 'GFK_URLAUBERTYP', 'GREEN_AVANTGARDE', 'LP_FAMILIE_FEIN', 'LP_FAMILIE_GROB', 'LP_STATUS_FEIN', 'LP_STATUS_GROB', 'NATIONALITAET_KZ', 'SHOPPER_TYP', 'SOHO_KZ', 'VERS_TYP', 'ZABEOTYP', 'GEBAEUDETYP', 'OST_WEST_KZ', 'CAMEO_DEUG_2015', 'CAMEO_DEU_2015', 'D19_KONSUMTYP', 'KBA05_MAXHERST', 'KBA05_MAXSEG']\n",
      "\n",
      " Step 3: replace all NaNs in each column by its corresponding mode.\n",
      "\n",
      " After Step 3, there are {} rows with NaN values left, 0% of total population, in 0.0 columns.\n",
      "\n",
      " Step 4: create dummy variables from the categorical features:['ANREDE_KZ', 'CJT_GESAMTTYP', 'FINANZTYP', 'GFK_URLAUBERTYP', 'GREEN_AVANTGARDE', 'LP_FAMILIE_FEIN', 'LP_FAMILIE_GROB', 'LP_STATUS_FEIN', 'LP_STATUS_GROB', 'NATIONALITAET_KZ', 'SHOPPER_TYP', 'SOHO_KZ', 'VERS_TYP', 'ZABEOTYP', 'GEBAEUDETYP', 'OST_WEST_KZ', 'CAMEO_DEUG_2015', 'CAMEO_DEU_2015', 'D19_KONSUMTYP', 'KBA05_MAXHERST', 'KBA05_MAXSEG']\n",
      "\n",
      " The new dataset dimension after Step 4 is: (34997, 432)\n",
      "\n",
      " Step 5: Engineer Features\n",
      "\n",
      " The new dataset dimension is: (34997, 476)\n",
      "\n",
      " Sanity Check: The dimension of the dataset is: (34997, 476)\n",
      "There are 0 columns of non-numeric dtype.\n",
      "There are 0 columns containing missing values.\n",
      "\n",
      " Step 1: drop the following features with high NaN occupancy rate above None%: \n",
      " ['ALTER_KIND4', 'TITEL_KZ', 'ALTER_KIND3', 'D19_TELKO_ONLINE_DATUM', 'D19_BANKEN_LOKAL', 'D19_BANKEN_OFFLINE_DATUM', 'ALTER_KIND2', 'D19_TELKO_ANZ_12', 'D19_DIGIT_SERV', 'D19_BIO_OEKO', 'D19_TIERARTIKEL', 'D19_NAHRUNGSERGAENZUNG', 'D19_GARTEN', 'D19_LEBENSMITTEL', 'D19_WEIN_FEINKOST', 'D19_BANKEN_ANZ_12', 'D19_ENERGIE', 'D19_TELKO_ANZ_24', 'D19_BANKEN_REST', 'D19_VERSI_ANZ_12', 'D19_TELKO_OFFLINE_DATUM', 'D19_BILDUNG', 'ALTER_KIND1', 'D19_BEKLEIDUNG_GEH', 'D19_RATGEBER', 'D19_SAMMELARTIKEL', 'D19_BANKEN_ANZ_24', 'D19_FREIZEIT', 'D19_BANKEN_GROSS', 'D19_VERSI_ANZ_24', 'D19_SCHUHE', 'D19_HANDWERK', 'D19_TELKO_REST', 'D19_DROGERIEARTIKEL', 'D19_KINDERARTIKEL', 'D19_LOTTO', 'D19_KOSMETIK', 'D19_REISEN', 'D19_VERSAND_REST', 'D19_BANKEN_DIREKT', 'D19_BANKEN_ONLINE_DATUM', 'D19_TELKO_MOBILE', 'D19_HAUS_DEKO', 'D19_BEKLEIDUNG_REST', 'AGER_TYP', 'D19_BANKEN_DATUM', 'D19_TELKO_DATUM', 'D19_VERSICHERUNGEN', 'EXTSEL992', 'D19_VERSAND_ANZ_12', 'D19_VERSAND_OFFLINE_DATUM', 'D19_TECHNIK', 'D19_VOLLSORTIMENT', 'D19_GESAMT_ANZ_12', 'KK_KUNDENTYP', 'D19_VERSAND_ANZ_24', 'D19_GESAMT_OFFLINE_DATUM', 'D19_SONSTIGE', 'D19_GESAMT_ANZ_24', 'D19_VERSAND_ONLINE_DATUM', 'KBA05_BAUMAX', 'D19_GESAMT_ONLINE_DATUM', 'D19_VERSAND_DATUM', 'GEBURTSJAHR', 'D19_GESAMT_DATUM', 'ALTER_HH']\n"
     ]
    },
    {
     "name": "stdout",
     "output_type": "stream",
     "text": [
      "\n",
      " 66 features have been dropped. The new dataset dimension after Step 1 is: (42833, 300)\n",
      "\n",
      " Step 2: drop rows with high NaN occupancy rate above 30%... \n",
      "\n",
      "\n",
      " 7843 of rows have been dropped. The new dataset dimension after Step 2 is: (34990, 300)\n",
      "\n",
      " After step 2, there are {} rows left with missing values, consisting of 7765% of the total population\n",
      "Feature \"LP_LEBENSPHASE_FEIN\" has 8.568162332094884% missing values\n",
      "Feature \"LP_LEBENSPHASE_GROB\" has 8.516719062589312% missing values\n",
      "Feature \"LP_FAMILIE_GROB\" has 8.345241497570735% missing values\n",
      "Feature \"LP_FAMILIE_FEIN\" has 8.345241497570735% missing values\n",
      "Feature \"W_KEIT_KIND_HH\" has 8.068019434124036% missing values\n",
      "Feature \"HH_DELTA_FLAG\" has 7.55072877965133% missing values\n",
      "Feature \"KKK\" has 6.138896827665047% missing values\n",
      "Feature \"REGIOTYP\" has 6.138896827665047% missing values\n",
      "Feature \"KBA05_AUTOQUOT\" has 3.349528436696199% missing values\n",
      "Feature \"KBA05_KRSHERST1\" has 3.3466704772792224% missing values\n",
      "Convert the dummy variables from these features: ['ANREDE_KZ', 'CJT_GESAMTTYP', 'FINANZTYP', 'GFK_URLAUBERTYP', 'GREEN_AVANTGARDE', 'LP_FAMILIE_FEIN', 'LP_FAMILIE_GROB', 'LP_STATUS_FEIN', 'LP_STATUS_GROB', 'NATIONALITAET_KZ', 'SHOPPER_TYP', 'SOHO_KZ', 'VERS_TYP', 'ZABEOTYP', 'GEBAEUDETYP', 'OST_WEST_KZ', 'CAMEO_DEUG_2015', 'CAMEO_DEU_2015', 'D19_KONSUMTYP', 'KBA05_MAXHERST', 'KBA05_MAXSEG']\n",
      "\n",
      " Step 3: replace all NaNs in each column by its corresponding mode.\n",
      "\n",
      " After Step 3, there are {} rows with NaN values left, 0% of total population, in 0.0 columns.\n",
      "\n",
      " Step 4: create dummy variables from the categorical features:['ANREDE_KZ', 'CJT_GESAMTTYP', 'FINANZTYP', 'GFK_URLAUBERTYP', 'GREEN_AVANTGARDE', 'LP_FAMILIE_FEIN', 'LP_FAMILIE_GROB', 'LP_STATUS_FEIN', 'LP_STATUS_GROB', 'NATIONALITAET_KZ', 'SHOPPER_TYP', 'SOHO_KZ', 'VERS_TYP', 'ZABEOTYP', 'GEBAEUDETYP', 'OST_WEST_KZ', 'CAMEO_DEUG_2015', 'CAMEO_DEU_2015', 'D19_KONSUMTYP', 'KBA05_MAXHERST', 'KBA05_MAXSEG']\n",
      "\n",
      " The new dataset dimension after Step 4 is: (34990, 432)\n",
      "\n",
      " Step 5: Engineer Features\n",
      "\n",
      " The new dataset dimension is: (34990, 476)\n",
      "\n",
      " Sanity Check: The dimension of the dataset is: (34990, 476)\n",
      "There are 0 columns of non-numeric dtype.\n",
      "There are 0 columns containing missing values.\n"
     ]
    }
   ],
   "source": [
    "customers_processed, customers_unprocessed = clean_data(customers, feat_nan_code, feat_cat, feature_to_drop = feature_to_drop, row_thres = 30)\n",
    "X_train_processed, X_train_unprocessed = clean_data(X_train, feat_nan_code, feat_cat, feature_to_drop = feature_to_drop, row_thres = 30)\n",
    "X_test_processed, X_test_unprocessed = clean_data(X_test, feat_nan_code, feat_cat, feature_to_drop = feature_to_drop, row_thres = 30)"
   ]
  },
  {
   "cell_type": "code",
   "execution_count": 14,
   "metadata": {
    "scrolled": true
   },
   "outputs": [],
   "source": [
    "customers_processed = reshape_cols(customers_processed, azdias_processed.columns)\n",
    "X_train_processed = reshape_cols(X_train_processed, azdias_processed.columns)\n",
    "X_test_processed = reshape_cols(X_test_processed, azdias_processed.columns)"
   ]
  },
  {
   "cell_type": "code",
   "execution_count": 15,
   "metadata": {},
   "outputs": [],
   "source": [
    "tmp = pd.DataFrame(data = azdias_processed.columns).to_csv('savefile/all_columns.csv')"
   ]
  },
  {
   "cell_type": "markdown",
   "metadata": {},
   "source": [
    "### Step 1.1: Apply Feature Scaling"
   ]
  },
  {
   "cell_type": "code",
   "execution_count": 16,
   "metadata": {},
   "outputs": [
    {
     "name": "stdout",
     "output_type": "stream",
     "text": [
      "The dataset's dimension after standard scaling: (785318, 476) \n",
      "\n"
     ]
    }
   ],
   "source": [
    "# Apply feature scaling to the general population demographics data.\n",
    "scaler = StandardScaler()\n",
    "azdias_processed_ = azdias_processed.copy()\n",
    "if 'LNR' in azdias_processed_.columns:\n",
    "    azdias_processed_.drop(columns = 'LNR', inplace = True)\n",
    "azdias_scaled = scaler.fit_transform(azdias_processed_.astype(float))\n",
    "# convert from ndarray to dataframe object\n",
    "df_scaled = pd.DataFrame(data=azdias_scaled, index=azdias_processed_.index, columns=azdias_processed_.columns)\n",
    "print(\"The dataset's dimension after standard scaling: {} \\n\".format(azdias_scaled.shape))"
   ]
  },
  {
   "cell_type": "code",
   "execution_count": 22,
   "metadata": {},
   "outputs": [
    {
     "data": {
      "text/plain": [
       "['savefile/standard_scaler.save']"
      ]
     },
     "execution_count": 22,
     "metadata": {},
     "output_type": "execute_result"
    }
   ],
   "source": [
    "scaler_filename = \"savefile/standard_scaler.save\"\n",
    "joblib.dump(scaler, scaler_filename) "
   ]
  },
  {
   "cell_type": "markdown",
   "metadata": {},
   "source": [
    "### Step 1.2: Perform Dimensionality Reduction"
   ]
  },
  {
   "cell_type": "code",
   "execution_count": 23,
   "metadata": {},
   "outputs": [],
   "source": [
    "# Apply PCA to the data.\n",
    "pca = PCA()\n",
    "azdias_scaled_pca = pca.fit_transform(azdias_scaled)"
   ]
  },
  {
   "cell_type": "code",
   "execution_count": 27,
   "metadata": {},
   "outputs": [
    {
     "data": {
      "text/plain": [
       "['savefile/pca.save']"
      ]
     },
     "execution_count": 27,
     "metadata": {},
     "output_type": "execute_result"
    }
   ],
   "source": [
    "# Re-apply PCA to the data while selecting for number of components to retain.\n",
    "n_components = 16 \n",
    "pca = PCA(n_components = n_components)\n",
    "azdias_scaled_pca = pca.fit_transform(azdias_scaled)\n",
    "pca_filename = \"savefile/pca.save\"\n",
    "joblib.dump(pca, pca_filename) "
   ]
  },
  {
   "cell_type": "code",
   "execution_count": 34,
   "metadata": {},
   "outputs": [
    {
     "data": {
      "image/png": "[encoded data removed]",
      "text/plain": [
       "<Figure size 720x432 with 1 Axes>"
      ]
     },
     "metadata": {},
     "output_type": "display_data"
    }
   ],
   "source": [
    "# Investigate the variance accounted for by each principal component.\n",
    "ind = np.arange(n_components)\n",
    "vals = pca.explained_variance_ratio_\n",
    "\n",
    "plt.figure(figsize=(10, 6))\n",
    "ax = plt.subplot()\n",
    "cumvals = np.cumsum(vals)\n",
    "ax.bar(ind, vals)\n",
    "ax.plot(ind, cumvals)\n",
    "for i in range(n_components):\n",
    "    ax.xaxis.set_tick_params(width=0)\n",
    "    ax.yaxis.set_tick_params(width=2, length=12)\n",
    "\n",
    "    ax.set_xlabel(\"Principal Component\")\n",
    "    ax.set_ylabel(\"Variance Explained (%)\")\n",
    "    plt.title('Explained Variance Per Principal Component')"
   ]
  },
  {
   "cell_type": "markdown",
   "metadata": {},
   "source": [
    "### Discussion"
   ]
  },
  {
   "cell_type": "markdown",
   "metadata": {},
   "source": [
    "It is noted that explained variance drops significantly around 16-th principal component, followed by a flat decaying tail afterward. At this sharp drop-off, the corresponding culmulative explained variance consists of 30% of total variance. This could be considered as a good stopping point where additonal components do not contribute much to the explained variance. Based on above justifications, 15 principal components will be retained in the following analysis."
   ]
  },
  {
   "cell_type": "markdown",
   "metadata": {},
   "source": [
    "# Step 1.3: Interpret Principal Components"
   ]
  },
  {
   "cell_type": "code",
   "execution_count": 30,
   "metadata": {},
   "outputs": [
    {
     "name": "stdout",
     "output_type": "stream",
     "text": [
      "The first principal component to corresponding feature names, sorted by the weight: \n"
     ]
    },
    {
     "data": {
      "text/html": [
       "<div>\n",
       "<style scoped>\n",
       "    .dataframe tbody tr th:only-of-type {\n",
       "        vertical-align: middle;\n",
       "    }\n",
       "\n",
       "    .dataframe tbody tr th {\n",
       "        vertical-align: top;\n",
       "    }\n",
       "\n",
       "    .dataframe thead th {\n",
       "        text-align: right;\n",
       "    }\n",
       "</style>\n",
       "<table border=\"1\" class=\"dataframe\">\n",
       "  <thead>\n",
       "    <tr style=\"text-align: right;\">\n",
       "      <th></th>\n",
       "      <th>Dimension</th>\n",
       "      <th>feature</th>\n",
       "      <th>PCA_Weight</th>\n",
       "    </tr>\n",
       "  </thead>\n",
       "  <tbody>\n",
       "    <tr>\n",
       "      <th>0</th>\n",
       "      <td>Dimension 1</td>\n",
       "      <td>PLZ8_ANTG1</td>\n",
       "      <td>-0.1411</td>\n",
       "    </tr>\n",
       "    <tr>\n",
       "      <th>1</th>\n",
       "      <td>Dimension 1</td>\n",
       "      <td>KBA13_ANTG1</td>\n",
       "      <td>-0.1409</td>\n",
       "    </tr>\n",
       "    <tr>\n",
       "      <th>2</th>\n",
       "      <td>Dimension 1</td>\n",
       "      <td>PLZ8_ANTG3</td>\n",
       "      <td>0.1396</td>\n",
       "    </tr>\n",
       "    <tr>\n",
       "      <th>3</th>\n",
       "      <td>Dimension 1</td>\n",
       "      <td>KBA13_ANTG3</td>\n",
       "      <td>0.1396</td>\n",
       "    </tr>\n",
       "    <tr>\n",
       "      <th>4</th>\n",
       "      <td>Dimension 1</td>\n",
       "      <td>KBA13_ANTG4</td>\n",
       "      <td>0.1369</td>\n",
       "    </tr>\n",
       "    <tr>\n",
       "      <th>5</th>\n",
       "      <td>Dimension 1</td>\n",
       "      <td>KBA13_BAUMAX</td>\n",
       "      <td>0.1360</td>\n",
       "    </tr>\n",
       "    <tr>\n",
       "      <th>6</th>\n",
       "      <td>Dimension 1</td>\n",
       "      <td>PLZ8_ANTG4</td>\n",
       "      <td>0.1354</td>\n",
       "    </tr>\n",
       "    <tr>\n",
       "      <th>7</th>\n",
       "      <td>Dimension 1</td>\n",
       "      <td>WEALTH</td>\n",
       "      <td>0.1330</td>\n",
       "    </tr>\n",
       "    <tr>\n",
       "      <th>8</th>\n",
       "      <td>Dimension 1</td>\n",
       "      <td>MOBI_REGIO</td>\n",
       "      <td>-0.1323</td>\n",
       "    </tr>\n",
       "    <tr>\n",
       "      <th>9</th>\n",
       "      <td>Dimension 1</td>\n",
       "      <td>LP_STATUS_GROB_1.0</td>\n",
       "      <td>0.1320</td>\n",
       "    </tr>\n",
       "  </tbody>\n",
       "</table>\n",
       "</div>"
      ],
      "text/plain": [
       "     Dimension             feature  PCA_Weight\n",
       "0  Dimension 1          PLZ8_ANTG1     -0.1411\n",
       "1  Dimension 1         KBA13_ANTG1     -0.1409\n",
       "2  Dimension 1          PLZ8_ANTG3      0.1396\n",
       "3  Dimension 1         KBA13_ANTG3      0.1396\n",
       "4  Dimension 1         KBA13_ANTG4      0.1369\n",
       "5  Dimension 1        KBA13_BAUMAX      0.1360\n",
       "6  Dimension 1          PLZ8_ANTG4      0.1354\n",
       "7  Dimension 1              WEALTH      0.1330\n",
       "8  Dimension 1          MOBI_REGIO     -0.1323\n",
       "9  Dimension 1  LP_STATUS_GROB_1.0      0.1320"
      ]
     },
     "metadata": {},
     "output_type": "display_data"
    },
    {
     "data": {
      "image/png": "[encoded data removed]",
      "text/plain": [
       "<Figure size 1152x360 with 1 Axes>"
      ]
     },
     "metadata": {},
     "output_type": "display_data"
    },
    {
     "data": {
      "text/plain": [
       "<Figure size 1152x360 with 0 Axes>"
      ]
     },
     "metadata": {},
     "output_type": "display_data"
    },
    {
     "data": {
      "text/plain": [
       "<Figure size 1152x360 with 0 Axes>"
      ]
     },
     "metadata": {},
     "output_type": "display_data"
    },
    {
     "data": {
      "text/plain": [
       "<Figure size 1152x360 with 0 Axes>"
      ]
     },
     "metadata": {},
     "output_type": "display_data"
    }
   ],
   "source": [
    "# Map weights for the first principal component to corresponding feature names\n",
    "# and then print the linked values, sorted by weight.\n",
    "\n",
    "# summarize the weights of each feature in all pca components\n",
    "pca_weights = pca_weight_decomp(df_scaled, pca)\n",
    "# show and save the top k features, sorted by their PCA weights in descending order\n",
    "dim1 = show_pca_weight(pca_weights, topk_components = 4, topk_features = 10, \\\n",
    "                            kth_component = 1, figsize = (16,5), plot = True, print_screen = False)\n",
    "print(\"The first principal component to corresponding feature names, sorted by the weight: \")\n",
    "display(dim1)"
   ]
  },
  {
   "cell_type": "code",
   "execution_count": 31,
   "metadata": {},
   "outputs": [
    {
     "name": "stdout",
     "output_type": "stream",
     "text": [
      "The second principal component to corresponding feature names, sorted by the weight: \n"
     ]
    },
    {
     "data": {
      "text/html": [
       "<div>\n",
       "<style scoped>\n",
       "    .dataframe tbody tr th:only-of-type {\n",
       "        vertical-align: middle;\n",
       "    }\n",
       "\n",
       "    .dataframe tbody tr th {\n",
       "        vertical-align: top;\n",
       "    }\n",
       "\n",
       "    .dataframe thead th {\n",
       "        text-align: right;\n",
       "    }\n",
       "</style>\n",
       "<table border=\"1\" class=\"dataframe\">\n",
       "  <thead>\n",
       "    <tr style=\"text-align: right;\">\n",
       "      <th></th>\n",
       "      <th>Dimension</th>\n",
       "      <th>feature</th>\n",
       "      <th>PCA_Weight</th>\n",
       "    </tr>\n",
       "  </thead>\n",
       "  <tbody>\n",
       "    <tr>\n",
       "      <th>10</th>\n",
       "      <td>Dimension 2</td>\n",
       "      <td>KBA13_HERST_BMW_BENZ</td>\n",
       "      <td>0.1755</td>\n",
       "    </tr>\n",
       "    <tr>\n",
       "      <th>11</th>\n",
       "      <td>Dimension 2</td>\n",
       "      <td>KBA13_SEG_OBEREMITTELKLASSE</td>\n",
       "      <td>0.1500</td>\n",
       "    </tr>\n",
       "    <tr>\n",
       "      <th>12</th>\n",
       "      <td>Dimension 2</td>\n",
       "      <td>KBA13_MERCEDES</td>\n",
       "      <td>0.1500</td>\n",
       "    </tr>\n",
       "    <tr>\n",
       "      <th>13</th>\n",
       "      <td>Dimension 2</td>\n",
       "      <td>KBA13_BMW</td>\n",
       "      <td>0.1464</td>\n",
       "    </tr>\n",
       "    <tr>\n",
       "      <th>14</th>\n",
       "      <td>Dimension 2</td>\n",
       "      <td>KBA13_SITZE_5</td>\n",
       "      <td>-0.1457</td>\n",
       "    </tr>\n",
       "    <tr>\n",
       "      <th>15</th>\n",
       "      <td>Dimension 2</td>\n",
       "      <td>KBA13_SITZE_4</td>\n",
       "      <td>0.1443</td>\n",
       "    </tr>\n",
       "    <tr>\n",
       "      <th>16</th>\n",
       "      <td>Dimension 2</td>\n",
       "      <td>KBA13_SEG_SPORTWAGEN</td>\n",
       "      <td>0.1382</td>\n",
       "    </tr>\n",
       "    <tr>\n",
       "      <th>17</th>\n",
       "      <td>Dimension 2</td>\n",
       "      <td>KBA05_HERST1</td>\n",
       "      <td>0.1242</td>\n",
       "    </tr>\n",
       "    <tr>\n",
       "      <th>18</th>\n",
       "      <td>Dimension 2</td>\n",
       "      <td>KBA13_KMH_140_210</td>\n",
       "      <td>-0.1240</td>\n",
       "    </tr>\n",
       "    <tr>\n",
       "      <th>19</th>\n",
       "      <td>Dimension 2</td>\n",
       "      <td>KBA13_SEG_KLEINWAGEN</td>\n",
       "      <td>-0.1213</td>\n",
       "    </tr>\n",
       "  </tbody>\n",
       "</table>\n",
       "</div>"
      ],
      "text/plain": [
       "      Dimension                      feature  PCA_Weight\n",
       "10  Dimension 2         KBA13_HERST_BMW_BENZ      0.1755\n",
       "11  Dimension 2  KBA13_SEG_OBEREMITTELKLASSE      0.1500\n",
       "12  Dimension 2               KBA13_MERCEDES      0.1500\n",
       "13  Dimension 2                    KBA13_BMW      0.1464\n",
       "14  Dimension 2                KBA13_SITZE_5     -0.1457\n",
       "15  Dimension 2                KBA13_SITZE_4      0.1443\n",
       "16  Dimension 2         KBA13_SEG_SPORTWAGEN      0.1382\n",
       "17  Dimension 2                 KBA05_HERST1      0.1242\n",
       "18  Dimension 2            KBA13_KMH_140_210     -0.1240\n",
       "19  Dimension 2         KBA13_SEG_KLEINWAGEN     -0.1213"
      ]
     },
     "metadata": {},
     "output_type": "display_data"
    },
    {
     "data": {
      "text/plain": [
       "<Figure size 1152x360 with 0 Axes>"
      ]
     },
     "metadata": {},
     "output_type": "display_data"
    },
    {
     "data": {
      "image/png": "[encoded data removed]",
      "text/plain": [
       "<Figure size 1152x360 with 1 Axes>"
      ]
     },
     "metadata": {},
     "output_type": "display_data"
    },
    {
     "data": {
      "text/plain": [
       "<Figure size 1152x360 with 0 Axes>"
      ]
     },
     "metadata": {},
     "output_type": "display_data"
    },
    {
     "data": {
      "text/plain": [
       "<Figure size 1152x360 with 0 Axes>"
      ]
     },
     "metadata": {},
     "output_type": "display_data"
    }
   ],
   "source": [
    "# Map weights for the second principal component to corresponding feature names\n",
    "# and then print the linked values, sorted by weight.\n",
    "dim2 = show_pca_weight(pca_weights, topk_components = 4, topk_features = 10, \\\n",
    "                            kth_component = 2, figsize = (16,5), plot = True, print_screen = False)\n",
    "print(\"The second principal component to corresponding feature names, sorted by the weight: \")\n",
    "display(dim2)\n"
   ]
  },
  {
   "cell_type": "code",
   "execution_count": 32,
   "metadata": {},
   "outputs": [
    {
     "name": "stdout",
     "output_type": "stream",
     "text": [
      "The third principal component to corresponding feature names, sorted by the weight: \n"
     ]
    },
    {
     "data": {
      "text/html": [
       "<div>\n",
       "<style scoped>\n",
       "    .dataframe tbody tr th:only-of-type {\n",
       "        vertical-align: middle;\n",
       "    }\n",
       "\n",
       "    .dataframe tbody tr th {\n",
       "        vertical-align: top;\n",
       "    }\n",
       "\n",
       "    .dataframe thead th {\n",
       "        text-align: right;\n",
       "    }\n",
       "</style>\n",
       "<table border=\"1\" class=\"dataframe\">\n",
       "  <thead>\n",
       "    <tr style=\"text-align: right;\">\n",
       "      <th></th>\n",
       "      <th>Dimension</th>\n",
       "      <th>feature</th>\n",
       "      <th>PCA_Weight</th>\n",
       "    </tr>\n",
       "  </thead>\n",
       "  <tbody>\n",
       "    <tr>\n",
       "      <th>20</th>\n",
       "      <td>Dimension 3</td>\n",
       "      <td>DECADE</td>\n",
       "      <td>-0.1981</td>\n",
       "    </tr>\n",
       "    <tr>\n",
       "      <th>21</th>\n",
       "      <td>Dimension 3</td>\n",
       "      <td>CJT_TYP_1</td>\n",
       "      <td>-0.1945</td>\n",
       "    </tr>\n",
       "    <tr>\n",
       "      <th>22</th>\n",
       "      <td>Dimension 3</td>\n",
       "      <td>CJT_TYP_2</td>\n",
       "      <td>-0.1922</td>\n",
       "    </tr>\n",
       "    <tr>\n",
       "      <th>23</th>\n",
       "      <td>Dimension 3</td>\n",
       "      <td>FINANZ_SPARER</td>\n",
       "      <td>-0.1920</td>\n",
       "    </tr>\n",
       "    <tr>\n",
       "      <th>24</th>\n",
       "      <td>Dimension 3</td>\n",
       "      <td>ALTERSKATEGORIE_GROB</td>\n",
       "      <td>0.1830</td>\n",
       "    </tr>\n",
       "    <tr>\n",
       "      <th>25</th>\n",
       "      <td>Dimension 3</td>\n",
       "      <td>FINANZ_UNAUFFAELLIGER</td>\n",
       "      <td>-0.1785</td>\n",
       "    </tr>\n",
       "    <tr>\n",
       "      <th>26</th>\n",
       "      <td>Dimension 3</td>\n",
       "      <td>FINANZ_VORSORGER</td>\n",
       "      <td>0.1782</td>\n",
       "    </tr>\n",
       "    <tr>\n",
       "      <th>27</th>\n",
       "      <td>Dimension 3</td>\n",
       "      <td>CJT_TYP_5</td>\n",
       "      <td>0.1726</td>\n",
       "    </tr>\n",
       "    <tr>\n",
       "      <th>28</th>\n",
       "      <td>Dimension 3</td>\n",
       "      <td>CJT_TYP_4</td>\n",
       "      <td>0.1710</td>\n",
       "    </tr>\n",
       "    <tr>\n",
       "      <th>29</th>\n",
       "      <td>Dimension 3</td>\n",
       "      <td>CJT_TYP_3</td>\n",
       "      <td>0.1684</td>\n",
       "    </tr>\n",
       "  </tbody>\n",
       "</table>\n",
       "</div>"
      ],
      "text/plain": [
       "      Dimension                feature  PCA_Weight\n",
       "20  Dimension 3                 DECADE     -0.1981\n",
       "21  Dimension 3              CJT_TYP_1     -0.1945\n",
       "22  Dimension 3              CJT_TYP_2     -0.1922\n",
       "23  Dimension 3          FINANZ_SPARER     -0.1920\n",
       "24  Dimension 3   ALTERSKATEGORIE_GROB      0.1830\n",
       "25  Dimension 3  FINANZ_UNAUFFAELLIGER     -0.1785\n",
       "26  Dimension 3       FINANZ_VORSORGER      0.1782\n",
       "27  Dimension 3              CJT_TYP_5      0.1726\n",
       "28  Dimension 3              CJT_TYP_4      0.1710\n",
       "29  Dimension 3              CJT_TYP_3      0.1684"
      ]
     },
     "metadata": {},
     "output_type": "display_data"
    },
    {
     "data": {
      "text/plain": [
       "<Figure size 1152x360 with 0 Axes>"
      ]
     },
     "metadata": {},
     "output_type": "display_data"
    },
    {
     "data": {
      "text/plain": [
       "<Figure size 1152x360 with 0 Axes>"
      ]
     },
     "metadata": {},
     "output_type": "display_data"
    },
    {
     "data": {
      "image/png": "[encoded data removed]",
      "text/plain": [
       "<Figure size 1152x360 with 1 Axes>"
      ]
     },
     "metadata": {},
     "output_type": "display_data"
    },
    {
     "data": {
      "text/plain": [
       "<Figure size 1152x360 with 0 Axes>"
      ]
     },
     "metadata": {},
     "output_type": "display_data"
    }
   ],
   "source": [
    "# Map weights for the third principal component to corresponding feature names\n",
    "# and then print the linked values, sorted by weight.\n",
    "dim3 = show_pca_weight(pca_weights, topk_components = 4, topk_features = 10, \\\n",
    "                            kth_component = 3, figsize = (16,5), plot = True, print_screen = False)\n",
    "print(\"The third principal component to corresponding feature names, sorted by the weight: \")\n",
    "display(dim3)\n"
   ]
  },
  {
   "cell_type": "markdown",
   "metadata": {},
   "source": [
    "#### Discussion 2.3: Interpret Principal Components\n",
    "For each principal component or dimension, the top 3 and bottom 3 weights with their corresponding feature names will be investigated for any associations.\n",
    "\n",
    "**Dimension 1:**\n",
    "* `MOBI_REGIO`  - moving patterns\n",
    "* `PLZ8_ANTG1`  - number of 1-2 family houses in the PLZ8\n",
    "* `KBA13_ANTG1`  - no information\n",
    "* `KBA13_ANTG4`  - no information\n",
    "* `KBA13_ANTG3`  - no information\n",
    "* `PLZ8_ANTG3`  - number of 6-10 family houses in the PLZ8\n",
    "\n",
    "**Interpretation:** The first principal component is strongly correlated with none to very low mobilities and high number of 1-2 family houses. `KBA13` is not described in the attributes file but it can be related to car ownership. Higher car owndership and higher number of 5-6 family houses tend to negatively affect this principal component.\n",
    "\n",
    "**Dimension 2:**\n",
    "* `KBA13_HERST_BMW_BENZ`  - share of BMW & Mercedes Benz within the PLZ8\n",
    "* `KBA13_SEG_OBEREMITTELKLASSE`  - share of upper middle class cars and upper class cars\n",
    "* `KBA13_MERCEDES`  - share of MERCEDES within the PLZ8\n",
    "* `KBA13_SEG_KLEINWAGEN`  - share of small and very small cars in the PLZ8\n",
    "* `KBA13_KMH_140_210`  - share of cars with max speed between 140 and 210 km/h within the PLZ8\n",
    "* `KBA13_SITZE_5`  - number of cars with 5 seats in the PLZ8\n",
    "\n",
    "**Interpretation:** The second principal component is primarily affected by car ownership. People who own a lot of luxury cars such as BWM and Mercedes increase this component. On the other hand, people who own budget cars such as Ford Fiesta decrease this component.\n",
    "\n"
   ]
  },
  {
   "cell_type": "markdown",
   "metadata": {},
   "source": [
    "### Step 1.3: Clustering"
   ]
  },
  {
   "cell_type": "markdown",
   "metadata": {},
   "source": [
    "#### Step 1.3.1: Apply Clustering to General Population\n"
   ]
  },
  {
   "cell_type": "code",
   "execution_count": 33,
   "metadata": {},
   "outputs": [
    {
     "name": "stdout",
     "output_type": "stream",
     "text": [
      "Input data dimension:  (785318, 16)\n",
      "Using minibatch Kmean.\n",
      "The score for 1 clusters is 113215562.12774868 \n",
      "The score for 6 clusters is 77867575.73206548 \n",
      "The score for 11 clusters is 68807991.80999805 \n",
      "The score for 16 clusters is 64083410.13168859 \n",
      "The score for 21 clusters is 60951789.45097061 \n",
      "The score for 26 clusters is 59108110.373243526 \n"
     ]
    }
   ],
   "source": [
    "clusters = np.arange(1, 30)\n",
    "centers, scores = train_kmean(azdias_scaled_pca, clusters, batch_portion = 0.1, use_batch = True)"
   ]
  },
  {
   "cell_type": "code",
   "execution_count": 37,
   "metadata": {},
   "outputs": [
    {
     "data": {
      "image/png": "[encoded data removed]",
      "text/plain": [
       "<Figure size 1152x576 with 2 Axes>"
      ]
     },
     "metadata": {},
     "output_type": "display_data"
    }
   ],
   "source": [
    "# Investigate the change in within-cluster distance across number of clusters.\n",
    "plot_kmean_score(centers, scores)"
   ]
  },
  {
   "cell_type": "code",
   "execution_count": 38,
   "metadata": {},
   "outputs": [],
   "source": [
    "n_clusters = 10\n",
    "km = KMeans(n_clusters = n_clusters, random_state = 42)\n",
    "model = km.fit(azdias_scaled_pca)\n",
    "model_filename = \"savefile/kmeans_model.save\"\n",
    "joblib.dump(model, model_filename)\n",
    "# convert ndarray to dataframe object\n",
    "azdias_label = pd.DataFrame({\"Cluster_ID\": model.predict(azdias_scaled_pca)})\n",
    "\n",
    "df_azdias_scaled_pca = pd.DataFrame(data = azdias_scaled_pca, \\\n",
    "        columns = ['Dimension {}'.format(i) for i in range(1,len(pca.components_)+1)])\n",
    "df_azdias_scaled_pca = pd.concat([df_azdias_scaled_pca, azdias_label], axis=1)"
   ]
  },
  {
   "cell_type": "markdown",
   "metadata": {},
   "source": [
    "### Discussion"
   ]
  },
  {
   "cell_type": "markdown",
   "metadata": {},
   "source": [
    "Based on the plot, 10-cluster seems to be a reasonable choice to segment the population. The plot on the left panel above shows that the average distance (SSE) decreases with the number of clusters monotonically. To find the elbow at which decreasing in the distance is not substantial enough to suggest the need for an additional cluster, their first derivative (the slope) with respect to the number of clusters, as shown in the right panel. With increased clusters, the slope starts to stablize around 10-15 clusters."
   ]
  },
  {
   "cell_type": "markdown",
   "metadata": {},
   "source": [
    "#### Step 1.3.2: Predict Cluster ID Based on Trained Model"
   ]
  },
  {
   "cell_type": "code",
   "execution_count": 39,
   "metadata": {},
   "outputs": [],
   "source": [
    "azdias_cluster_ID = predict_cluster(azdias_processed, scaler, pca, model)\n",
    "customers_cluster_ID = predict_cluster(customers_processed, scaler, pca, model)\n",
    "X_train_cluster_ID = predict_cluster(X_train_processed, scaler, pca, model)\n",
    "X_test_cluster_ID = predict_cluster(X_test_processed, scaler, pca, model)"
   ]
  },
  {
   "cell_type": "code",
   "execution_count": 41,
   "metadata": {},
   "outputs": [],
   "source": [
    "# predict cluster ID for train data\n",
    "#X_train_cluster_ID = predict_cluster(X_train_processed, scaler, pca, model)\n",
    "X_train_labeled = X_train[['LNR']].merge(X_train_cluster_ID, how = 'left', on = 'LNR')\n",
    "X_train_labeled.Cluster_ID.fillna(value = 10, inplace = True)\n",
    "X_train_labeled.to_csv('data/train_cluster_ID.csv', sep = '\\t')\n",
    "# predict cluster ID for test data\n",
    "#X_test_cluster_ID = predict_cluster(X_test_processed, scaler, pca, model)\n",
    "X_test_labeled = X_test[['LNR']].merge(X_test_cluster_ID, how = 'left', on = 'LNR')\n",
    "X_test_labeled.Cluster_ID.fillna(value = 10, inplace = True)\n",
    "X_test_labeled.to_csv('data/test_cluster_ID.csv', sep = '\\t')"
   ]
  },
  {
   "cell_type": "code",
   "execution_count": 42,
   "metadata": {},
   "outputs": [],
   "source": [
    "# separate into response/no response data for plotting\n",
    "X_train_0 = X_train[y_train['RESPONSE'] == 0]\n",
    "X_train_1 = X_train[y_train['RESPONSE'] == 1]\n",
    "X_train_0_cluster_ID = X_train_cluster_ID[X_train_cluster_ID.index.isin(y_train[y_train['RESPONSE']==0].index)]\n",
    "X_train_1_cluster_ID = X_train_cluster_ID[X_train_cluster_ID.index.isin(y_train[y_train['RESPONSE']==1].index)]"
   ]
  },
  {
   "cell_type": "markdown",
   "metadata": {},
   "source": [
    "#### Step 1.3.3: Compare Customer Data to Demographics Data"
   ]
  },
  {
   "cell_type": "markdown",
   "metadata": {},
   "source": [
    "#### Distribution of General Demographic and Customers"
   ]
  },
  {
   "cell_type": "code",
   "execution_count": 43,
   "metadata": {},
   "outputs": [
    {
     "data": {
      "image/png": "[encoded data removed]",
      "text/plain": [
       "<Figure size 1080x576 with 1 Axes>"
      ]
     },
     "metadata": {},
     "output_type": "display_data"
    }
   ],
   "source": [
    "df_agg0 = segment_plot(azdias, customers, azdias_cluster_ID, customers_cluster_ID)"
   ]
  },
  {
   "cell_type": "markdown",
   "metadata": {},
   "source": [
    "#### Distribution of Response/No Response Customers in the Mail-Out Campaign"
   ]
  },
  {
   "cell_type": "code",
   "execution_count": 44,
   "metadata": {},
   "outputs": [
    {
     "data": {
      "image/png": "[encoded data removed]",
      "text/plain": [
       "<Figure size 1080x576 with 1 Axes>"
      ]
     },
     "metadata": {},
     "output_type": "display_data"
    }
   ],
   "source": [
    "df_agg1 = segment_plot(X_train_0, X_train_1, X_train_0_cluster_ID, X_train_1_cluster_ID, \\\n",
    "                       normalized = False, labels = ['Trainset: Not Responded', 'Trainset: Responded'])"
   ]
  },
  {
   "cell_type": "markdown",
   "metadata": {},
   "source": [
    "#### Detail Statistics of Customers who responded"
   ]
  },
  {
   "cell_type": "code",
   "execution_count": 45,
   "metadata": {},
   "outputs": [
    {
     "data": {
      "text/html": [
       "<div>\n",
       "<style scoped>\n",
       "    .dataframe tbody tr th:only-of-type {\n",
       "        vertical-align: middle;\n",
       "    }\n",
       "\n",
       "    .dataframe tbody tr th {\n",
       "        vertical-align: top;\n",
       "    }\n",
       "\n",
       "    .dataframe thead th {\n",
       "        text-align: right;\n",
       "    }\n",
       "</style>\n",
       "<table border=\"1\" class=\"dataframe\">\n",
       "  <thead>\n",
       "    <tr style=\"text-align: right;\">\n",
       "      <th></th>\n",
       "      <th>label</th>\n",
       "      <th>Cluster_ID</th>\n",
       "      <th>Count</th>\n",
       "      <th>Frequency</th>\n",
       "      <th>Response_Rate</th>\n",
       "    </tr>\n",
       "  </thead>\n",
       "  <tbody>\n",
       "    <tr>\n",
       "      <th>14</th>\n",
       "      <td>Trainset: Responded</td>\n",
       "      <td>3.0</td>\n",
       "      <td>107</td>\n",
       "      <td>20.112782</td>\n",
       "      <td>1.160269</td>\n",
       "    </tr>\n",
       "    <tr>\n",
       "      <th>21</th>\n",
       "      <td>Trainset: Responded</td>\n",
       "      <td>10.0</td>\n",
       "      <td>105</td>\n",
       "      <td>19.736842</td>\n",
       "      <td>1.318267</td>\n",
       "    </tr>\n",
       "    <tr>\n",
       "      <th>20</th>\n",
       "      <td>Trainset: Responded</td>\n",
       "      <td>9.0</td>\n",
       "      <td>92</td>\n",
       "      <td>17.293233</td>\n",
       "      <td>1.278843</td>\n",
       "    </tr>\n",
       "    <tr>\n",
       "      <th>18</th>\n",
       "      <td>Trainset: Responded</td>\n",
       "      <td>7.0</td>\n",
       "      <td>77</td>\n",
       "      <td>14.473684</td>\n",
       "      <td>1.164549</td>\n",
       "    </tr>\n",
       "    <tr>\n",
       "      <th>16</th>\n",
       "      <td>Trainset: Responded</td>\n",
       "      <td>5.0</td>\n",
       "      <td>41</td>\n",
       "      <td>7.706767</td>\n",
       "      <td>1.250763</td>\n",
       "    </tr>\n",
       "    <tr>\n",
       "      <th>17</th>\n",
       "      <td>Trainset: Responded</td>\n",
       "      <td>6.0</td>\n",
       "      <td>37</td>\n",
       "      <td>6.954887</td>\n",
       "      <td>1.428571</td>\n",
       "    </tr>\n",
       "    <tr>\n",
       "      <th>13</th>\n",
       "      <td>Trainset: Responded</td>\n",
       "      <td>2.0</td>\n",
       "      <td>32</td>\n",
       "      <td>6.015038</td>\n",
       "      <td>1.229351</td>\n",
       "    </tr>\n",
       "    <tr>\n",
       "      <th>19</th>\n",
       "      <td>Trainset: Responded</td>\n",
       "      <td>8.0</td>\n",
       "      <td>27</td>\n",
       "      <td>5.075188</td>\n",
       "      <td>1.367089</td>\n",
       "    </tr>\n",
       "    <tr>\n",
       "      <th>12</th>\n",
       "      <td>Trainset: Responded</td>\n",
       "      <td>1.0</td>\n",
       "      <td>7</td>\n",
       "      <td>1.315789</td>\n",
       "      <td>1.097179</td>\n",
       "    </tr>\n",
       "    <tr>\n",
       "      <th>15</th>\n",
       "      <td>Trainset: Responded</td>\n",
       "      <td>4.0</td>\n",
       "      <td>6</td>\n",
       "      <td>1.127820</td>\n",
       "      <td>1.001669</td>\n",
       "    </tr>\n",
       "    <tr>\n",
       "      <th>11</th>\n",
       "      <td>Trainset: Responded</td>\n",
       "      <td>0.0</td>\n",
       "      <td>1</td>\n",
       "      <td>0.187970</td>\n",
       "      <td>0.349650</td>\n",
       "    </tr>\n",
       "  </tbody>\n",
       "</table>\n",
       "</div>"
      ],
      "text/plain": [
       "                  label  Cluster_ID  Count  Frequency  Response_Rate\n",
       "14  Trainset: Responded         3.0    107  20.112782       1.160269\n",
       "21  Trainset: Responded        10.0    105  19.736842       1.318267\n",
       "20  Trainset: Responded         9.0     92  17.293233       1.278843\n",
       "18  Trainset: Responded         7.0     77  14.473684       1.164549\n",
       "16  Trainset: Responded         5.0     41   7.706767       1.250763\n",
       "17  Trainset: Responded         6.0     37   6.954887       1.428571\n",
       "13  Trainset: Responded         2.0     32   6.015038       1.229351\n",
       "19  Trainset: Responded         8.0     27   5.075188       1.367089\n",
       "12  Trainset: Responded         1.0      7   1.315789       1.097179\n",
       "15  Trainset: Responded         4.0      6   1.127820       1.001669\n",
       "11  Trainset: Responded         0.0      1   0.187970       0.349650"
      ]
     },
     "execution_count": 45,
     "metadata": {},
     "output_type": "execute_result"
    }
   ],
   "source": [
    "df_agg1['Response_Rate'] = df_agg1.groupby(by = ['Cluster_ID'])[['Count']].transform(lambda x: (x/ x.sum())*100)\n",
    "df_agg1[df_agg1['label'] == 'Trainset: Responded'].sort_values(by='Frequency', ascending = False)"
   ]
  },
  {
   "cell_type": "code",
   "execution_count": 46,
   "metadata": {},
   "outputs": [
    {
     "data": {
      "text/html": [
       "<div>\n",
       "<style scoped>\n",
       "    .dataframe tbody tr th:only-of-type {\n",
       "        vertical-align: middle;\n",
       "    }\n",
       "\n",
       "    .dataframe tbody tr th {\n",
       "        vertical-align: top;\n",
       "    }\n",
       "\n",
       "    .dataframe thead th {\n",
       "        text-align: right;\n",
       "    }\n",
       "</style>\n",
       "<table border=\"1\" class=\"dataframe\">\n",
       "  <thead>\n",
       "    <tr style=\"text-align: right;\">\n",
       "      <th></th>\n",
       "      <th></th>\n",
       "      <th></th>\n",
       "      <th>Cluster 14 (overrepresenting)</th>\n",
       "      <th>Cluster 5 (underrepresenting)</th>\n",
       "    </tr>\n",
       "  </thead>\n",
       "  <tbody>\n",
       "    <tr>\n",
       "      <th rowspan=\"8\" valign=\"top\">Income</th>\n",
       "      <th>HH_EINKOMMEN_SCORE</th>\n",
       "      <th>Estimated household net income</th>\n",
       "      <td>5.647561</td>\n",
       "      <td>3.447177</td>\n",
       "    </tr>\n",
       "    <tr>\n",
       "      <th>LP_STATUS_GROB_1.0</th>\n",
       "      <th>low-income earners</th>\n",
       "      <td>0.750585</td>\n",
       "      <td>0.126142</td>\n",
       "    </tr>\n",
       "    <tr>\n",
       "      <th>LP_STATUS_GROB_2.0</th>\n",
       "      <th>average earners</th>\n",
       "      <td>0.197947</td>\n",
       "      <td>0.235803</td>\n",
       "    </tr>\n",
       "    <tr>\n",
       "      <th>LP_STATUS_GROB_3.0</th>\n",
       "      <th>independents</th>\n",
       "      <td>0.026761</td>\n",
       "      <td>0.090307</td>\n",
       "    </tr>\n",
       "    <tr>\n",
       "      <th>LP_STATUS_GROB_4.0</th>\n",
       "      <th>houseowners</th>\n",
       "      <td>0.028918</td>\n",
       "      <td>0.296080</td>\n",
       "    </tr>\n",
       "    <tr>\n",
       "      <th>LP_STATUS_GROB_5.0</th>\n",
       "      <th>top earners</th>\n",
       "      <td>-0.004212</td>\n",
       "      <td>0.251669</td>\n",
       "    </tr>\n",
       "    <tr>\n",
       "      <th>FINANZ_MINIMALIST</th>\n",
       "      <th>low financial interest</th>\n",
       "      <td>2.388068</td>\n",
       "      <td>3.320195</td>\n",
       "    </tr>\n",
       "    <tr>\n",
       "      <th>WEALTH</th>\n",
       "      <th>Wealth Scale</th>\n",
       "      <td>4.589310</td>\n",
       "      <td>2.305312</td>\n",
       "    </tr>\n",
       "    <tr>\n",
       "      <th rowspan=\"2\" valign=\"top\">Age</th>\n",
       "      <th>ALTERSKATEGORIE_GROB</th>\n",
       "      <th>Estimated age</th>\n",
       "      <td>2.859206</td>\n",
       "      <td>2.254787</td>\n",
       "    </tr>\n",
       "    <tr>\n",
       "      <th>DECADE</th>\n",
       "      <th>Borned Decades</th>\n",
       "      <td>4.162364</td>\n",
       "      <td>5.267348</td>\n",
       "    </tr>\n",
       "    <tr>\n",
       "      <th rowspan=\"2\" valign=\"top\">Gender</th>\n",
       "      <th>ANREDE_KZ_1</th>\n",
       "      <th>Male</th>\n",
       "      <td>0.469563</td>\n",
       "      <td>0.493571</td>\n",
       "    </tr>\n",
       "    <tr>\n",
       "      <th>ANREDE_KZ_2</th>\n",
       "      <th>Female</th>\n",
       "      <td>0.530437</td>\n",
       "      <td>0.506429</td>\n",
       "    </tr>\n",
       "    <tr>\n",
       "      <th rowspan=\"3\" valign=\"top\">Movement</th>\n",
       "      <th>GREEN_AVANTGARDE_0</th>\n",
       "      <th>mainstream</th>\n",
       "      <td>0.982427</td>\n",
       "      <td>0.631381</td>\n",
       "    </tr>\n",
       "    <tr>\n",
       "      <th>GREEN_AVANTGARDE_1</th>\n",
       "      <th>avantgarde</th>\n",
       "      <td>0.017573</td>\n",
       "      <td>0.368619</td>\n",
       "    </tr>\n",
       "    <tr>\n",
       "      <th>MOVEMENT</th>\n",
       "      <th>mainstream vs. avantgarde</th>\n",
       "      <td>0.017573</td>\n",
       "      <td>0.368619</td>\n",
       "    </tr>\n",
       "    <tr>\n",
       "      <th rowspan=\"2\" valign=\"top\">Apartment Location</th>\n",
       "      <th>OST_WEST_KZ_O</th>\n",
       "      <th>East Germany</th>\n",
       "      <td>0.967975</td>\n",
       "      <td>0.049164</td>\n",
       "    </tr>\n",
       "    <tr>\n",
       "      <th>OST_WEST_KZ_W</th>\n",
       "      <th>West Germany</th>\n",
       "      <td>0.032025</td>\n",
       "      <td>0.950836</td>\n",
       "    </tr>\n",
       "  </tbody>\n",
       "</table>\n",
       "</div>"
      ],
      "text/plain": [
       "                                                                        Cluster 14 (overrepresenting)  \\\n",
       "Income             HH_EINKOMMEN_SCORE   Estimated household net income                       5.647561   \n",
       "                   LP_STATUS_GROB_1.0   low-income earners                                   0.750585   \n",
       "                   LP_STATUS_GROB_2.0   average earners                                      0.197947   \n",
       "                   LP_STATUS_GROB_3.0   independents                                         0.026761   \n",
       "                   LP_STATUS_GROB_4.0   houseowners                                          0.028918   \n",
       "                   LP_STATUS_GROB_5.0   top earners                                         -0.004212   \n",
       "                   FINANZ_MINIMALIST    low financial interest                               2.388068   \n",
       "                   WEALTH               Wealth Scale                                         4.589310   \n",
       "Age                ALTERSKATEGORIE_GROB Estimated age                                        2.859206   \n",
       "                   DECADE               Borned Decades                                       4.162364   \n",
       "Gender             ANREDE_KZ_1          Male                                                 0.469563   \n",
       "                   ANREDE_KZ_2          Female                                               0.530437   \n",
       "Movement           GREEN_AVANTGARDE_0   mainstream                                           0.982427   \n",
       "                   GREEN_AVANTGARDE_1   avantgarde                                           0.017573   \n",
       "                   MOVEMENT             mainstream vs. avantgarde                            0.017573   \n",
       "Apartment Location OST_WEST_KZ_O        East Germany                                         0.967975   \n",
       "                   OST_WEST_KZ_W        West Germany                                         0.032025   \n",
       "\n",
       "                                                                        Cluster 5 (underrepresenting)  \n",
       "Income             HH_EINKOMMEN_SCORE   Estimated household net income                       3.447177  \n",
       "                   LP_STATUS_GROB_1.0   low-income earners                                   0.126142  \n",
       "                   LP_STATUS_GROB_2.0   average earners                                      0.235803  \n",
       "                   LP_STATUS_GROB_3.0   independents                                         0.090307  \n",
       "                   LP_STATUS_GROB_4.0   houseowners                                          0.296080  \n",
       "                   LP_STATUS_GROB_5.0   top earners                                          0.251669  \n",
       "                   FINANZ_MINIMALIST    low financial interest                               3.320195  \n",
       "                   WEALTH               Wealth Scale                                         2.305312  \n",
       "Age                ALTERSKATEGORIE_GROB Estimated age                                        2.254787  \n",
       "                   DECADE               Borned Decades                                       5.267348  \n",
       "Gender             ANREDE_KZ_1          Male                                                 0.493571  \n",
       "                   ANREDE_KZ_2          Female                                               0.506429  \n",
       "Movement           GREEN_AVANTGARDE_0   mainstream                                           0.631381  \n",
       "                   GREEN_AVANTGARDE_1   avantgarde                                           0.368619  \n",
       "                   MOVEMENT             mainstream vs. avantgarde                            0.368619  \n",
       "Apartment Location OST_WEST_KZ_O        East Germany                                         0.049164  \n",
       "                   OST_WEST_KZ_W        West Germany                                         0.950836  "
      ]
     },
     "execution_count": 46,
     "metadata": {},
     "output_type": "execute_result"
    }
   ],
   "source": [
    "# What kinds of people are part of a cluster that is overrepresented/underrepresented in the\n",
    "# customer data compared to the general population?\n",
    "show_attributes(6, 2)"
   ]
  },
  {
   "cell_type": "markdown",
   "metadata": {},
   "source": [
    "### Discussion"
   ]
  },
  {
   "cell_type": "markdown",
   "metadata": {},
   "source": [
    "By applying the clustering analysis, each individual can be divided into 10 clusters. In addition, all high-NaN data has been assigned into Cluster 10. The first figure on the top shows a comparison of distribution between the general demongraphics, and the customer. In this case, it is the cluster overrepresentation is with 6, 7, and 10. \n",
    "\n",
    "Based on the table above, we can concluded that the most overrepresenting cluster is the group of people, with high-income in their middle-age borned in 40-50s, involved in green avantgarde, and mostly living in the area of former West Germany. People in the underrepresenting cluster trend to be on the opposite side: they are lower income earners, mainly younger female borned in the 80-90s, and not a member of green avantgarde.\n",
    "\n",
    "The second figure above show the distribution of targeted individuals in the mailout campain, similar to the distribution of the customer clusters in the first figure. The color indicates pepople who responded (orange), and not responded (blue). The table above shows detailed statistics about the individuals who responded in the mail-out campain. Most mail-out individuals fall into bucket Cluster 6, 7 and 10, with response rate slightly above 1%.\n",
    "\n",
    "Overall, the response rate is similar in each cluster, with only about 1 percentage on average. To build a supervised-learning model which predicts the likelihood of an individual to respond, we need to re-balance the dataset. There are generally two ways: changing the weights on the labeled data, sampling strategy. Here, I used the oversampling method, as shown in the next part. \n"
   ]
  },
  {
   "cell_type": "markdown",
   "metadata": {},
   "source": [
    "## Part 2: Supervised Learning Model\n",
    "\n",
    "Now that you've found which parts of the population are more likely to be customers of the mail-order company, it's time to build a prediction model. Each of the rows in the \"MAILOUT\" data files represents an individual that was targeted for a mailout campaign. Ideally, we should be able to use the demographic information from each individual to decide whether or not it will be worth it to include that person in the campaign.\n",
    "\n",
    "The \"MAILOUT\" data has been split into two approximately equal parts, each with almost 43 000 data rows. In this part, you can verify your model with the \"TRAIN\" partition, which includes a column, \"RESPONSE\", that states whether or not a person became a customer of the company following the campaign. In the next part, you'll need to create predictions on the \"TEST\" partition, where the \"RESPONSE\" column has been withheld."
   ]
  },
  {
   "cell_type": "markdown",
   "metadata": {},
   "source": [
    "## Step 2.1 Data Preprocessing"
   ]
  },
  {
   "cell_type": "markdown",
   "metadata": {},
   "source": [
    "### 2.1.1 Restore saved files generated from Part 1"
   ]
  },
  {
   "cell_type": "markdown",
   "metadata": {},
   "source": [
    "You can skip Part 0 and Part 1, and restore savefiles from previous steps."
   ]
  },
  {
   "cell_type": "code",
   "execution_count": 3,
   "metadata": {},
   "outputs": [],
   "source": [
    "# load missing codes obtained from the dictionary \n",
    "feat_nan_code = pd.read_csv('data/feature_missing_code.csv', sep = '\\t').drop('Unnamed: 0', axis = 1)\n",
    "# load feature type obtained from the dictionary\n",
    "feat_cat = pd.read_csv('data/feature_type.csv', sep = '\\t').drop('Unnamed: 0', axis = 1)\n",
    "# load feature to be dropped obtained from Step 0.3.1\n",
    "feature_to_drop = pd.read_csv('data/dropped_feature.csv')\n",
    "# some formatting steps\n",
    "X = 'X'\n",
    "XX = 'XX'\n",
    "feat_nan_code['Value'] = feat_nan_code['Value'].apply(lambda x: eval(x))\n",
    "# load clustering model obtained from Step 1\n",
    "km = joblib.load(\"savefile/kmeans_model.save\")\n",
    "# load standard scaler obtained from step 1\n",
    "km_scaler = joblib.load(\"savefile/standard_scaler.save\") \n",
    "# load pca obtained from step 1\n",
    "km_pca = joblib.load(\"savefile/pca.save\") \n",
    "# load dataset\n",
    "mailout_train = pd.read_csv('data/Udacity_MAILOUT_052018_TRAIN.csv', sep=';', dtype={19:'str',20:'str'}).drop('Unnamed: 0', axis = 1)\n",
    "# load predicted cluster_IDs obtained from step 1\n",
    "mailout_train_cluster = pd.read_csv('data/train_cluster_ID.csv', sep = '\\t').drop('Unnamed: 0', axis = 1)\n",
    "# load list of all column names after cleaning azdias data in step 1 \n",
    "azdias_processed_columns = list(pd.read_csv('savefile/all_columns.csv').drop('Unnamed: 0', axis = 1).iloc[:,0])"
   ]
  },
  {
   "cell_type": "markdown",
   "metadata": {},
   "source": [
    "### 2.1.2 Clean and Split the Data"
   ]
  },
  {
   "cell_type": "markdown",
   "metadata": {},
   "source": [
    "The data cleaning step is similar to Part 1: in stead of dropping the data above the row-missing threshold, we impute them with the mode in the corresponding column. A stratified splitting approach on the label was used to obtain training (75%) and testing sets (25%) with approximatly similar portion of response/no response samples."
   ]
  },
  {
   "cell_type": "code",
   "execution_count": 4,
   "metadata": {
    "scrolled": true
   },
   "outputs": [
    {
     "name": "stdout",
     "output_type": "stream",
     "text": [
      "\n",
      " The new dataset dimension is: (42962, 476)\n",
      "\n",
      " Sanity Check: The dimension of the dataset is: (42962, 476)\n",
      "There are 0 columns of non-numeric dtype.\n",
      "There are 0 columns containing missing values.\n"
     ]
    }
   ],
   "source": [
    "X = mailout_train.drop(['RESPONSE'], axis = 1)\n",
    "y = mailout_train[['LNR', 'RESPONSE']].astype(float)\n",
    "# similar data cleaning procedures to Step 1\n",
    "X_cleaned, X_nan = clean_data(X, feat_nan_code, feat_cat, feature_to_drop = feature_to_drop, row_thres = 30, drop_row_NaN = False, print_step = False)\n",
    "# data columns after cleaning should be exactly the same as before\n",
    "X_cleaned = reshape_cols(X_cleaned, azdias_processed_columns)\n",
    "# merge predicted clustering IDs generated from Step 1\n",
    "X_cleaned = X_cleaned.merge(mailout_train_cluster, how = 'left', on = 'LNR')\n",
    "# use stratified splitting to generate trainset and testset\n",
    "X_train_cleaned, X_test_cleaned, y_train, y_test = train_test_split_by_cluster(X_cleaned, y, \\\n",
    "                                                                               test_size=0.25, random_state=1)"
   ]
  },
  {
   "cell_type": "markdown",
   "metadata": {},
   "source": [
    "### 2.1.3 Oversampling"
   ]
  },
  {
   "cell_type": "markdown",
   "metadata": {},
   "source": [
    "For each cluster, bootstraped the data labeled with response (y=1) to the same amount of no response (y=0) for each cluster."
   ]
  },
  {
   "cell_type": "code",
   "execution_count": 5,
   "metadata": {},
   "outputs": [],
   "source": [
    "train_set = pd.concat([y_train, X_train_cleaned.drop(columns='LNR')], axis = 1)\n",
    "n_clusters = train_set.Cluster_ID.nunique()\n",
    "train_over_cluster = pd.DataFrame(data=None, columns = train_set.columns)\n",
    "for Cluster_ID in range(n_clusters):\n",
    "    train_over_cluster = pd.concat([train_over_cluster, oversampling(train_set, Cluster_ID)])\n",
    "# shuffle the data\n",
    "train_over_cluster = train_over_cluster.sample(frac=1).reset_index(drop=True)\n",
    "X_train_over = train_over_cluster.drop(['RESPONSE'], axis = 1)\n",
    "y_train_over = train_over_cluster[['LNR', 'RESPONSE']]"
   ]
  },
  {
   "cell_type": "markdown",
   "metadata": {},
   "source": [
    "## Step 2.2 Train the Model"
   ]
  },
  {
   "cell_type": "markdown",
   "metadata": {},
   "source": [
    "### Evaluating Model Performance\n",
    "Since there is a large output class imbalance, predicting individual classes and using accuracy does not seem to be an appropriate performance evaluation method. Instead, the model will be using ROC-AUC to evaluate performance. \n",
    "\n",
    "Now that all values in the data have been converted to numerics that a machine learning algorithm can interpret, we can train different models and compare their performance. There are several models we can consider, from KNN, Logistic Regression to ensemble methods (such as Random Forest Decision Tree, Gradient Boosting Decision Tree). \n",
    "\n",
    "The coding cells below show examples of KNN, Random Forest, XGBoost and LGBoost. They were trained with 5-fold cross-validation via implementing the GridSearchCV. By trying different combination of hyperparameters, GridSearchCV will return the optimal model based on the metric: Receiver Operator Characteristic Under the Curve (ROC-AUC). \n",
    "\n",
    "Aside from the Kaggle competition (see section below) using ROC-AUC as the score, the metric is suitable for binary classification problems such as this. ROC curves give us the ability to assess the performance of the classifier over its entire operating range. The most widely-used measure is the area under the curve (AUC). The AUC can be used to compare the performance of two or more classifiers. A single threshold can be selected and the classifiers’ performance at that point compared, or the overall performance can be compared by considering the AUC\". Compared to the F1 score, the ROC does not require optimizing a threshold for each label.\n",
    "\n",
    "There are a number of approaches to deal with class imbalance which have been already explained by numerous blog posts from different experts. This particular [article](https://www.analyticsvidhya.com/blog/2017/03/imbalanced-classification-problem/) from Analytics Vidhya describes the following techniques:\n",
    "\n",
    "1. Random Over-sampling\n",
    "2. Random Under-sampling\n",
    "3. Cluster-Based Over-sampling\n",
    "4. Informed Over Sampling: Synthetic Minority Over-sampling Technique (SMOTE)\n",
    "5. Modified synthetic minority oversampling technique (MSMOTE)\n",
    "\n",
    "The above approaches deals with handling imbalanced data by resampling original data to provide balanced classes. The same article also provides an alternative approach of modifying existing classification algorithms to make them appropriate for imbalanced data sets.\n",
    "\n",
    "1. Bagging-Based\n",
    "2. Boosting-Based\n",
    "3. Adaptive Boosting\n",
    "4. Gradient Tree Boosting\n",
    "5. Extreme Gradient Boosting\n",
    "\n",
    "The last three algorithms will be investigated to determine which is best at modeling the data.\n",
    "\n",
    "\n",
    "Finally, the best-fit model was then validated by the AUC on the test set. By comparing AUC scores of training and testing data, we can determine the optimal hyperparameters of the model. In a senario when the model scores significantly higher on the train set than the test set (overfitting), we can often reduce step size: the learning rate. For tree-based models, we can also reduce the tree depth and the number of base tree, etc."
   ]
  },
  {
   "cell_type": "markdown",
   "metadata": {},
   "source": [
    "### 2.2.1 K-Nearest-Neighbor"
   ]
  },
  {
   "cell_type": "code",
   "execution_count": 6,
   "metadata": {},
   "outputs": [
    {
     "name": "stdout",
     "output_type": "stream",
     "text": [
      "# {'n_neighbors': 500, 'weights': 'uniform'} 0.6526938627055746\n",
      "Trainset  AUC Score:  0.6671747085085327\n",
      "Testset  AUC Score:  0.5875481934404877\n",
      "Training Time: 16.54630379676819 min\n"
     ]
    },
    {
     "data": {
      "image/png": "[encoded data removed]",
      "text/plain": [
       "<Figure size 720x216 with 2 Axes>"
      ]
     },
     "metadata": {},
     "output_type": "display_data"
    },
    {
     "data": {
      "image/png": "[encoded data removed]",
      "text/plain": [
       "<Figure size 720x216 with 2 Axes>"
      ]
     },
     "metadata": {},
     "output_type": "display_data"
    }
   ],
   "source": [
    "param_grid = {\n",
    "    'n_neighbors': [500],\n",
    "    'weights':['uniform'], \n",
    "}\n",
    "\n",
    "estimator = KNeighborsRegressor(n_jobs = 2)\n",
    "best_estimator_KNN, pred_result_KNN, auc_score_KNN, _ = my_gridsearch(estimator = estimator, param_grid = param_grid, \\\n",
    "              X_train = X_train_over.drop(columns = ['LNR', 'Cluster_ID']), y_train = y_train_over, \\\n",
    "              X_test = X_test_cleaned, y_test = y_test)"
   ]
  },
  {
   "cell_type": "markdown",
   "metadata": {},
   "source": [
    "### 2.2.2 Random Forest Decision Tree"
   ]
  },
  {
   "cell_type": "code",
   "execution_count": 7,
   "metadata": {},
   "outputs": [
    {
     "name": "stdout",
     "output_type": "stream",
     "text": [
      "# {'max_depth': 4, 'max_features': 280, 'n_estimators': 210} 0.8326159070674242\n",
      "Trainset  AUC Score:  0.8348486906785795\n",
      "Testset  AUC Score:  0.7368272434828965\n",
      "Training Time: 5.718938672542572 min\n"
     ]
    },
    {
     "data": {
      "image/png": "[encoded data removed]",
      "text/plain": [
       "<Figure size 720x216 with 2 Axes>"
      ]
     },
     "metadata": {},
     "output_type": "display_data"
    },
    {
     "data": {
      "image/png": "[encoded data removed]",
      "text/plain": [
       "<Figure size 720x216 with 2 Axes>"
      ]
     },
     "metadata": {},
     "output_type": "display_data"
    },
    {
     "data": {
      "image/png": "[encoded data removed]",
      "text/plain": [
       "<Figure size 576x576 with 1 Axes>"
      ]
     },
     "metadata": {},
     "output_type": "display_data"
    }
   ],
   "source": [
    "param_grid = {\n",
    "    'max_depth': [4],\n",
    "    'n_estimators':[210], \n",
    "    'max_features':[280]\n",
    "}\n",
    "estimator = RandomForestRegressor(random_state=0, n_jobs = 2)\n",
    "\n",
    "best_estimator_RF, pred_result_RF, auc_score_RF, feature_importances_RF = my_gridsearch(estimator = estimator, param_grid = param_grid, \\\n",
    "              X_train = X_train_over.drop(columns = ['LNR', 'Cluster_ID']), y_train = y_train_over, \\\n",
    "              X_test = X_test_cleaned, y_test = y_test)"
   ]
  },
  {
   "cell_type": "code",
   "execution_count": 8,
   "metadata": {},
   "outputs": [
    {
     "name": "stdout",
     "output_type": "stream",
     "text": [
      "Overall Train Score: 0.8348486906785795, Test: 0.7368272434828965\n"
     ]
    },
    {
     "data": {
      "text/html": [
       "<div>\n",
       "<style scoped>\n",
       "    .dataframe tbody tr th:only-of-type {\n",
       "        vertical-align: middle;\n",
       "    }\n",
       "\n",
       "    .dataframe tbody tr th {\n",
       "        vertical-align: top;\n",
       "    }\n",
       "\n",
       "    .dataframe thead th {\n",
       "        text-align: right;\n",
       "    }\n",
       "</style>\n",
       "<table border=\"1\" class=\"dataframe\">\n",
       "  <thead>\n",
       "    <tr style=\"text-align: right;\">\n",
       "      <th></th>\n",
       "      <th>Cluster_ID</th>\n",
       "      <th>AUC train_x</th>\n",
       "      <th>Train Count: 0_x</th>\n",
       "      <th>Train Count: 1_x</th>\n",
       "      <th>AUC train_y</th>\n",
       "      <th>Train Count: 0_y</th>\n",
       "      <th>Train Count: 1_y</th>\n",
       "    </tr>\n",
       "  </thead>\n",
       "  <tbody>\n",
       "    <tr>\n",
       "      <th>0</th>\n",
       "      <td>0</td>\n",
       "      <td>0.893286</td>\n",
       "      <td>211</td>\n",
       "      <td>211</td>\n",
       "      <td>0.619718</td>\n",
       "      <td>71</td>\n",
       "      <td>1</td>\n",
       "    </tr>\n",
       "    <tr>\n",
       "      <th>1</th>\n",
       "      <td>1</td>\n",
       "      <td>0.825650</td>\n",
       "      <td>470</td>\n",
       "      <td>470</td>\n",
       "      <td>0.641189</td>\n",
       "      <td>157</td>\n",
       "      <td>3</td>\n",
       "    </tr>\n",
       "    <tr>\n",
       "      <th>2</th>\n",
       "      <td>2</td>\n",
       "      <td>0.859720</td>\n",
       "      <td>1939</td>\n",
       "      <td>1939</td>\n",
       "      <td>0.733437</td>\n",
       "      <td>646</td>\n",
       "      <td>5</td>\n",
       "    </tr>\n",
       "    <tr>\n",
       "      <th>3</th>\n",
       "      <td>3</td>\n",
       "      <td>0.808119</td>\n",
       "      <td>6812</td>\n",
       "      <td>6812</td>\n",
       "      <td>0.709618</td>\n",
       "      <td>2271</td>\n",
       "      <td>35</td>\n",
       "    </tr>\n",
       "    <tr>\n",
       "      <th>4</th>\n",
       "      <td>4</td>\n",
       "      <td>0.977740</td>\n",
       "      <td>445</td>\n",
       "      <td>445</td>\n",
       "      <td>0.906040</td>\n",
       "      <td>149</td>\n",
       "      <td>1</td>\n",
       "    </tr>\n",
       "    <tr>\n",
       "      <th>5</th>\n",
       "      <td>5</td>\n",
       "      <td>0.903648</td>\n",
       "      <td>2433</td>\n",
       "      <td>2433</td>\n",
       "      <td>0.695849</td>\n",
       "      <td>811</td>\n",
       "      <td>9</td>\n",
       "    </tr>\n",
       "    <tr>\n",
       "      <th>6</th>\n",
       "      <td>6</td>\n",
       "      <td>0.928646</td>\n",
       "      <td>1927</td>\n",
       "      <td>1927</td>\n",
       "      <td>0.788180</td>\n",
       "      <td>643</td>\n",
       "      <td>5</td>\n",
       "    </tr>\n",
       "    <tr>\n",
       "      <th>7</th>\n",
       "      <td>7</td>\n",
       "      <td>0.898363</td>\n",
       "      <td>4898</td>\n",
       "      <td>4898</td>\n",
       "      <td>0.830435</td>\n",
       "      <td>1633</td>\n",
       "      <td>20</td>\n",
       "    </tr>\n",
       "    <tr>\n",
       "      <th>8</th>\n",
       "      <td>8</td>\n",
       "      <td>0.845309</td>\n",
       "      <td>1462</td>\n",
       "      <td>1462</td>\n",
       "      <td>0.744877</td>\n",
       "      <td>488</td>\n",
       "      <td>6</td>\n",
       "    </tr>\n",
       "    <tr>\n",
       "      <th>9</th>\n",
       "      <td>9</td>\n",
       "      <td>0.843146</td>\n",
       "      <td>5322</td>\n",
       "      <td>5322</td>\n",
       "      <td>0.749346</td>\n",
       "      <td>1774</td>\n",
       "      <td>25</td>\n",
       "    </tr>\n",
       "    <tr>\n",
       "      <th>10</th>\n",
       "      <td>10</td>\n",
       "      <td>0.651123</td>\n",
       "      <td>5900</td>\n",
       "      <td>5900</td>\n",
       "      <td>0.471248</td>\n",
       "      <td>1968</td>\n",
       "      <td>24</td>\n",
       "    </tr>\n",
       "  </tbody>\n",
       "</table>\n",
       "</div>"
      ],
      "text/plain": [
       "    Cluster_ID  AUC train_x  Train Count: 0_x  Train Count: 1_x  AUC train_y  \\\n",
       "0            0     0.893286               211               211     0.619718   \n",
       "1            1     0.825650               470               470     0.641189   \n",
       "2            2     0.859720              1939              1939     0.733437   \n",
       "3            3     0.808119              6812              6812     0.709618   \n",
       "4            4     0.977740               445               445     0.906040   \n",
       "5            5     0.903648              2433              2433     0.695849   \n",
       "6            6     0.928646              1927              1927     0.788180   \n",
       "7            7     0.898363              4898              4898     0.830435   \n",
       "8            8     0.845309              1462              1462     0.744877   \n",
       "9            9     0.843146              5322              5322     0.749346   \n",
       "10          10     0.651123              5900              5900     0.471248   \n",
       "\n",
       "    Train Count: 0_y  Train Count: 1_y  \n",
       "0                 71                 1  \n",
       "1                157                 3  \n",
       "2                646                 5  \n",
       "3               2271                35  \n",
       "4                149                 1  \n",
       "5                811                 9  \n",
       "6                643                 5  \n",
       "7               1633                20  \n",
       "8                488                 6  \n",
       "9               1774                25  \n",
       "10              1968                24  "
      ]
     },
     "execution_count": 8,
     "metadata": {},
     "output_type": "execute_result"
    }
   ],
   "source": [
    "evaluate_models([best_estimator_RF], X_train_over, y_train_over, X_test_cleaned, y_test)"
   ]
  },
  {
   "cell_type": "code",
   "execution_count": 9,
   "metadata": {},
   "outputs": [
    {
     "data": {
      "text/plain": [
       "['savefile/RF_model4.save']"
      ]
     },
     "execution_count": 9,
     "metadata": {},
     "output_type": "execute_result"
    }
   ],
   "source": [
    "model_filename = \"savefile/RF_model4.save\"\n",
    "joblib.dump(best_estimator_RF, model_filename)"
   ]
  },
  {
   "cell_type": "markdown",
   "metadata": {},
   "source": [
    "### 2.2.3 XGBoost"
   ]
  },
  {
   "cell_type": "code",
   "execution_count": 10,
   "metadata": {},
   "outputs": [
    {
     "name": "stdout",
     "output_type": "stream",
     "text": [
      "# {'learning_rate': 0.001, 'max_depth': 3, 'n_estimators': 1500, 'reg_lambda': 0} 0.8182524098657229\n",
      "Trainset  AUC Score:  0.8184993077392881\n",
      "Testset  AUC Score:  0.7561404878350684\n",
      "Training Time: 79.44813861052195 min\n"
     ]
    },
    {
     "data": {
      "image/png": "[encoded data removed]",
      "text/plain": [
       "<Figure size 720x216 with 2 Axes>"
      ]
     },
     "metadata": {},
     "output_type": "display_data"
    },
    {
     "data": {
      "image/png": "[encoded data removed]",
      "text/plain": [
       "<Figure size 720x216 with 2 Axes>"
      ]
     },
     "metadata": {},
     "output_type": "display_data"
    },
    {
     "data": {
      "image/png": "[encoded data removed]",
      "text/plain": [
       "<Figure size 576x576 with 1 Axes>"
      ]
     },
     "metadata": {},
     "output_type": "display_data"
    }
   ],
   "source": [
    "param_grid = {\n",
    "    'n_estimators':[1500],\n",
    "    'max_depth':[3],\n",
    "    'learning_rate': [0.001], \n",
    "    #'reg_alpha': [0.04]\n",
    "    'reg_lambda': [0]\n",
    "}\n",
    "\n",
    "estimator =  XGBRegressor(n_jobs = 2)\n",
    "best_estimator_XGB, pred_result_XGB, auc_score_XGB, feature_importances_XGB = my_gridsearch(estimator = estimator, param_grid = param_grid, \\\n",
    "              X_train = X_train_over.drop(columns = ['LNR', 'Cluster_ID']), y_train = y_train_over, \\\n",
    "              X_test = X_test_cleaned, y_test = y_test)"
   ]
  },
  {
   "cell_type": "code",
   "execution_count": 11,
   "metadata": {},
   "outputs": [
    {
     "name": "stdout",
     "output_type": "stream",
     "text": [
      "Overall Train Score: 0.8184993077392881, Test: 0.7561404878350684\n"
     ]
    },
    {
     "data": {
      "text/html": [
       "<div>\n",
       "<style scoped>\n",
       "    .dataframe tbody tr th:only-of-type {\n",
       "        vertical-align: middle;\n",
       "    }\n",
       "\n",
       "    .dataframe tbody tr th {\n",
       "        vertical-align: top;\n",
       "    }\n",
       "\n",
       "    .dataframe thead th {\n",
       "        text-align: right;\n",
       "    }\n",
       "</style>\n",
       "<table border=\"1\" class=\"dataframe\">\n",
       "  <thead>\n",
       "    <tr style=\"text-align: right;\">\n",
       "      <th></th>\n",
       "      <th>Cluster_ID</th>\n",
       "      <th>AUC train_x</th>\n",
       "      <th>Train Count: 0_x</th>\n",
       "      <th>Train Count: 1_x</th>\n",
       "      <th>AUC train_y</th>\n",
       "      <th>Train Count: 0_y</th>\n",
       "      <th>Train Count: 1_y</th>\n",
       "    </tr>\n",
       "  </thead>\n",
       "  <tbody>\n",
       "    <tr>\n",
       "      <th>0</th>\n",
       "      <td>0</td>\n",
       "      <td>0.836010</td>\n",
       "      <td>211</td>\n",
       "      <td>211</td>\n",
       "      <td>0.549296</td>\n",
       "      <td>71</td>\n",
       "      <td>1</td>\n",
       "    </tr>\n",
       "    <tr>\n",
       "      <th>1</th>\n",
       "      <td>1</td>\n",
       "      <td>0.839638</td>\n",
       "      <td>470</td>\n",
       "      <td>470</td>\n",
       "      <td>0.629512</td>\n",
       "      <td>157</td>\n",
       "      <td>3</td>\n",
       "    </tr>\n",
       "    <tr>\n",
       "      <th>2</th>\n",
       "      <td>2</td>\n",
       "      <td>0.829528</td>\n",
       "      <td>1939</td>\n",
       "      <td>1939</td>\n",
       "      <td>0.704025</td>\n",
       "      <td>646</td>\n",
       "      <td>5</td>\n",
       "    </tr>\n",
       "    <tr>\n",
       "      <th>3</th>\n",
       "      <td>3</td>\n",
       "      <td>0.785407</td>\n",
       "      <td>6812</td>\n",
       "      <td>6812</td>\n",
       "      <td>0.735107</td>\n",
       "      <td>2271</td>\n",
       "      <td>35</td>\n",
       "    </tr>\n",
       "    <tr>\n",
       "      <th>4</th>\n",
       "      <td>4</td>\n",
       "      <td>0.982525</td>\n",
       "      <td>445</td>\n",
       "      <td>445</td>\n",
       "      <td>0.912752</td>\n",
       "      <td>149</td>\n",
       "      <td>1</td>\n",
       "    </tr>\n",
       "    <tr>\n",
       "      <th>5</th>\n",
       "      <td>5</td>\n",
       "      <td>0.884705</td>\n",
       "      <td>2433</td>\n",
       "      <td>2433</td>\n",
       "      <td>0.676326</td>\n",
       "      <td>811</td>\n",
       "      <td>9</td>\n",
       "    </tr>\n",
       "    <tr>\n",
       "      <th>6</th>\n",
       "      <td>6</td>\n",
       "      <td>0.921732</td>\n",
       "      <td>1927</td>\n",
       "      <td>1927</td>\n",
       "      <td>0.787247</td>\n",
       "      <td>643</td>\n",
       "      <td>5</td>\n",
       "    </tr>\n",
       "    <tr>\n",
       "      <th>7</th>\n",
       "      <td>7</td>\n",
       "      <td>0.885970</td>\n",
       "      <td>4898</td>\n",
       "      <td>4898</td>\n",
       "      <td>0.862661</td>\n",
       "      <td>1633</td>\n",
       "      <td>20</td>\n",
       "    </tr>\n",
       "    <tr>\n",
       "      <th>8</th>\n",
       "      <td>8</td>\n",
       "      <td>0.837711</td>\n",
       "      <td>1462</td>\n",
       "      <td>1462</td>\n",
       "      <td>0.761954</td>\n",
       "      <td>488</td>\n",
       "      <td>6</td>\n",
       "    </tr>\n",
       "    <tr>\n",
       "      <th>9</th>\n",
       "      <td>9</td>\n",
       "      <td>0.829039</td>\n",
       "      <td>5322</td>\n",
       "      <td>5322</td>\n",
       "      <td>0.764983</td>\n",
       "      <td>1774</td>\n",
       "      <td>25</td>\n",
       "    </tr>\n",
       "    <tr>\n",
       "      <th>10</th>\n",
       "      <td>10</td>\n",
       "      <td>0.569354</td>\n",
       "      <td>5900</td>\n",
       "      <td>5900</td>\n",
       "      <td>0.526984</td>\n",
       "      <td>1968</td>\n",
       "      <td>24</td>\n",
       "    </tr>\n",
       "  </tbody>\n",
       "</table>\n",
       "</div>"
      ],
      "text/plain": [
       "    Cluster_ID  AUC train_x  Train Count: 0_x  Train Count: 1_x  AUC train_y  \\\n",
       "0            0     0.836010               211               211     0.549296   \n",
       "1            1     0.839638               470               470     0.629512   \n",
       "2            2     0.829528              1939              1939     0.704025   \n",
       "3            3     0.785407              6812              6812     0.735107   \n",
       "4            4     0.982525               445               445     0.912752   \n",
       "5            5     0.884705              2433              2433     0.676326   \n",
       "6            6     0.921732              1927              1927     0.787247   \n",
       "7            7     0.885970              4898              4898     0.862661   \n",
       "8            8     0.837711              1462              1462     0.761954   \n",
       "9            9     0.829039              5322              5322     0.764983   \n",
       "10          10     0.569354              5900              5900     0.526984   \n",
       "\n",
       "    Train Count: 0_y  Train Count: 1_y  \n",
       "0                 71                 1  \n",
       "1                157                 3  \n",
       "2                646                 5  \n",
       "3               2271                35  \n",
       "4                149                 1  \n",
       "5                811                 9  \n",
       "6                643                 5  \n",
       "7               1633                20  \n",
       "8                488                 6  \n",
       "9               1774                25  \n",
       "10              1968                24  "
      ]
     },
     "execution_count": 11,
     "metadata": {},
     "output_type": "execute_result"
    }
   ],
   "source": [
    "evaluate_models([best_estimator_XGB], X_train_over, y_train_over, X_test_cleaned, y_test)"
   ]
  },
  {
   "cell_type": "code",
   "execution_count": 12,
   "metadata": {},
   "outputs": [
    {
     "data": {
      "text/plain": [
       "['savefile/XGB_model4.save']"
      ]
     },
     "execution_count": 12,
     "metadata": {},
     "output_type": "execute_result"
    }
   ],
   "source": [
    "model_filename = \"savefile/XGB_model4.save\"\n",
    "joblib.dump(best_estimator_XGB, model_filename)"
   ]
  },
  {
   "cell_type": "markdown",
   "metadata": {},
   "source": [
    "### 2.2.4 LGBM"
   ]
  },
  {
   "cell_type": "code",
   "execution_count": 13,
   "metadata": {},
   "outputs": [
    {
     "name": "stdout",
     "output_type": "stream",
     "text": [
      "# {'learning_rate': 0.001, 'max_depth': 3, 'n_estimators': 2000} 0.8260095132334396\n",
      "Trainset  AUC Score:  0.8270406328246769\n",
      "Testset  AUC Score:  0.7603862930189313\n",
      "Training Time: 5.9812637646993005 min\n"
     ]
    },
    {
     "data": {
      "image/png": "[encoded data removed]",
      "text/plain": [
       "<Figure size 720x216 with 2 Axes>"
      ]
     },
     "metadata": {},
     "output_type": "display_data"
    },
    {
     "data": {
      "image/png": "[encoded data removed]",
      "text/plain": [
       "<Figure size 720x216 with 2 Axes>"
      ]
     },
     "metadata": {},
     "output_type": "display_data"
    },
    {
     "data": {
      "image/png": "[encoded data removed]",
      "text/plain": [
       "<Figure size 576x576 with 1 Axes>"
      ]
     },
     "metadata": {},
     "output_type": "display_data"
    }
   ],
   "source": [
    "param_grid = {\n",
    "              #'max_bin': [5],\n",
    "              #'num_leaves': [4],\n",
    "              'learning_rate' : [0.001],\n",
    "              'max_depth': [3],\n",
    "              'n_estimators' : [2000] \n",
    "             }\n",
    "estimator = LGBMRegressor(n_jobs =2, random_state=0)\n",
    "best_estimator_LGB, pred_result_LGB, auc_score_LGB, feature_importances_LGB = my_gridsearch(estimator = estimator, param_grid = param_grid, \\\n",
    "              X_train = X_train_over.drop(columns = ['LNR', 'Cluster_ID']), y_train = y_train_over, \\\n",
    "              X_test = X_test_cleaned, y_test = y_test)"
   ]
  },
  {
   "cell_type": "code",
   "execution_count": 14,
   "metadata": {},
   "outputs": [
    {
     "name": "stdout",
     "output_type": "stream",
     "text": [
      "Overall Train Score: 0.8270406328246769, Test: 0.7603862930189313\n"
     ]
    },
    {
     "data": {
      "text/html": [
       "<div>\n",
       "<style scoped>\n",
       "    .dataframe tbody tr th:only-of-type {\n",
       "        vertical-align: middle;\n",
       "    }\n",
       "\n",
       "    .dataframe tbody tr th {\n",
       "        vertical-align: top;\n",
       "    }\n",
       "\n",
       "    .dataframe thead th {\n",
       "        text-align: right;\n",
       "    }\n",
       "</style>\n",
       "<table border=\"1\" class=\"dataframe\">\n",
       "  <thead>\n",
       "    <tr style=\"text-align: right;\">\n",
       "      <th></th>\n",
       "      <th>Cluster_ID</th>\n",
       "      <th>AUC train_x</th>\n",
       "      <th>Train Count: 0_x</th>\n",
       "      <th>Train Count: 1_x</th>\n",
       "      <th>AUC train_y</th>\n",
       "      <th>Train Count: 0_y</th>\n",
       "      <th>Train Count: 1_y</th>\n",
       "    </tr>\n",
       "  </thead>\n",
       "  <tbody>\n",
       "    <tr>\n",
       "      <th>0</th>\n",
       "      <td>0</td>\n",
       "      <td>0.861616</td>\n",
       "      <td>211</td>\n",
       "      <td>211</td>\n",
       "      <td>0.478873</td>\n",
       "      <td>71</td>\n",
       "      <td>1</td>\n",
       "    </tr>\n",
       "    <tr>\n",
       "      <th>1</th>\n",
       "      <td>1</td>\n",
       "      <td>0.856555</td>\n",
       "      <td>470</td>\n",
       "      <td>470</td>\n",
       "      <td>0.619958</td>\n",
       "      <td>157</td>\n",
       "      <td>3</td>\n",
       "    </tr>\n",
       "    <tr>\n",
       "      <th>2</th>\n",
       "      <td>2</td>\n",
       "      <td>0.845051</td>\n",
       "      <td>1939</td>\n",
       "      <td>1939</td>\n",
       "      <td>0.709598</td>\n",
       "      <td>646</td>\n",
       "      <td>5</td>\n",
       "    </tr>\n",
       "    <tr>\n",
       "      <th>3</th>\n",
       "      <td>3</td>\n",
       "      <td>0.805944</td>\n",
       "      <td>6812</td>\n",
       "      <td>6812</td>\n",
       "      <td>0.748456</td>\n",
       "      <td>2271</td>\n",
       "      <td>35</td>\n",
       "    </tr>\n",
       "    <tr>\n",
       "      <th>4</th>\n",
       "      <td>4</td>\n",
       "      <td>0.982598</td>\n",
       "      <td>445</td>\n",
       "      <td>445</td>\n",
       "      <td>0.919463</td>\n",
       "      <td>149</td>\n",
       "      <td>1</td>\n",
       "    </tr>\n",
       "    <tr>\n",
       "      <th>5</th>\n",
       "      <td>5</td>\n",
       "      <td>0.896526</td>\n",
       "      <td>2433</td>\n",
       "      <td>2433</td>\n",
       "      <td>0.671051</td>\n",
       "      <td>811</td>\n",
       "      <td>9</td>\n",
       "    </tr>\n",
       "    <tr>\n",
       "      <th>6</th>\n",
       "      <td>6</td>\n",
       "      <td>0.926856</td>\n",
       "      <td>1927</td>\n",
       "      <td>1927</td>\n",
       "      <td>0.784292</td>\n",
       "      <td>643</td>\n",
       "      <td>5</td>\n",
       "    </tr>\n",
       "    <tr>\n",
       "      <th>7</th>\n",
       "      <td>7</td>\n",
       "      <td>0.893111</td>\n",
       "      <td>4898</td>\n",
       "      <td>4898</td>\n",
       "      <td>0.873347</td>\n",
       "      <td>1633</td>\n",
       "      <td>20</td>\n",
       "    </tr>\n",
       "    <tr>\n",
       "      <th>8</th>\n",
       "      <td>8</td>\n",
       "      <td>0.859256</td>\n",
       "      <td>1462</td>\n",
       "      <td>1462</td>\n",
       "      <td>0.788934</td>\n",
       "      <td>488</td>\n",
       "      <td>6</td>\n",
       "    </tr>\n",
       "    <tr>\n",
       "      <th>9</th>\n",
       "      <td>9</td>\n",
       "      <td>0.838938</td>\n",
       "      <td>5322</td>\n",
       "      <td>5322</td>\n",
       "      <td>0.771499</td>\n",
       "      <td>1774</td>\n",
       "      <td>25</td>\n",
       "    </tr>\n",
       "    <tr>\n",
       "      <th>10</th>\n",
       "      <td>10</td>\n",
       "      <td>0.580030</td>\n",
       "      <td>5900</td>\n",
       "      <td>5900</td>\n",
       "      <td>0.526486</td>\n",
       "      <td>1968</td>\n",
       "      <td>24</td>\n",
       "    </tr>\n",
       "  </tbody>\n",
       "</table>\n",
       "</div>"
      ],
      "text/plain": [
       "    Cluster_ID  AUC train_x  Train Count: 0_x  Train Count: 1_x  AUC train_y  \\\n",
       "0            0     0.861616               211               211     0.478873   \n",
       "1            1     0.856555               470               470     0.619958   \n",
       "2            2     0.845051              1939              1939     0.709598   \n",
       "3            3     0.805944              6812              6812     0.748456   \n",
       "4            4     0.982598               445               445     0.919463   \n",
       "5            5     0.896526              2433              2433     0.671051   \n",
       "6            6     0.926856              1927              1927     0.784292   \n",
       "7            7     0.893111              4898              4898     0.873347   \n",
       "8            8     0.859256              1462              1462     0.788934   \n",
       "9            9     0.838938              5322              5322     0.771499   \n",
       "10          10     0.580030              5900              5900     0.526486   \n",
       "\n",
       "    Train Count: 0_y  Train Count: 1_y  \n",
       "0                 71                 1  \n",
       "1                157                 3  \n",
       "2                646                 5  \n",
       "3               2271                35  \n",
       "4                149                 1  \n",
       "5                811                 9  \n",
       "6                643                 5  \n",
       "7               1633                20  \n",
       "8                488                 6  \n",
       "9               1774                25  \n",
       "10              1968                24  "
      ]
     },
     "execution_count": 14,
     "metadata": {},
     "output_type": "execute_result"
    },
    {
     "data": {
      "image/png": "[encoded data removed]",
      "text/plain": [
       "<Figure size 576x144 with 2 Axes>"
      ]
     },
     "metadata": {},
     "output_type": "display_data"
    },
    {
     "data": {
      "image/png": "[encoded data removed]",
      "text/plain": [
       "<Figure size 576x144 with 2 Axes>"
      ]
     },
     "metadata": {},
     "output_type": "display_data"
    },
    {
     "data": {
      "image/png": "[encoded data removed]",
      "text/plain": [
       "<Figure size 576x144 with 2 Axes>"
      ]
     },
     "metadata": {},
     "output_type": "display_data"
    },
    {
     "data": {
      "image/png": "[encoded data removed]",
      "text/plain": [
       "<Figure size 576x144 with 2 Axes>"
      ]
     },
     "metadata": {},
     "output_type": "display_data"
    },
    {
     "data": {
      "image/png": "[encoded data removed]",
      "text/plain": [
       "<Figure size 576x144 with 2 Axes>"
      ]
     },
     "metadata": {},
     "output_type": "display_data"
    },
    {
     "data": {
      "image/png": "[encoded data removed]",
      "text/plain": [
       "<Figure size 576x144 with 2 Axes>"
      ]
     },
     "metadata": {},
     "output_type": "display_data"
    },
    {
     "data": {
      "image/png": "[encoded data removed]",
      "text/plain": [
       "<Figure size 576x144 with 2 Axes>"
      ]
     },
     "metadata": {},
     "output_type": "display_data"
    },
    {
     "data": {
      "image/png": "[encoded data removed]",
      "text/plain": [
       "<Figure size 576x144 with 2 Axes>"
      ]
     },
     "metadata": {},
     "output_type": "display_data"
    },
    {
     "data": {
      "image/png": "[encoded data removed]",
      "text/plain": [
       "<Figure size 576x144 with 2 Axes>"
      ]
     },
     "metadata": {},
     "output_type": "display_data"
    },
    {
     "data": {
      "image/png": "[encoded data removed]",
      "text/plain": [
       "<Figure size 576x144 with 2 Axes>"
      ]
     },
     "metadata": {},
     "output_type": "display_data"
    },
    {
     "data": {
      "image/png": "[encoded data removed]",
      "text/plain": [
       "<Figure size 576x144 with 2 Axes>"
      ]
     },
     "metadata": {},
     "output_type": "display_data"
    }
   ],
   "source": [
    "evaluate_models([best_estimator_LGB], X_train_over, y_train_over, X_test_cleaned, y_test, plot_train = True)"
   ]
  },
  {
   "cell_type": "code",
   "execution_count": 15,
   "metadata": {},
   "outputs": [
    {
     "data": {
      "text/plain": [
       "['savefile/LGB_model4.save']"
      ]
     },
     "execution_count": 15,
     "metadata": {},
     "output_type": "execute_result"
    }
   ],
   "source": [
    "model_filename = \"savefile/LGB_model4.save\"\n",
    "joblib.dump(best_estimator_LGB, model_filename)"
   ]
  },
  {
   "cell_type": "markdown",
   "metadata": {},
   "source": [
    "### Discussion"
   ]
  },
  {
   "cell_type": "markdown",
   "metadata": {},
   "source": [
    "The first 2x2 figures in each model show the histograms of predicted probabilities for each class: without response (left panel) and with response (right panel). The top two panels correspond to the train set, and the bottom two panels to the test set. \n",
    "\n",
    "Ideally, we would like to have a classifier with 100% AUC, which corresponds to all true negative (no response) falls on 0-bucket in the left panel, and all true positive (response) falls on the 1-bucket in the right panel. A worse classifier corresponds to the scenario that the distribution of true positive and true negative are inseparable, which can be illustrated by the KNN result, with only about 67% AUC on the train set and 57% on the test set.\n",
    "\n",
    "Overall, XGBoost or LGBM algorithms show the best performance with very similar AUC scores, the computation time of LGBM is significantly faster than XGBoost. In my case, I have chosen LGBM for the convenience of tuning the hyperparameters. \n",
    "\n",
    "The second figures in each model show features based on top-ranked feature importance. All three tree-base algorithms have sucessfully foudn that **D19_SOZIALES** is the most important features to classify the samples.\n",
    "\n",
    "The tables just below show more details about the AUC scores on the trainset (Column **AUC train_x**) and testset (Column **AUC train_y**). Each row responds to the AUC scores on the corresponding cluster, ordered in Cluster 0-10. Columns **Train Count: 1_x** and **Train Count: 0_x** show the total count of sample with/without response in the trainset. Similarily, **Train Count: 1_y** and **Train Count: 0_y** are the sample counts in the testset.\n",
    "\n",
    "Note that a marginal difference in AUC between the trainset and testset may not suggest under/over-fitting, since there is not enough statstics to learn from. This is especially true in the case of Cluster 0, and 2. However, cluster 6, 7 and 10 are somehow worthwhile to look at.\n",
    "\n",
    "We can decompose the distribution of true positive and negative into different clusters, as shown in the figure just below the table in the code cell **Line 27** (scroll down in the box). Notice that Cluster 10 has only about 50-60% AUC, which can be visualized here. Most samples of true positive and negative are almost inseparable, spiking near 0.5 of predicted probability on the x-axis, which is responsible for the spike near 0.5 in the all-cluster distribution. The poor AUC in Cluster 10 is very likely due to limited amount of features we can use for prediction (recall that Cluster 10 corresponds to high row-missing data).  "
   ]
  },
  {
   "cell_type": "markdown",
   "metadata": {},
   "source": [
    "## Part 3: Kaggle Competition\n",
    "\n",
    "Now that you've created a model to predict which individuals are most likely to respond to a mailout campaign, it's time to test that model in competition through Kaggle. If you click on the link [here](http://www.kaggle.com/t/21e6d45d4c574c7fa2d868f0e8c83140), you'll be taken to the competition page where, if you have a Kaggle account, you can enter. If you're one of the top performers, you may have the chance to be contacted by a hiring manager from Arvato or Bertelsmann for an interview!\n",
    "\n",
    "Your entry to the competition should be a CSV file with two columns. The first column should be a copy of \"LNR\", which acts as an ID number for each individual in the \"TEST\" partition. The second column, \"RESPONSE\", should be some measure of how likely each individual became a customer – this might not be a straightforward probability. As you should have found in Part 2, there is a large output class imbalance, where most individuals did not respond to the mailout. Thus, predicting individual classes and using accuracy does not seem to be an appropriate performance evaluation method. Instead, the competition will be using AUC to evaluate performance. The exact values of the \"RESPONSE\" column do not matter as much: only that the higher values try to capture as many of the actual customers as possible, early in the ROC curve sweep."
   ]
  },
  {
   "cell_type": "markdown",
   "metadata": {},
   "source": [
    "## 3.1 Ensembling the models"
   ]
  },
  {
   "cell_type": "markdown",
   "metadata": {},
   "source": [
    "### 3.1.1 Model Ensembles"
   ]
  },
  {
   "cell_type": "markdown",
   "metadata": {},
   "source": [
    "Now that we have trained different models, it is a good idea to combine them by averaging their predicted probabilities. The table below shows that the corresponding AUCs based on the three algorithms: Random Forest, XGBoost and LGBM. Overall, combining these models as an ensemble seems to slightly improve the training and testing AUCs. "
   ]
  },
  {
   "cell_type": "code",
   "execution_count": 17,
   "metadata": {},
   "outputs": [],
   "source": [
    "# load supervised-learning models from step 2.2\n",
    "best_estimator_RF = joblib.load(\"savefile/RF_model4.save\")\n",
    "best_estimator_XGB = joblib.load(\"savefile/XGB_model4.save\")\n",
    "# general predictor\n",
    "best_estimator_LGB = joblib.load(\"savefile/LGB_model4.save\")"
   ]
  },
  {
   "cell_type": "code",
   "execution_count": 18,
   "metadata": {},
   "outputs": [
    {
     "name": "stdout",
     "output_type": "stream",
     "text": [
      "Overall Train Score: 0.8345917339712167, Test: 0.7517350341872767\n"
     ]
    },
    {
     "data": {
      "text/html": [
       "<div>\n",
       "<style scoped>\n",
       "    .dataframe tbody tr th:only-of-type {\n",
       "        vertical-align: middle;\n",
       "    }\n",
       "\n",
       "    .dataframe tbody tr th {\n",
       "        vertical-align: top;\n",
       "    }\n",
       "\n",
       "    .dataframe thead th {\n",
       "        text-align: right;\n",
       "    }\n",
       "</style>\n",
       "<table border=\"1\" class=\"dataframe\">\n",
       "  <thead>\n",
       "    <tr style=\"text-align: right;\">\n",
       "      <th></th>\n",
       "      <th>Cluster_ID</th>\n",
       "      <th>AUC train_x</th>\n",
       "      <th>Train Count: 0_x</th>\n",
       "      <th>Train Count: 1_x</th>\n",
       "      <th>AUC train_y</th>\n",
       "      <th>Train Count: 0_y</th>\n",
       "      <th>Train Count: 1_y</th>\n",
       "    </tr>\n",
       "  </thead>\n",
       "  <tbody>\n",
       "    <tr>\n",
       "      <th>0</th>\n",
       "      <td>0</td>\n",
       "      <td>0.882123</td>\n",
       "      <td>211</td>\n",
       "      <td>211</td>\n",
       "      <td>0.577465</td>\n",
       "      <td>71</td>\n",
       "      <td>1</td>\n",
       "    </tr>\n",
       "    <tr>\n",
       "      <th>1</th>\n",
       "      <td>1</td>\n",
       "      <td>0.856510</td>\n",
       "      <td>470</td>\n",
       "      <td>470</td>\n",
       "      <td>0.617834</td>\n",
       "      <td>157</td>\n",
       "      <td>3</td>\n",
       "    </tr>\n",
       "    <tr>\n",
       "      <th>2</th>\n",
       "      <td>2</td>\n",
       "      <td>0.848460</td>\n",
       "      <td>1939</td>\n",
       "      <td>1939</td>\n",
       "      <td>0.715789</td>\n",
       "      <td>646</td>\n",
       "      <td>5</td>\n",
       "    </tr>\n",
       "    <tr>\n",
       "      <th>3</th>\n",
       "      <td>3</td>\n",
       "      <td>0.807335</td>\n",
       "      <td>6812</td>\n",
       "      <td>6812</td>\n",
       "      <td>0.720551</td>\n",
       "      <td>2271</td>\n",
       "      <td>35</td>\n",
       "    </tr>\n",
       "    <tr>\n",
       "      <th>4</th>\n",
       "      <td>4</td>\n",
       "      <td>0.980533</td>\n",
       "      <td>445</td>\n",
       "      <td>445</td>\n",
       "      <td>0.912752</td>\n",
       "      <td>149</td>\n",
       "      <td>1</td>\n",
       "    </tr>\n",
       "    <tr>\n",
       "      <th>5</th>\n",
       "      <td>5</td>\n",
       "      <td>0.900494</td>\n",
       "      <td>2433</td>\n",
       "      <td>2433</td>\n",
       "      <td>0.673654</td>\n",
       "      <td>811</td>\n",
       "      <td>9</td>\n",
       "    </tr>\n",
       "    <tr>\n",
       "      <th>6</th>\n",
       "      <td>6</td>\n",
       "      <td>0.931718</td>\n",
       "      <td>1927</td>\n",
       "      <td>1927</td>\n",
       "      <td>0.786003</td>\n",
       "      <td>643</td>\n",
       "      <td>5</td>\n",
       "    </tr>\n",
       "    <tr>\n",
       "      <th>7</th>\n",
       "      <td>7</td>\n",
       "      <td>0.899462</td>\n",
       "      <td>4898</td>\n",
       "      <td>4898</td>\n",
       "      <td>0.850857</td>\n",
       "      <td>1633</td>\n",
       "      <td>20</td>\n",
       "    </tr>\n",
       "    <tr>\n",
       "      <th>8</th>\n",
       "      <td>8</td>\n",
       "      <td>0.859063</td>\n",
       "      <td>1462</td>\n",
       "      <td>1462</td>\n",
       "      <td>0.768784</td>\n",
       "      <td>488</td>\n",
       "      <td>6</td>\n",
       "    </tr>\n",
       "    <tr>\n",
       "      <th>9</th>\n",
       "      <td>9</td>\n",
       "      <td>0.841647</td>\n",
       "      <td>5322</td>\n",
       "      <td>5322</td>\n",
       "      <td>0.761556</td>\n",
       "      <td>1774</td>\n",
       "      <td>25</td>\n",
       "    </tr>\n",
       "    <tr>\n",
       "      <th>10</th>\n",
       "      <td>10</td>\n",
       "      <td>0.644152</td>\n",
       "      <td>5900</td>\n",
       "      <td>5900</td>\n",
       "      <td>0.487265</td>\n",
       "      <td>1968</td>\n",
       "      <td>24</td>\n",
       "    </tr>\n",
       "  </tbody>\n",
       "</table>\n",
       "</div>"
      ],
      "text/plain": [
       "    Cluster_ID  AUC train_x  Train Count: 0_x  Train Count: 1_x  AUC train_y  \\\n",
       "0            0     0.882123               211               211     0.577465   \n",
       "1            1     0.856510               470               470     0.617834   \n",
       "2            2     0.848460              1939              1939     0.715789   \n",
       "3            3     0.807335              6812              6812     0.720551   \n",
       "4            4     0.980533               445               445     0.912752   \n",
       "5            5     0.900494              2433              2433     0.673654   \n",
       "6            6     0.931718              1927              1927     0.786003   \n",
       "7            7     0.899462              4898              4898     0.850857   \n",
       "8            8     0.859063              1462              1462     0.768784   \n",
       "9            9     0.841647              5322              5322     0.761556   \n",
       "10          10     0.644152              5900              5900     0.487265   \n",
       "\n",
       "    Train Count: 0_y  Train Count: 1_y  \n",
       "0                 71                 1  \n",
       "1                157                 3  \n",
       "2                646                 5  \n",
       "3               2271                35  \n",
       "4                149                 1  \n",
       "5                811                 9  \n",
       "6                643                 5  \n",
       "7               1633                20  \n",
       "8                488                 6  \n",
       "9               1774                25  \n",
       "10              1968                24  "
      ]
     },
     "execution_count": 18,
     "metadata": {},
     "output_type": "execute_result"
    },
    {
     "data": {
      "image/png": "[encoded data removed]",
      "text/plain": [
       "<Figure size 576x144 with 2 Axes>"
      ]
     },
     "metadata": {},
     "output_type": "display_data"
    },
    {
     "data": {
      "image/png": "[encoded data removed]",
      "text/plain": [
       "<Figure size 576x144 with 2 Axes>"
      ]
     },
     "metadata": {},
     "output_type": "display_data"
    },
    {
     "data": {
      "image/png": "[encoded data removed]",
      "text/plain": [
       "<Figure size 576x144 with 2 Axes>"
      ]
     },
     "metadata": {},
     "output_type": "display_data"
    },
    {
     "data": {
      "image/png": "[encoded data removed]",
      "text/plain": [
       "<Figure size 576x144 with 2 Axes>"
      ]
     },
     "metadata": {},
     "output_type": "display_data"
    },
    {
     "data": {
      "image/png": "[encoded data removed]",
      "text/plain": [
       "<Figure size 576x144 with 2 Axes>"
      ]
     },
     "metadata": {},
     "output_type": "display_data"
    },
    {
     "data": {
      "image/png": "[encoded data removed]",
      "text/plain": [
       "<Figure size 576x144 with 2 Axes>"
      ]
     },
     "metadata": {},
     "output_type": "display_data"
    },
    {
     "data": {
      "image/png": "[encoded data removed]",
      "text/plain": [
       "<Figure size 576x144 with 2 Axes>"
      ]
     },
     "metadata": {},
     "output_type": "display_data"
    },
    {
     "data": {
      "image/png": "[encoded data removed]",
      "text/plain": [
       "<Figure size 576x144 with 2 Axes>"
      ]
     },
     "metadata": {},
     "output_type": "display_data"
    },
    {
     "data": {
      "image/png": "[encoded data removed]",
      "text/plain": [
       "<Figure size 576x144 with 2 Axes>"
      ]
     },
     "metadata": {},
     "output_type": "display_data"
    },
    {
     "data": {
      "image/png": "[encoded data removed]",
      "text/plain": [
       "<Figure size 576x144 with 2 Axes>"
      ]
     },
     "metadata": {},
     "output_type": "display_data"
    },
    {
     "data": {
      "image/png": "[encoded data removed]",
      "text/plain": [
       "<Figure size 576x144 with 2 Axes>"
      ]
     },
     "metadata": {},
     "output_type": "display_data"
    }
   ],
   "source": [
    "# combine average predictions by model ensembles\n",
    "evaluate_models([best_estimator_RF, best_estimator_XGB, best_estimator_LGB], X_train_over, y_train_over, X_test_cleaned, y_test, plot_train = True)"
   ]
  },
  {
   "cell_type": "markdown",
   "metadata": {},
   "source": [
    "### 3.1.2 Aggregating by Clusters"
   ]
  },
  {
   "cell_type": "markdown",
   "metadata": {},
   "source": [
    "Another way to improve the AUC socre is by aggregating multiple cluster-based classifiers to the general classifier. Specifically speaking, we can train one classifier focusing on each specific cluster, and improve the corresponding AUC scores. The final probabilities are the average of the probabilities of the cluster classifier and the general classifier on the corresponding cluster. \n",
    "\n",
    "The cells below show an example of training a classifier only for cluster-6 customer data, which consists of 26% of all clusters. After training, I obtained AUC scores of 0.8192 and 0.7705 on the trainset and testset, compared to AUC scores of 0.8177 and 0.7181 of a general classifier (see Part 2.2.4 LGBM table, cluster 6), which is an significant improvement on the testset.\n",
    "\n",
    "Note that the ranked features are also different from the features of a general classifers. For cluster-6 group, GEBAEUDETYP (building type) is the secondary important feature."
   ]
  },
  {
   "cell_type": "code",
   "execution_count": 19,
   "metadata": {},
   "outputs": [],
   "source": [
    "# create a Cluster-6 subset  \n",
    "Cluster_ID = 6\n",
    "X_train_subset = X_train_over[X_train_over.Cluster_ID == Cluster_ID]\n",
    "y_train_subset = y_train_over[X_train_over.Cluster_ID == Cluster_ID]\n",
    "X_test_subset = X_test_cleaned[X_test_cleaned.Cluster_ID == Cluster_ID]\n",
    "y_test_subset = y_test[X_test_cleaned.Cluster_ID == Cluster_ID]"
   ]
  },
  {
   "cell_type": "code",
   "execution_count": 20,
   "metadata": {},
   "outputs": [],
   "source": [
    "# set LGBM hyperparameters\n",
    "param_grid = {\n",
    "              #'max_bin': [5],\n",
    "              #'num_leaves': [4],\n",
    "              'learning_rate' : [0.0005],\n",
    "              'max_depth': [3],\n",
    "              'n_estimators' : [800]\n",
    "             }\n",
    "\n",
    "estimator = LGBMRegressor(n_jobs =2, random_state=0)"
   ]
  },
  {
   "cell_type": "code",
   "execution_count": 21,
   "metadata": {},
   "outputs": [
    {
     "name": "stdout",
     "output_type": "stream",
     "text": [
      "# {'learning_rate': 0.0005, 'max_depth': 3, 'n_estimators': 800} 0.9860596747715258\n",
      "Trainset  AUC Score:  0.9882151568040429\n",
      "Testset  AUC Score:  0.5771384136858476\n",
      "Training Time: 0.13832991123199462 min\n"
     ]
    },
    {
     "data": {
      "image/png": "[encoded data removed]",
      "text/plain": [
       "<Figure size 720x216 with 2 Axes>"
      ]
     },
     "metadata": {},
     "output_type": "display_data"
    },
    {
     "data": {
      "image/png": "[encoded data removed]",
      "text/plain": [
       "<Figure size 720x216 with 2 Axes>"
      ]
     },
     "metadata": {},
     "output_type": "display_data"
    },
    {
     "data": {
      "image/png": "[encoded data removed]",
      "text/plain": [
       "<Figure size 576x576 with 1 Axes>"
      ]
     },
     "metadata": {},
     "output_type": "display_data"
    }
   ],
   "source": [
    "best_estimator_cluster6, pred_result_cluster6, \\\n",
    "    auc_score_cluster6, feature_importances_cluster6 = \\\n",
    "              my_gridsearch(estimator = estimator, param_grid = param_grid, \\\n",
    "              X_train = X_train_subset.drop(columns = ['LNR', 'Cluster_ID']), y_train = y_train_subset, \\\n",
    "              X_test = X_test_subset, y_test = y_test_subset, cv = 2)"
   ]
  },
  {
   "cell_type": "markdown",
   "metadata": {},
   "source": [
    "The cells below show an example of combining the trained cluster-6 classifier with the general classifier of LGBM model (obtained from Part 2.2.4). Overall, due to the improvement on cluster 6, the AUC score of all clusters on the trainset has been slightly improved from 0.82165553907 (General  AUC Score) to 0.826072236163 (General_Cluster AUC Score), and the AUC score on the testset from 0.762487041749 to 0.766504275344.\n",
    "\n",
    "(The tables below the cells show general statistics of Cluster 6 before (column: LGB) and after (column: General_Cluster) adding a cluster classifier.)\n",
    "\n",
    "\n"
   ]
  },
  {
   "cell_type": "markdown",
   "metadata": {},
   "source": [
    "### Comparison of AUCs before and after the Cluster Augmentation on Trainset"
   ]
  },
  {
   "cell_type": "code",
   "execution_count": 22,
   "metadata": {},
   "outputs": [
    {
     "name": "stdout",
     "output_type": "stream",
     "text": [
      "General  AUC Score:  0.8270406328246769\n",
      "General_Cluster AUC Score:  0.8320342060253656\n"
     ]
    },
    {
     "data": {
      "text/html": [
       "<div>\n",
       "<style scoped>\n",
       "    .dataframe tbody tr th:only-of-type {\n",
       "        vertical-align: middle;\n",
       "    }\n",
       "\n",
       "    .dataframe tbody tr th {\n",
       "        vertical-align: top;\n",
       "    }\n",
       "\n",
       "    .dataframe thead th {\n",
       "        text-align: right;\n",
       "    }\n",
       "</style>\n",
       "<table border=\"1\" class=\"dataframe\">\n",
       "  <thead>\n",
       "    <tr style=\"text-align: right;\">\n",
       "      <th></th>\n",
       "      <th>LNR</th>\n",
       "      <th>RESPONSE</th>\n",
       "      <th>Cluster_ID</th>\n",
       "      <th>LGB</th>\n",
       "      <th>Average</th>\n",
       "      <th>Cluster_Align</th>\n",
       "      <th>General_Cluster</th>\n",
       "    </tr>\n",
       "  </thead>\n",
       "  <tbody>\n",
       "    <tr>\n",
       "      <th>count</th>\n",
       "      <td>63638.000000</td>\n",
       "      <td>63638.000000</td>\n",
       "      <td>63638.000000</td>\n",
       "      <td>63638.000000</td>\n",
       "      <td>63638.000000</td>\n",
       "      <td>63638.000000</td>\n",
       "      <td>63638.000000</td>\n",
       "    </tr>\n",
       "    <tr>\n",
       "      <th>mean</th>\n",
       "      <td>41883.468447</td>\n",
       "      <td>0.500000</td>\n",
       "      <td>6.385210</td>\n",
       "      <td>0.500000</td>\n",
       "      <td>0.500000</td>\n",
       "      <td>0.500000</td>\n",
       "      <td>0.500000</td>\n",
       "    </tr>\n",
       "    <tr>\n",
       "      <th>std</th>\n",
       "      <td>24691.440078</td>\n",
       "      <td>0.500004</td>\n",
       "      <td>2.881626</td>\n",
       "      <td>0.202113</td>\n",
       "      <td>0.202113</td>\n",
       "      <td>0.202113</td>\n",
       "      <td>0.201063</td>\n",
       "    </tr>\n",
       "    <tr>\n",
       "      <th>min</th>\n",
       "      <td>1.000000</td>\n",
       "      <td>0.000000</td>\n",
       "      <td>0.000000</td>\n",
       "      <td>0.019964</td>\n",
       "      <td>0.019964</td>\n",
       "      <td>0.019964</td>\n",
       "      <td>0.019964</td>\n",
       "    </tr>\n",
       "    <tr>\n",
       "      <th>25%</th>\n",
       "      <td>20316.000000</td>\n",
       "      <td>0.000000</td>\n",
       "      <td>3.000000</td>\n",
       "      <td>0.283115</td>\n",
       "      <td>0.283115</td>\n",
       "      <td>0.283115</td>\n",
       "      <td>0.283449</td>\n",
       "    </tr>\n",
       "    <tr>\n",
       "      <th>50%</th>\n",
       "      <td>41689.500000</td>\n",
       "      <td>0.500000</td>\n",
       "      <td>7.000000</td>\n",
       "      <td>0.508763</td>\n",
       "      <td>0.508763</td>\n",
       "      <td>0.508763</td>\n",
       "      <td>0.508763</td>\n",
       "    </tr>\n",
       "    <tr>\n",
       "      <th>75%</th>\n",
       "      <td>63109.000000</td>\n",
       "      <td>1.000000</td>\n",
       "      <td>9.000000</td>\n",
       "      <td>0.695217</td>\n",
       "      <td>0.695217</td>\n",
       "      <td>0.691570</td>\n",
       "      <td>0.693552</td>\n",
       "    </tr>\n",
       "    <tr>\n",
       "      <th>max</th>\n",
       "      <td>85795.000000</td>\n",
       "      <td>1.000000</td>\n",
       "      <td>10.000000</td>\n",
       "      <td>0.751990</td>\n",
       "      <td>0.751990</td>\n",
       "      <td>0.751990</td>\n",
       "      <td>0.751990</td>\n",
       "    </tr>\n",
       "  </tbody>\n",
       "</table>\n",
       "</div>"
      ],
      "text/plain": [
       "                LNR      RESPONSE    Cluster_ID           LGB       Average  \\\n",
       "count  63638.000000  63638.000000  63638.000000  63638.000000  63638.000000   \n",
       "mean   41883.468447      0.500000      6.385210      0.500000      0.500000   \n",
       "std    24691.440078      0.500004      2.881626      0.202113      0.202113   \n",
       "min        1.000000      0.000000      0.000000      0.019964      0.019964   \n",
       "25%    20316.000000      0.000000      3.000000      0.283115      0.283115   \n",
       "50%    41689.500000      0.500000      7.000000      0.508763      0.508763   \n",
       "75%    63109.000000      1.000000      9.000000      0.695217      0.695217   \n",
       "max    85795.000000      1.000000     10.000000      0.751990      0.751990   \n",
       "\n",
       "       Cluster_Align  General_Cluster  \n",
       "count   63638.000000     63638.000000  \n",
       "mean        0.500000         0.500000  \n",
       "std         0.202113         0.201063  \n",
       "min         0.019964         0.019964  \n",
       "25%         0.283115         0.283449  \n",
       "50%         0.508763         0.508763  \n",
       "75%         0.691570         0.693552  \n",
       "max         0.751990         0.751990  "
      ]
     },
     "execution_count": 22,
     "metadata": {},
     "output_type": "execute_result"
    },
    {
     "data": {
      "image/png": "[encoded data removed]",
      "text/plain": [
       "<Figure size 720x216 with 2 Axes>"
      ]
     },
     "metadata": {},
     "output_type": "display_data"
    },
    {
     "data": {
      "image/png": "[encoded data removed]",
      "text/plain": [
       "<Figure size 720x216 with 2 Axes>"
      ]
     },
     "metadata": {},
     "output_type": "display_data"
    }
   ],
   "source": [
    "df_train_result = cluster_predict(best_estimator_LGB, best_estimator_cluster6, X_train_over, y_train_over, 6, plot = True)\n",
    "df_train_result.describe()"
   ]
  },
  {
   "cell_type": "markdown",
   "metadata": {},
   "source": [
    "### Comparison of AUCs before and after the Cluster Augmentation on Testset"
   ]
  },
  {
   "cell_type": "code",
   "execution_count": 23,
   "metadata": {
    "scrolled": true
   },
   "outputs": [
    {
     "name": "stdout",
     "output_type": "stream",
     "text": [
      "General  AUC Score:  0.7603862930189313\n",
      "General_Cluster AUC Score:  0.7583270388234119\n"
     ]
    },
    {
     "data": {
      "text/html": [
       "<div>\n",
       "<style scoped>\n",
       "    .dataframe tbody tr th:only-of-type {\n",
       "        vertical-align: middle;\n",
       "    }\n",
       "\n",
       "    .dataframe tbody tr th {\n",
       "        vertical-align: top;\n",
       "    }\n",
       "\n",
       "    .dataframe thead th {\n",
       "        text-align: right;\n",
       "    }\n",
       "</style>\n",
       "<table border=\"1\" class=\"dataframe\">\n",
       "  <thead>\n",
       "    <tr style=\"text-align: right;\">\n",
       "      <th></th>\n",
       "      <th>LNR</th>\n",
       "      <th>RESPONSE</th>\n",
       "      <th>Cluster_ID</th>\n",
       "      <th>LGB</th>\n",
       "      <th>Average</th>\n",
       "      <th>Cluster_Align</th>\n",
       "      <th>General_Cluster</th>\n",
       "    </tr>\n",
       "  </thead>\n",
       "  <tbody>\n",
       "    <tr>\n",
       "      <th>count</th>\n",
       "      <td>10745.000000</td>\n",
       "      <td>10745.000000</td>\n",
       "      <td>10745.000000</td>\n",
       "      <td>10745.000000</td>\n",
       "      <td>10745.000000</td>\n",
       "      <td>10745.000000</td>\n",
       "      <td>10745.000000</td>\n",
       "    </tr>\n",
       "    <tr>\n",
       "      <th>mean</th>\n",
       "      <td>42912.878734</td>\n",
       "      <td>0.012471</td>\n",
       "      <td>6.384551</td>\n",
       "      <td>0.386060</td>\n",
       "      <td>0.386060</td>\n",
       "      <td>0.386060</td>\n",
       "      <td>0.386060</td>\n",
       "    </tr>\n",
       "    <tr>\n",
       "      <th>std</th>\n",
       "      <td>24748.308493</td>\n",
       "      <td>0.110980</td>\n",
       "      <td>2.882746</td>\n",
       "      <td>0.199310</td>\n",
       "      <td>0.199310</td>\n",
       "      <td>0.199310</td>\n",
       "      <td>0.197727</td>\n",
       "    </tr>\n",
       "    <tr>\n",
       "      <th>min</th>\n",
       "      <td>5.000000</td>\n",
       "      <td>0.000000</td>\n",
       "      <td>0.000000</td>\n",
       "      <td>0.055639</td>\n",
       "      <td>0.055639</td>\n",
       "      <td>0.055639</td>\n",
       "      <td>0.055639</td>\n",
       "    </tr>\n",
       "    <tr>\n",
       "      <th>25%</th>\n",
       "      <td>21597.000000</td>\n",
       "      <td>0.000000</td>\n",
       "      <td>3.000000</td>\n",
       "      <td>0.214661</td>\n",
       "      <td>0.214661</td>\n",
       "      <td>0.212689</td>\n",
       "      <td>0.214752</td>\n",
       "    </tr>\n",
       "    <tr>\n",
       "      <th>50%</th>\n",
       "      <td>42794.000000</td>\n",
       "      <td>0.000000</td>\n",
       "      <td>7.000000</td>\n",
       "      <td>0.290526</td>\n",
       "      <td>0.290526</td>\n",
       "      <td>0.293394</td>\n",
       "      <td>0.293781</td>\n",
       "    </tr>\n",
       "    <tr>\n",
       "      <th>75%</th>\n",
       "      <td>64581.000000</td>\n",
       "      <td>0.000000</td>\n",
       "      <td>9.000000</td>\n",
       "      <td>0.524033</td>\n",
       "      <td>0.524033</td>\n",
       "      <td>0.522878</td>\n",
       "      <td>0.519970</td>\n",
       "    </tr>\n",
       "    <tr>\n",
       "      <th>max</th>\n",
       "      <td>85774.000000</td>\n",
       "      <td>1.000000</td>\n",
       "      <td>10.000000</td>\n",
       "      <td>0.746238</td>\n",
       "      <td>0.746238</td>\n",
       "      <td>0.768323</td>\n",
       "      <td>0.746324</td>\n",
       "    </tr>\n",
       "  </tbody>\n",
       "</table>\n",
       "</div>"
      ],
      "text/plain": [
       "                LNR      RESPONSE    Cluster_ID           LGB       Average  \\\n",
       "count  10745.000000  10745.000000  10745.000000  10745.000000  10745.000000   \n",
       "mean   42912.878734      0.012471      6.384551      0.386060      0.386060   \n",
       "std    24748.308493      0.110980      2.882746      0.199310      0.199310   \n",
       "min        5.000000      0.000000      0.000000      0.055639      0.055639   \n",
       "25%    21597.000000      0.000000      3.000000      0.214661      0.214661   \n",
       "50%    42794.000000      0.000000      7.000000      0.290526      0.290526   \n",
       "75%    64581.000000      0.000000      9.000000      0.524033      0.524033   \n",
       "max    85774.000000      1.000000     10.000000      0.746238      0.746238   \n",
       "\n",
       "       Cluster_Align  General_Cluster  \n",
       "count   10745.000000     10745.000000  \n",
       "mean        0.386060         0.386060  \n",
       "std         0.199310         0.197727  \n",
       "min         0.055639         0.055639  \n",
       "25%         0.212689         0.214752  \n",
       "50%         0.293394         0.293781  \n",
       "75%         0.522878         0.519970  \n",
       "max         0.768323         0.746324  "
      ]
     },
     "execution_count": 23,
     "metadata": {},
     "output_type": "execute_result"
    },
    {
     "data": {
      "image/png": "[encoded data removed]",
      "text/plain": [
       "<Figure size 720x216 with 2 Axes>"
      ]
     },
     "metadata": {},
     "output_type": "display_data"
    },
    {
     "data": {
      "image/png": "[encoded data removed]",
      "text/plain": [
       "<Figure size 720x216 with 2 Axes>"
      ]
     },
     "metadata": {},
     "output_type": "display_data"
    }
   ],
   "source": [
    "df_test_result = cluster_predict(best_estimator_LGB, best_estimator_cluster6, X_test_cleaned, y_test, 6, plot = True)\n",
    "df_test_result.describe()"
   ]
  },
  {
   "cell_type": "markdown",
   "metadata": {},
   "source": [
    "#### Save the Cluster Model"
   ]
  },
  {
   "cell_type": "code",
   "execution_count": 24,
   "metadata": {},
   "outputs": [
    {
     "data": {
      "text/plain": [
       "['savefile/LGB_model_cluster.save']"
      ]
     },
     "execution_count": 24,
     "metadata": {},
     "output_type": "execute_result"
    }
   ],
   "source": [
    "model_filename = \"savefile/LGB_model_cluster.save\"\n",
    "joblib.dump(best_estimator_cluster6, model_filename)"
   ]
  },
  {
   "cell_type": "markdown",
   "metadata": {},
   "source": [
    "### 3.1.3 Submission to Kaggle"
   ]
  },
  {
   "cell_type": "code",
   "execution_count": 26,
   "metadata": {},
   "outputs": [
    {
     "name": "stdout",
     "output_type": "stream",
     "text": [
      "\n",
      " The new dataset dimension is: (42833, 476)\n",
      "\n",
      " Sanity Check: The dimension of the dataset is: (42833, 476)\n",
      "There are 0 columns of non-numeric dtype.\n",
      "There are 0 columns containing missing values.\n"
     ]
    }
   ],
   "source": [
    "# load testing dataset\n",
    "mailout_test = pd.read_csv('data/Udacity_MAILOUT_052018_TEST.csv', sep=';', dtype={19:'str',20:'str'}).drop(columns = 'Unnamed: 0')\n",
    "# load predicted cluster_IDs obtained from step 1\n",
    "mailout_test_cluster = pd.read_csv('data/test_cluster_ID.csv', sep = '\\t').drop('Unnamed: 0', axis = 1)\n",
    "# data preprocessing\n",
    "X = mailout_test\n",
    "ID = mailout_test[['LNR']]\n",
    "X_cleaned, X_nan = clean_data(X, feat_nan_code, feat_cat, feature_to_drop = feature_to_drop, row_thres = 30, drop_row_NaN = False, print_step = False)\n",
    "X_kaggle = reshape_cols(X_cleaned, azdias_processed_columns)\n",
    "X_kaggle = X_kaggle.merge(mailout_test_cluster, how = 'left', on = 'LNR')\n",
    "y_kaggle = X_kaggle[['LNR']].copy().astype(int)\n",
    "y_kaggle['RESPONSE'] = np.nan"
   ]
  },
  {
   "cell_type": "markdown",
   "metadata": {},
   "source": [
    "#### Submit Predictions by a General LGBM Model "
   ]
  },
  {
   "cell_type": "code",
   "execution_count": 30,
   "metadata": {},
   "outputs": [],
   "source": [
    "y_kaggle_pred_agg = models_predict([best_estimator_LGB], X_kaggle, y_kaggle, columns = ['LGB'])\n",
    "df_result = y_kaggle_pred_agg[['LNR', 'Average']].set_index('LNR').rename(columns={\"Average\":\"RESPONSE\"})\n",
    "df_result.to_csv('kaggle_result/predictions2.csv', sep = ',')"
   ]
  },
  {
   "cell_type": "markdown",
   "metadata": {},
   "source": [
    "#### Submit Predictions by a General LGBM Combined with Cluster-Based Model"
   ]
  },
  {
   "cell_type": "code",
   "execution_count": 31,
   "metadata": {},
   "outputs": [],
   "source": [
    "df_kaggle_result = cluster_predict(best_estimator_LGB, best_estimator_cluster6, X_kaggle, y_kaggle, 6)\n",
    "df_out = df_kaggle_result[['LNR', 'General_Cluster']].set_index('LNR')\n",
    "df_out.columns = ['RESPONSE']\n",
    "df_out.to_csv('kaggle_result/predictions3.csv', sep = ',')"
   ]
  }
 ],
 "metadata": {
  "kernelspec": {
   "display_name": "Python 3",
   "language": "python",
   "name": "python3"
  },
  "language_info": {
   "codemirror_mode": {
    "name": "ipython",
    "version": 3
   },
   "file_extension": ".py",
   "mimetype": "text/x-python",
   "name": "python",
   "nbconvert_exporter": "python",
   "pygments_lexer": "ipython3",
   "version": "3.6.5"
  }
 },
 "nbformat": 4,
 "nbformat_minor": 2
}
